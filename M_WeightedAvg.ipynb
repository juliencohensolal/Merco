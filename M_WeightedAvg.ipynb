{
 "cells": [
  {
   "cell_type": "code",
   "execution_count": 1,
   "metadata": {
    "collapsed": false,
    "deletable": true,
    "editable": true
   },
   "outputs": [
    {
     "data": {
      "text/html": [
       "<style>.container { width: 90% !important; }</style>"
      ],
      "text/plain": [
       "<IPython.core.display.HTML object>"
      ]
     },
     "metadata": {},
     "output_type": "display_data"
    }
   ],
   "source": [
    "# Imports\n",
    "import os\n",
    "import pandas as pd\n",
    "import numpy as np\n",
    "import datetime\n",
    "import warnings\n",
    "import matplotlib.pyplot as plt\n",
    "import seaborn as sns\n",
    "from scipy.optimize import minimize\n",
    "from sklearn.metrics import r2_score\n",
    "from IPython.display import HTML, display\n",
    "\n",
    "# Definitions\n",
    "pd.set_option('display.float_format', lambda x: '%.3f' % x)\n",
    "%matplotlib inline\n",
    "display(HTML(\"<style>.container { width: 90% !important; }</style>\"))\n",
    "warnings.simplefilter('ignore')\n",
    "N_JOBS = -1\n",
    "SEED = 2017"
   ]
  },
  {
   "cell_type": "code",
   "execution_count": 2,
   "metadata": {
    "collapsed": true
   },
   "outputs": [],
   "source": [
    "# Stack all single Level 1 models OOF and test preds as entries for a Level 2 model\n",
    "def get_level_one_data() :\n",
    "    level_one_preds = pd.DataFrame()\n",
    "    i = 0\n",
    "    root_dir = \"oof_preds/\"\n",
    "    for file_name in sorted(os.listdir(root_dir)) :\n",
    "        preds_OOF = pd.read_csv(root_dir + file_name)\n",
    "        cur_preds_OOF = pd.Series(preds_OOF.y, name = file_name[0:7])\n",
    "        level_one_preds = pd.concat([level_one_preds, cur_preds_OOF], axis = 1)\n",
    "        i += 1\n",
    "    display(level_one_preds.head())\n",
    "\n",
    "    level_one_targets = pd.DataFrame()\n",
    "    i = 0\n",
    "    root_dir = \"oof_targets/\"\n",
    "    for file_name in sorted(os.listdir(root_dir)) :\n",
    "        targets_OOF = pd.read_csv(root_dir + file_name)\n",
    "        cur_targets_OOF = pd.Series(targets_OOF.y, name = file_name[0:7])\n",
    "        level_one_targets = pd.concat([level_one_targets, cur_targets_OOF], axis = 1)\n",
    "        i += 1\n",
    "    display(level_one_targets.head())\n",
    "\n",
    "    # Same for test set preds\n",
    "    level_one_test = pd.DataFrame()\n",
    "    i = 0\n",
    "    root_dir = \"preds/\"\n",
    "    for file_name in sorted(os.listdir(root_dir)) :\n",
    "        preds_test = pd.read_csv(root_dir + file_name)\n",
    "        cur_preds_test = pd.Series(preds_test.y, name = file_name[0:7])\n",
    "        level_one_test = pd.concat([level_one_test, cur_preds_test], axis = 1)\n",
    "        i += 1\n",
    "    display(level_one_test.head())\n",
    "    \n",
    "    return(level_one_preds, level_one_targets, level_one_test)"
   ]
  },
  {
   "cell_type": "code",
   "execution_count": 25,
   "metadata": {
    "collapsed": true
   },
   "outputs": [],
   "source": [
    "# Plot predictions\n",
    "def plot_preds(targets, preds) :\n",
    "    plt.style.use(\"fivethirtyeight\")\n",
    "    plt.figure(figsize=(10, 4))\n",
    "    colormap = plt.cm.gist_rainbow\n",
    "    plt.gca().set_color_cycle([colormap(i) for i in np.linspace(0, 0.9, len(preds))])\n",
    "    plt.plot([50, 250], [50, 250], c = \"red\", linewidth = 2)\n",
    "    for i in range(len(preds)) :        \n",
    "        plt.scatter(targets[i], preds[i], marker = \"o\", s = 5, label = \"Model\" + str(i + 1))\n",
    "    plt.xlabel(\"Real y\")\n",
    "    plt.ylabel(\"Projected y\")\n",
    "    plt.legend()\n",
    "    plt.show()"
   ]
  },
  {
   "cell_type": "code",
   "execution_count": 26,
   "metadata": {
    "collapsed": true,
    "deletable": true,
    "editable": true
   },
   "outputs": [],
   "source": [
    "# Define function to minimize\n",
    "def target_func(weights) :\n",
    "    final_pred = 0\n",
    "    for weight, pred in zip(weights, preds_X_test):\n",
    "        final_pred += weight * pred\n",
    "    return(-r2_score(targets_X_test[0], final_pred))\n",
    "\n",
    "\n",
    "# Optimize ensemble weights on held out fold\n",
    "def optimize(preds_X_test) :\n",
    "    scores = []\n",
    "    weights = []\n",
    "    for i in range(100):\n",
    "        # Choose many random starting weights\n",
    "        starting_values = np.random.uniform(size = len(preds_X_test))\n",
    "\n",
    "        # Our weights are bound between 0 and 1\n",
    "        bounds = [(0, 1)] * len(preds_X_test)\n",
    "\n",
    "        res = minimize(\n",
    "            target_func, \n",
    "            starting_values, \n",
    "            method = \"SLSQP\", \n",
    "            bounds = bounds, \n",
    "            options = {\"maxiter\" : 10000})\n",
    "\n",
    "        scores.append(res[\"fun\"])\n",
    "        weights.append(res[\"x\"])\n",
    "\n",
    "    bestSC = -np.min(scores)\n",
    "    bestWght = weights[np.argmin(scores)]\n",
    "\n",
    "    print(\"\\n Ensemble Score: {}\".format(bestSC))\n",
    "    print(\"\\n Best Weights: {}\".format(bestWght))\n",
    "\n",
    "    return(bestSC, bestWght)"
   ]
  },
  {
   "cell_type": "markdown",
   "metadata": {
    "deletable": true,
    "editable": true
   },
   "source": [
    "<b>Script</b>"
   ]
  },
  {
   "cell_type": "code",
   "execution_count": 27,
   "metadata": {
    "collapsed": false,
    "deletable": true,
    "editable": true
   },
   "outputs": [],
   "source": [
    "# Get data\n",
    "init_test = pd.read_csv(\"raw_data/test.csv\")\n",
    "test_ids = init_test.ID.values\n"
   ]
  },
  {
   "cell_type": "code",
   "execution_count": 28,
   "metadata": {
    "collapsed": false,
    "deletable": true,
    "editable": true
   },
   "outputs": [
    {
     "data": {
      "text/html": [
       "<div>\n",
       "<table border=\"1\" class=\"dataframe\">\n",
       "  <thead>\n",
       "    <tr style=\"text-align: right;\">\n",
       "      <th></th>\n",
       "      <th>et_dc15</th>\n",
       "      <th>et_dc16</th>\n",
       "      <th>et_dc17</th>\n",
       "      <th>et_dc18</th>\n",
       "      <th>xg_dc15</th>\n",
       "      <th>xg_dc16</th>\n",
       "      <th>xg_dc17</th>\n",
       "      <th>xg_dc18</th>\n",
       "    </tr>\n",
       "  </thead>\n",
       "  <tbody>\n",
       "    <tr>\n",
       "      <th>0</th>\n",
       "      <td>94.137</td>\n",
       "      <td>93.734</td>\n",
       "      <td>94.012</td>\n",
       "      <td>93.810</td>\n",
       "      <td>93.682</td>\n",
       "      <td>94.276</td>\n",
       "      <td>93.945</td>\n",
       "      <td>94.053</td>\n",
       "    </tr>\n",
       "    <tr>\n",
       "      <th>1</th>\n",
       "      <td>93.899</td>\n",
       "      <td>94.226</td>\n",
       "      <td>93.928</td>\n",
       "      <td>94.115</td>\n",
       "      <td>93.959</td>\n",
       "      <td>95.249</td>\n",
       "      <td>93.869</td>\n",
       "      <td>96.174</td>\n",
       "    </tr>\n",
       "    <tr>\n",
       "      <th>2</th>\n",
       "      <td>93.594</td>\n",
       "      <td>93.642</td>\n",
       "      <td>93.542</td>\n",
       "      <td>93.658</td>\n",
       "      <td>91.028</td>\n",
       "      <td>91.669</td>\n",
       "      <td>90.933</td>\n",
       "      <td>91.814</td>\n",
       "    </tr>\n",
       "    <tr>\n",
       "      <th>3</th>\n",
       "      <td>93.972</td>\n",
       "      <td>93.755</td>\n",
       "      <td>94.024</td>\n",
       "      <td>93.811</td>\n",
       "      <td>89.190</td>\n",
       "      <td>91.338</td>\n",
       "      <td>90.022</td>\n",
       "      <td>90.749</td>\n",
       "    </tr>\n",
       "    <tr>\n",
       "      <th>4</th>\n",
       "      <td>94.246</td>\n",
       "      <td>93.829</td>\n",
       "      <td>94.300</td>\n",
       "      <td>93.892</td>\n",
       "      <td>94.379</td>\n",
       "      <td>93.501</td>\n",
       "      <td>94.018</td>\n",
       "      <td>93.164</td>\n",
       "    </tr>\n",
       "  </tbody>\n",
       "</table>\n",
       "</div>"
      ],
      "text/plain": [
       "   et_dc15  et_dc16  et_dc17  et_dc18  xg_dc15  xg_dc16  xg_dc17  xg_dc18\n",
       "0   94.137   93.734   94.012   93.810   93.682   94.276   93.945   94.053\n",
       "1   93.899   94.226   93.928   94.115   93.959   95.249   93.869   96.174\n",
       "2   93.594   93.642   93.542   93.658   91.028   91.669   90.933   91.814\n",
       "3   93.972   93.755   94.024   93.811   89.190   91.338   90.022   90.749\n",
       "4   94.246   93.829   94.300   93.892   94.379   93.501   94.018   93.164"
      ]
     },
     "metadata": {},
     "output_type": "display_data"
    },
    {
     "data": {
      "text/html": [
       "<div>\n",
       "<table border=\"1\" class=\"dataframe\">\n",
       "  <thead>\n",
       "    <tr style=\"text-align: right;\">\n",
       "      <th></th>\n",
       "      <th>et_dc15</th>\n",
       "      <th>et_dc16</th>\n",
       "      <th>et_dc17</th>\n",
       "      <th>et_dc18</th>\n",
       "      <th>xg_dc15</th>\n",
       "      <th>xg_dc16</th>\n",
       "      <th>xg_dc17</th>\n",
       "      <th>xg_dc18</th>\n",
       "    </tr>\n",
       "  </thead>\n",
       "  <tbody>\n",
       "    <tr>\n",
       "      <th>0</th>\n",
       "      <td>99.150</td>\n",
       "      <td>99.150</td>\n",
       "      <td>99.150</td>\n",
       "      <td>99.150</td>\n",
       "      <td>99.150</td>\n",
       "      <td>99.150</td>\n",
       "      <td>99.150</td>\n",
       "      <td>99.150</td>\n",
       "    </tr>\n",
       "    <tr>\n",
       "      <th>1</th>\n",
       "      <td>91.980</td>\n",
       "      <td>91.980</td>\n",
       "      <td>91.980</td>\n",
       "      <td>91.980</td>\n",
       "      <td>91.980</td>\n",
       "      <td>91.980</td>\n",
       "      <td>91.980</td>\n",
       "      <td>91.980</td>\n",
       "    </tr>\n",
       "    <tr>\n",
       "      <th>2</th>\n",
       "      <td>91.520</td>\n",
       "      <td>91.520</td>\n",
       "      <td>91.520</td>\n",
       "      <td>91.520</td>\n",
       "      <td>91.520</td>\n",
       "      <td>91.520</td>\n",
       "      <td>91.520</td>\n",
       "      <td>91.520</td>\n",
       "    </tr>\n",
       "    <tr>\n",
       "      <th>3</th>\n",
       "      <td>91.570</td>\n",
       "      <td>91.570</td>\n",
       "      <td>91.570</td>\n",
       "      <td>91.570</td>\n",
       "      <td>91.570</td>\n",
       "      <td>91.570</td>\n",
       "      <td>91.570</td>\n",
       "      <td>91.570</td>\n",
       "    </tr>\n",
       "    <tr>\n",
       "      <th>4</th>\n",
       "      <td>90.110</td>\n",
       "      <td>90.110</td>\n",
       "      <td>90.110</td>\n",
       "      <td>90.110</td>\n",
       "      <td>90.110</td>\n",
       "      <td>90.110</td>\n",
       "      <td>90.110</td>\n",
       "      <td>90.110</td>\n",
       "    </tr>\n",
       "  </tbody>\n",
       "</table>\n",
       "</div>"
      ],
      "text/plain": [
       "   et_dc15  et_dc16  et_dc17  et_dc18  xg_dc15  xg_dc16  xg_dc17  xg_dc18\n",
       "0   99.150   99.150   99.150   99.150   99.150   99.150   99.150   99.150\n",
       "1   91.980   91.980   91.980   91.980   91.980   91.980   91.980   91.980\n",
       "2   91.520   91.520   91.520   91.520   91.520   91.520   91.520   91.520\n",
       "3   91.570   91.570   91.570   91.570   91.570   91.570   91.570   91.570\n",
       "4   90.110   90.110   90.110   90.110   90.110   90.110   90.110   90.110"
      ]
     },
     "metadata": {},
     "output_type": "display_data"
    },
    {
     "data": {
      "text/html": [
       "<div>\n",
       "<table border=\"1\" class=\"dataframe\">\n",
       "  <thead>\n",
       "    <tr style=\"text-align: right;\">\n",
       "      <th></th>\n",
       "      <th>et_dc15</th>\n",
       "      <th>et_dc16</th>\n",
       "      <th>et_dc17</th>\n",
       "      <th>et_dc18</th>\n",
       "      <th>xg_dc15</th>\n",
       "      <th>xg_dc16</th>\n",
       "      <th>xg_dc17</th>\n",
       "      <th>xg_dc18</th>\n",
       "    </tr>\n",
       "  </thead>\n",
       "  <tbody>\n",
       "    <tr>\n",
       "      <th>0</th>\n",
       "      <td>76.011</td>\n",
       "      <td>76.316</td>\n",
       "      <td>75.957</td>\n",
       "      <td>76.195</td>\n",
       "      <td>74.140</td>\n",
       "      <td>75.544</td>\n",
       "      <td>74.446</td>\n",
       "      <td>74.821</td>\n",
       "    </tr>\n",
       "    <tr>\n",
       "      <th>1</th>\n",
       "      <td>93.743</td>\n",
       "      <td>93.648</td>\n",
       "      <td>93.755</td>\n",
       "      <td>93.723</td>\n",
       "      <td>93.592</td>\n",
       "      <td>94.128</td>\n",
       "      <td>93.958</td>\n",
       "      <td>95.023</td>\n",
       "    </tr>\n",
       "    <tr>\n",
       "      <th>2</th>\n",
       "      <td>77.018</td>\n",
       "      <td>77.279</td>\n",
       "      <td>77.148</td>\n",
       "      <td>77.334</td>\n",
       "      <td>78.605</td>\n",
       "      <td>77.937</td>\n",
       "      <td>79.130</td>\n",
       "      <td>78.851</td>\n",
       "    </tr>\n",
       "    <tr>\n",
       "      <th>3</th>\n",
       "      <td>77.771</td>\n",
       "      <td>77.229</td>\n",
       "      <td>77.621</td>\n",
       "      <td>77.242</td>\n",
       "      <td>76.797</td>\n",
       "      <td>76.769</td>\n",
       "      <td>77.272</td>\n",
       "      <td>76.148</td>\n",
       "    </tr>\n",
       "    <tr>\n",
       "      <th>4</th>\n",
       "      <td>112.600</td>\n",
       "      <td>112.514</td>\n",
       "      <td>112.392</td>\n",
       "      <td>112.380</td>\n",
       "      <td>115.648</td>\n",
       "      <td>116.533</td>\n",
       "      <td>116.086</td>\n",
       "      <td>116.842</td>\n",
       "    </tr>\n",
       "  </tbody>\n",
       "</table>\n",
       "</div>"
      ],
      "text/plain": [
       "   et_dc15  et_dc16  et_dc17  et_dc18  xg_dc15  xg_dc16  xg_dc17  xg_dc18\n",
       "0   76.011   76.316   75.957   76.195   74.140   75.544   74.446   74.821\n",
       "1   93.743   93.648   93.755   93.723   93.592   94.128   93.958   95.023\n",
       "2   77.018   77.279   77.148   77.334   78.605   77.937   79.130   78.851\n",
       "3   77.771   77.229   77.621   77.242   76.797   76.769   77.272   76.148\n",
       "4  112.600  112.514  112.392  112.380  115.648  116.533  116.086  116.842"
      ]
     },
     "metadata": {},
     "output_type": "display_data"
    }
   ],
   "source": [
    "# Create Level 2 inputs\n",
    "level_one_preds, level_one_targets, level_one_test = get_level_one_data()"
   ]
  },
  {
   "cell_type": "code",
   "execution_count": 29,
   "metadata": {
    "collapsed": false,
    "deletable": true,
    "editable": true
   },
   "outputs": [
    {
     "name": "stdout",
     "output_type": "stream",
     "text": [
      "Global OOF r2_score for et_dc15 : 0.565294522163\n",
      "Global OOF r2_score for et_dc16 : 0.565669520961\n",
      "Global OOF r2_score for et_dc17 : 0.565541491704\n",
      "Global OOF r2_score for et_dc18 : 0.56567092276\n",
      "Global OOF r2_score for xg_dc15 : 0.557999942659\n",
      "Global OOF r2_score for xg_dc16 : 0.559381006647\n",
      "Global OOF r2_score for xg_dc17 : 0.558157275662\n",
      "Global OOF r2_score for xg_dc18 : 0.560524215663\n"
     ]
    },
    {
     "data": {
      "image/png": "[encoded data removed]",
      "text/plain": [
       "<matplotlib.figure.Figure at 0x168a779abe0>"
      ]
     },
     "metadata": {},
     "output_type": "display_data"
    }
   ],
   "source": [
    "# Get error of each OOF column\n",
    "preds_X_test = []\n",
    "targets_X_test = []\n",
    "for col in level_one_preds.columns :\n",
    "    cv_score = r2_score(level_one_targets[col], level_one_preds[col])\n",
    "    print(\"Global OOF r2_score for \" + col + \" : \" + str(cv_score))\n",
    "    preds_X_test.append(level_one_preds[col])\n",
    "    targets_X_test.append(level_one_targets[col])\n",
    "plot_preds(targets_X_test, preds_X_test)\n"
   ]
  },
  {
   "cell_type": "code",
   "execution_count": 30,
   "metadata": {
    "collapsed": false,
    "deletable": true,
    "editable": true
   },
   "outputs": [
    {
     "name": "stdout",
     "output_type": "stream",
     "text": [
      "\n",
      " Ensemble Score: 0.5687610790429573\n",
      "\n",
      " Best Weights: [ 0.06082568  0.20673381  0.22521356  0.18430396  0.07394248  0.\n",
      "  0.00545289  0.24633437]\n"
     ]
    }
   ],
   "source": [
    "# Optimize weights\n",
    "bestSC, bestWght = optimize(preds_X_test)"
   ]
  },
  {
   "cell_type": "code",
   "execution_count": 31,
   "metadata": {
    "collapsed": false,
    "deletable": true,
    "editable": true,
    "scrolled": false
   },
   "outputs": [],
   "source": [
    "# Prepare submission using optimal weights\n",
    "preds = 0\n",
    "for i in range(0, len(bestWght)) :\n",
    "    preds = preds + (bestWght[i] * level_one_test[[i]].values)"
   ]
  },
  {
   "cell_type": "code",
   "execution_count": 34,
   "metadata": {
    "collapsed": false,
    "deletable": true,
    "editable": true
   },
   "outputs": [],
   "source": [
    "# Save predictions\n",
    "file_name = \"ens_preds/avg_\" + str(level_one_preds.shape[1]) + \".csv\"\n",
    "pd.DataFrame({\"ID\": init_test.ID.values, \"y\": pd.DataFrame(preds)[0]}).to_csv(file_name, index = False)\n"
   ]
  },
  {
   "cell_type": "code",
   "execution_count": 35,
   "metadata": {
    "collapsed": false,
    "deletable": true,
    "editable": true
   },
   "outputs": [
    {
     "data": {
      "text/plain": [
       "0       75.869\n",
       "1       94.291\n",
       "2       77.956\n",
       "3       77.271\n",
       "4      114.100\n",
       "5       93.667\n",
       "6      113.801\n",
       "7       95.172\n",
       "8      116.766\n",
       "9       95.043\n",
       "10     116.142\n",
       "11     109.934\n",
       "12     102.481\n",
       "13      96.402\n",
       "14     105.086\n",
       "15     104.361\n",
       "16     117.937\n",
       "17     104.775\n",
       "18      96.539\n",
       "19      94.700\n",
       "20     101.898\n",
       "21     101.298\n",
       "22      94.640\n",
       "23      96.745\n",
       "24      93.028\n",
       "25     121.351\n",
       "26     102.492\n",
       "27     104.371\n",
       "28      94.054\n",
       "29      78.251\n",
       "         ...  \n",
       "4179   110.928\n",
       "4180   102.515\n",
       "4181    93.787\n",
       "4182    93.234\n",
       "4183   102.522\n",
       "4184   110.729\n",
       "4185    92.613\n",
       "4186    93.629\n",
       "4187   111.179\n",
       "4188   110.612\n",
       "4189    92.782\n",
       "4190   113.833\n",
       "4191    92.579\n",
       "4192   103.548\n",
       "4193    93.300\n",
       "4194   111.808\n",
       "4195    93.919\n",
       "4196   103.679\n",
       "4197   102.712\n",
       "4198   113.827\n",
       "4199    92.784\n",
       "4200    92.125\n",
       "4201    93.635\n",
       "4202   111.842\n",
       "4203   110.247\n",
       "4204   103.704\n",
       "4205    95.178\n",
       "4206    93.467\n",
       "4207   110.990\n",
       "4208    93.383\n",
       "Name: 0, dtype: float64"
      ]
     },
     "execution_count": 35,
     "metadata": {},
     "output_type": "execute_result"
    }
   ],
   "source": [
    "pd.DataFrame(preds)[0]"
   ]
  },
  {
   "cell_type": "code",
   "execution_count": null,
   "metadata": {
    "collapsed": false,
    "deletable": true,
    "editable": true
   },
   "outputs": [],
   "source": [
    "'''# Get validation set data\n",
    "la_preds_X_test = np.array(pd.read_csv(\"preds/la_preds_X_test.csv\", header = None))\n",
    "et_preds_X_test = np.array(pd.read_csv(\"preds/et_preds_X_test.csv\", header = None))\n",
    "xg_preds_X_test = np.array(pd.read_csv(\"preds/xg_preds_X_test.csv\", header = None))\n",
    "\n",
    "# Get test set data\n",
    "la_preds_test = np.array(pd.read_csv(\"preds/la_preds_test.csv\"))\n",
    "et_preds_test = np.array(pd.read_csv(\"preds/et_preds_test.csv\"))\n",
    "xg_preds_test = np.array(pd.read_csv(\"preds/xg_preds_test.csv\"))\n",
    "\n",
    "preds_X_test = []\n",
    "preds_X_test.append(la_preds_X_test[:, 0])\n",
    "preds_X_test.append(et_preds_X_test[:, 0])\n",
    "preds_X_test.append(xg_preds_X_test[:, 0])\n",
    "\n",
    "preds_test = []\n",
    "preds_test.append(la_preds_test[:, 1])\n",
    "preds_test.append(et_preds_test[:, 1])\n",
    "preds_test.append(xg_preds_test[:, 1])\n",
    "\n",
    "names = []\n",
    "names.append(\"la\")\n",
    "names.append(\"et\")\n",
    "names.append(\"xg\")'''\n"
   ]
  },
  {
   "cell_type": "code",
   "execution_count": null,
   "metadata": {
    "collapsed": false,
    "deletable": true,
    "editable": true
   },
   "outputs": [],
   "source": [
    "'''# Scores of single models on validation set\n",
    "print(\"la on held out fold : \" + str(r2_score(X_test_y, la_preds_X_test)))\n",
    "print(\"et on held out fold : \" + str(r2_score(X_test_y, et_preds_X_test)))\n",
    "print(\"xg on held out fold : \" + str(r2_score(X_test_y, xg_preds_X_test)))'''\n"
   ]
  },
  {
   "cell_type": "code",
   "execution_count": null,
   "metadata": {
    "collapsed": false,
    "deletable": true,
    "editable": true,
    "scrolled": true
   },
   "outputs": [],
   "source": [
    "'''# Optimize weights\n",
    "bestSC, bestWght, names = optimize(preds_X_test, names)'''"
   ]
  },
  {
   "cell_type": "code",
   "execution_count": null,
   "metadata": {
    "collapsed": false,
    "deletable": true,
    "editable": true
   },
   "outputs": [],
   "source": [
    "'''# Prepare submission using optimal weights\n",
    "preds = 0\n",
    "for i in range(0, len(bestWght)) :\n",
    "    (bestWght[i] * preds_test[i])\n",
    "    preds += (bestWght[i] * preds_test[i])'''"
   ]
  },
  {
   "cell_type": "code",
   "execution_count": null,
   "metadata": {
    "collapsed": false,
    "deletable": true,
    "editable": true
   },
   "outputs": [],
   "source": [
    "'''# Save predictions\n",
    "pd.DataFrame({\"ID\": test_ids[0], \"y\": preds}).to_csv(\"preds/blend.csv\", index = False)'''\n"
   ]
  },
  {
   "cell_type": "code",
   "execution_count": null,
   "metadata": {
    "collapsed": true,
    "deletable": true,
    "editable": true
   },
   "outputs": [],
   "source": []
  }
 ],
 "metadata": {
  "kernelspec": {
   "display_name": "Python [Root]",
   "language": "python",
   "name": "Python [Root]"
  },
  "language_info": {
   "codemirror_mode": {
    "name": "ipython",
    "version": 3
   },
   "file_extension": ".py",
   "mimetype": "text/x-python",
   "name": "python",
   "nbconvert_exporter": "python",
   "pygments_lexer": "ipython3",
   "version": "3.5.2"
  },
  "widgets": {
   "state": {},
   "version": "1.1.2"
  }
 },
 "nbformat": 4,
 "nbformat_minor": 0
}
