{
 "cells": [
  {
   "cell_type": "code",
   "execution_count": 1,
   "metadata": {
    "collapsed": false,
    "deletable": true,
    "editable": true
   },
   "outputs": [
    {
     "data": {
      "text/html": [
       "<style>.container { width: 90% !important; }</style>"
      ],
      "text/plain": [
       "<IPython.core.display.HTML object>"
      ]
     },
     "metadata": {},
     "output_type": "display_data"
    }
   ],
   "source": [
    "# Imports\n",
    "import os\n",
    "import pandas as pd\n",
    "import numpy as np\n",
    "import datetime\n",
    "import warnings\n",
    "import matplotlib.pyplot as plt\n",
    "import seaborn as sns\n",
    "from scipy.optimize import minimize\n",
    "from sklearn.metrics import r2_score\n",
    "from IPython.display import HTML, display\n",
    "\n",
    "# Definitions\n",
    "pd.set_option('display.float_format', lambda x: '%.3f' % x)\n",
    "%matplotlib inline\n",
    "display(HTML(\"<style>.container { width: 90% !important; }</style>\"))\n",
    "warnings.simplefilter('ignore')\n",
    "N_JOBS = -1\n",
    "SEED = 2017"
   ]
  },
  {
   "cell_type": "code",
   "execution_count": 6,
   "metadata": {
    "collapsed": true
   },
   "outputs": [],
   "source": [
    "# Stack all single Level 1 models OOF and test preds as entries for a Level 2 model\n",
    "def get_level_one_outputs(OOF_targets) :\n",
    "    level_one_OOF = pd.DataFrame()\n",
    "    i = 0\n",
    "    root_dir = \"oof_preds/\"\n",
    "    for file_name in sorted(os.listdir(root_dir)) :\n",
    "        preds_OOF = pd.read_csv(root_dir + file_name)\n",
    "        cur_preds_OOF = pd.Series(preds_OOF.y, name = file_name[0:7])\n",
    "        level_one_OOF = pd.concat([level_one_OOF, cur_preds_OOF], axis = 1)\n",
    "        i += 1\n",
    "    display(level_one_OOF.head())\n",
    "\n",
    "    # Same for test set preds\n",
    "    level_one_test = pd.DataFrame()\n",
    "    i = 0\n",
    "    root_dir = \"preds/\"\n",
    "    for file_name in sorted(os.listdir(root_dir)) :\n",
    "        preds_test = pd.read_csv(root_dir + file_name)\n",
    "        cur_preds_test = pd.Series(preds_test.y, name = file_name[0:7])\n",
    "        level_one_test = pd.concat([level_one_test, cur_preds_test], axis = 1)\n",
    "        i += 1\n",
    "    display(level_one_test.head())\n",
    "    \n",
    "    return(level_one_OOF, level_one_test)"
   ]
  },
  {
   "cell_type": "code",
   "execution_count": 7,
   "metadata": {
    "collapsed": true
   },
   "outputs": [],
   "source": [
    "# Plot predictions\n",
    "def plot_preds(targets, preds) :\n",
    "    plt.style.use(\"fivethirtyeight\")\n",
    "    plt.figure(figsize=(10, 4))\n",
    "    colormap = plt.cm.gist_ncar\n",
    "    plt.gca().set_color_cycle([colormap(i) for i in np.linspace(0, 0.9, len(preds))])\n",
    "    plt.plot([0, 50], [0, 300], c = \"red\", linewidth = 2)\n",
    "    for i in range(len(preds)) :        \n",
    "        plt.scatter(targets, preds[i], marker = \"o\", s = 5, label = \"Model\" + str(i + 1))\n",
    "    plt.xlabel(\"Real y\")\n",
    "    plt.ylabel(\"Projected y\")\n",
    "    plt.legend()\n",
    "    plt.show()"
   ]
  },
  {
   "cell_type": "code",
   "execution_count": 8,
   "metadata": {
    "collapsed": true,
    "deletable": true,
    "editable": true
   },
   "outputs": [],
   "source": [
    "# Define function to minimize\n",
    "def target_func(weights) :\n",
    "    final_prediction = 0\n",
    "    for weight, prediction in zip(weights, preds_X_test):\n",
    "        final_prediction += weight * prediction\n",
    "    return(-r2_score(OOF_targets.y, final_prediction))\n",
    "\n",
    "\n",
    "# Optimize ensemble weights on held out fold\n",
    "def optimize(preds_X_test) :\n",
    "    scores = []\n",
    "    weights = []\n",
    "    for i in range(100):\n",
    "        # Choose many random starting weights\n",
    "        starting_values = np.random.uniform(size = len(preds_X_test))\n",
    "\n",
    "        # Our weights are bound between 0 and 1\n",
    "        bounds = [(0, 1)] * len(preds_X_test)\n",
    "\n",
    "        res = minimize(\n",
    "            target_func, \n",
    "            starting_values, \n",
    "            method = \"SLSQP\", \n",
    "            bounds = bounds, \n",
    "            options = {\"maxiter\" : 10000})\n",
    "\n",
    "        scores.append(res[\"fun\"])\n",
    "        weights.append(res[\"x\"])\n",
    "\n",
    "    bestSC = -np.min(scores)\n",
    "    bestWght = weights[np.argmin(scores)]\n",
    "\n",
    "    print(\"\\n Ensemble Score: {}\".format(bestSC))\n",
    "    print(\"\\n Best Weights: {}\".format(bestWght))\n",
    "\n",
    "    return(bestSC, bestWght)"
   ]
  },
  {
   "cell_type": "markdown",
   "metadata": {
    "deletable": true,
    "editable": true
   },
   "source": [
    "<b>Script</b>"
   ]
  },
  {
   "cell_type": "code",
   "execution_count": 9,
   "metadata": {
    "collapsed": false,
    "deletable": true,
    "editable": true
   },
   "outputs": [
    {
     "data": {
      "text/html": [
       "<div>\n",
       "<table border=\"1\" class=\"dataframe\">\n",
       "  <thead>\n",
       "    <tr style=\"text-align: right;\">\n",
       "      <th></th>\n",
       "      <th>ID</th>\n",
       "      <th>y</th>\n",
       "    </tr>\n",
       "  </thead>\n",
       "  <tbody>\n",
       "    <tr>\n",
       "      <th>0</th>\n",
       "      <td>1</td>\n",
       "      <td>99.150</td>\n",
       "    </tr>\n",
       "    <tr>\n",
       "      <th>1</th>\n",
       "      <td>2</td>\n",
       "      <td>91.980</td>\n",
       "    </tr>\n",
       "    <tr>\n",
       "      <th>2</th>\n",
       "      <td>3</td>\n",
       "      <td>91.520</td>\n",
       "    </tr>\n",
       "    <tr>\n",
       "      <th>3</th>\n",
       "      <td>4</td>\n",
       "      <td>91.570</td>\n",
       "    </tr>\n",
       "    <tr>\n",
       "      <th>4</th>\n",
       "      <td>5</td>\n",
       "      <td>90.110</td>\n",
       "    </tr>\n",
       "  </tbody>\n",
       "</table>\n",
       "</div>"
      ],
      "text/plain": [
       "   ID      y\n",
       "0   1 99.150\n",
       "1   2 91.980\n",
       "2   3 91.520\n",
       "3   4 91.570\n",
       "4   5 90.110"
      ]
     },
     "metadata": {},
     "output_type": "display_data"
    }
   ],
   "source": [
    "# Get data\n",
    "OOF_targets = pd.read_csv(\"clean_data/OOF_targets.csv\")\n",
    "init_test = pd.read_csv(\"raw_data/test.csv\")\n",
    "test_ids = init_test.ID.values\n",
    "\n",
    "display(OOF_targets.head())"
   ]
  },
  {
   "cell_type": "code",
   "execution_count": 10,
   "metadata": {
    "collapsed": false,
    "deletable": true,
    "editable": true
   },
   "outputs": [
    {
     "data": {
      "text/html": [
       "<div>\n",
       "<table border=\"1\" class=\"dataframe\">\n",
       "  <thead>\n",
       "    <tr style=\"text-align: right;\">\n",
       "      <th></th>\n",
       "      <th>et_dc15</th>\n",
       "      <th>et_dc16</th>\n",
       "      <th>et_dc17</th>\n",
       "      <th>et_dc18</th>\n",
       "      <th>et_dc19</th>\n",
       "      <th>et_dc20</th>\n",
       "      <th>xg_dc15</th>\n",
       "      <th>xg_dc16</th>\n",
       "      <th>xg_dc17</th>\n",
       "      <th>xg_dc18</th>\n",
       "      <th>xg_dc19</th>\n",
       "      <th>xg_dc20</th>\n",
       "    </tr>\n",
       "  </thead>\n",
       "  <tbody>\n",
       "    <tr>\n",
       "      <th>0</th>\n",
       "      <td>93.633</td>\n",
       "      <td>93.613</td>\n",
       "      <td>93.642</td>\n",
       "      <td>93.635</td>\n",
       "      <td>93.696</td>\n",
       "      <td>93.711</td>\n",
       "      <td>94.170</td>\n",
       "      <td>93.896</td>\n",
       "      <td>92.817</td>\n",
       "      <td>93.582</td>\n",
       "      <td>94.268</td>\n",
       "      <td>93.549</td>\n",
       "    </tr>\n",
       "    <tr>\n",
       "      <th>1</th>\n",
       "      <td>93.838</td>\n",
       "      <td>94.145</td>\n",
       "      <td>93.893</td>\n",
       "      <td>94.162</td>\n",
       "      <td>93.930</td>\n",
       "      <td>94.041</td>\n",
       "      <td>94.164</td>\n",
       "      <td>95.514</td>\n",
       "      <td>93.873</td>\n",
       "      <td>95.439</td>\n",
       "      <td>94.164</td>\n",
       "      <td>94.902</td>\n",
       "    </tr>\n",
       "    <tr>\n",
       "      <th>2</th>\n",
       "      <td>93.407</td>\n",
       "      <td>93.346</td>\n",
       "      <td>93.266</td>\n",
       "      <td>93.385</td>\n",
       "      <td>93.333</td>\n",
       "      <td>93.497</td>\n",
       "      <td>90.890</td>\n",
       "      <td>91.675</td>\n",
       "      <td>90.846</td>\n",
       "      <td>91.561</td>\n",
       "      <td>90.932</td>\n",
       "      <td>91.555</td>\n",
       "    </tr>\n",
       "    <tr>\n",
       "      <th>3</th>\n",
       "      <td>93.894</td>\n",
       "      <td>93.744</td>\n",
       "      <td>93.947</td>\n",
       "      <td>93.810</td>\n",
       "      <td>94.081</td>\n",
       "      <td>93.750</td>\n",
       "      <td>89.279</td>\n",
       "      <td>90.510</td>\n",
       "      <td>89.449</td>\n",
       "      <td>91.293</td>\n",
       "      <td>89.725</td>\n",
       "      <td>90.990</td>\n",
       "    </tr>\n",
       "    <tr>\n",
       "      <th>4</th>\n",
       "      <td>94.192</td>\n",
       "      <td>93.768</td>\n",
       "      <td>94.207</td>\n",
       "      <td>93.771</td>\n",
       "      <td>94.294</td>\n",
       "      <td>93.831</td>\n",
       "      <td>94.547</td>\n",
       "      <td>93.463</td>\n",
       "      <td>94.465</td>\n",
       "      <td>93.755</td>\n",
       "      <td>94.396</td>\n",
       "      <td>93.907</td>\n",
       "    </tr>\n",
       "  </tbody>\n",
       "</table>\n",
       "</div>"
      ],
      "text/plain": [
       "   et_dc15  et_dc16  et_dc17  et_dc18  et_dc19  et_dc20  xg_dc15  xg_dc16  \\\n",
       "0   93.633   93.613   93.642   93.635   93.696   93.711   94.170   93.896   \n",
       "1   93.838   94.145   93.893   94.162   93.930   94.041   94.164   95.514   \n",
       "2   93.407   93.346   93.266   93.385   93.333   93.497   90.890   91.675   \n",
       "3   93.894   93.744   93.947   93.810   94.081   93.750   89.279   90.510   \n",
       "4   94.192   93.768   94.207   93.771   94.294   93.831   94.547   93.463   \n",
       "\n",
       "   xg_dc17  xg_dc18  xg_dc19  xg_dc20  \n",
       "0   92.817   93.582   94.268   93.549  \n",
       "1   93.873   95.439   94.164   94.902  \n",
       "2   90.846   91.561   90.932   91.555  \n",
       "3   89.449   91.293   89.725   90.990  \n",
       "4   94.465   93.755   94.396   93.907  "
      ]
     },
     "metadata": {},
     "output_type": "display_data"
    },
    {
     "data": {
      "text/html": [
       "<div>\n",
       "<table border=\"1\" class=\"dataframe\">\n",
       "  <thead>\n",
       "    <tr style=\"text-align: right;\">\n",
       "      <th></th>\n",
       "      <th>et_dc15</th>\n",
       "      <th>et_dc16</th>\n",
       "      <th>et_dc17</th>\n",
       "      <th>et_dc18</th>\n",
       "      <th>et_dc19</th>\n",
       "      <th>et_dc20</th>\n",
       "      <th>xg_dc15</th>\n",
       "      <th>xg_dc16</th>\n",
       "      <th>xg_dc17</th>\n",
       "      <th>xg_dc18</th>\n",
       "      <th>xg_dc19</th>\n",
       "      <th>xg_dc20</th>\n",
       "    </tr>\n",
       "  </thead>\n",
       "  <tbody>\n",
       "    <tr>\n",
       "      <th>0</th>\n",
       "      <td>75.893</td>\n",
       "      <td>76.320</td>\n",
       "      <td>75.927</td>\n",
       "      <td>76.277</td>\n",
       "      <td>76.134</td>\n",
       "      <td>76.531</td>\n",
       "      <td>74.369</td>\n",
       "      <td>75.761</td>\n",
       "      <td>74.410</td>\n",
       "      <td>75.386</td>\n",
       "      <td>74.336</td>\n",
       "      <td>75.876</td>\n",
       "    </tr>\n",
       "    <tr>\n",
       "      <th>1</th>\n",
       "      <td>93.852</td>\n",
       "      <td>93.632</td>\n",
       "      <td>93.884</td>\n",
       "      <td>93.680</td>\n",
       "      <td>93.754</td>\n",
       "      <td>93.764</td>\n",
       "      <td>94.994</td>\n",
       "      <td>94.770</td>\n",
       "      <td>94.697</td>\n",
       "      <td>94.399</td>\n",
       "      <td>96.554</td>\n",
       "      <td>94.848</td>\n",
       "    </tr>\n",
       "    <tr>\n",
       "      <th>2</th>\n",
       "      <td>76.968</td>\n",
       "      <td>77.346</td>\n",
       "      <td>77.353</td>\n",
       "      <td>77.362</td>\n",
       "      <td>77.290</td>\n",
       "      <td>77.294</td>\n",
       "      <td>79.332</td>\n",
       "      <td>78.784</td>\n",
       "      <td>79.060</td>\n",
       "      <td>78.761</td>\n",
       "      <td>79.793</td>\n",
       "      <td>79.056</td>\n",
       "    </tr>\n",
       "    <tr>\n",
       "      <th>3</th>\n",
       "      <td>77.787</td>\n",
       "      <td>77.418</td>\n",
       "      <td>77.641</td>\n",
       "      <td>77.158</td>\n",
       "      <td>77.840</td>\n",
       "      <td>77.349</td>\n",
       "      <td>76.799</td>\n",
       "      <td>76.739</td>\n",
       "      <td>77.274</td>\n",
       "      <td>76.604</td>\n",
       "      <td>76.859</td>\n",
       "      <td>76.543</td>\n",
       "    </tr>\n",
       "    <tr>\n",
       "      <th>4</th>\n",
       "      <td>112.413</td>\n",
       "      <td>112.611</td>\n",
       "      <td>112.542</td>\n",
       "      <td>112.568</td>\n",
       "      <td>112.518</td>\n",
       "      <td>112.520</td>\n",
       "      <td>115.185</td>\n",
       "      <td>115.414</td>\n",
       "      <td>117.067</td>\n",
       "      <td>116.204</td>\n",
       "      <td>116.415</td>\n",
       "      <td>115.469</td>\n",
       "    </tr>\n",
       "  </tbody>\n",
       "</table>\n",
       "</div>"
      ],
      "text/plain": [
       "   et_dc15  et_dc16  et_dc17  et_dc18  et_dc19  et_dc20  xg_dc15  xg_dc16  \\\n",
       "0   75.893   76.320   75.927   76.277   76.134   76.531   74.369   75.761   \n",
       "1   93.852   93.632   93.884   93.680   93.754   93.764   94.994   94.770   \n",
       "2   76.968   77.346   77.353   77.362   77.290   77.294   79.332   78.784   \n",
       "3   77.787   77.418   77.641   77.158   77.840   77.349   76.799   76.739   \n",
       "4  112.413  112.611  112.542  112.568  112.518  112.520  115.185  115.414   \n",
       "\n",
       "   xg_dc17  xg_dc18  xg_dc19  xg_dc20  \n",
       "0   74.410   75.386   74.336   75.876  \n",
       "1   94.697   94.399   96.554   94.848  \n",
       "2   79.060   78.761   79.793   79.056  \n",
       "3   77.274   76.604   76.859   76.543  \n",
       "4  117.067  116.204  116.415  115.469  "
      ]
     },
     "metadata": {},
     "output_type": "display_data"
    }
   ],
   "source": [
    "# Create Level 2 inputs\n",
    "level_one_OOF, level_one_test = get_level_one_outputs(OOF_targets)"
   ]
  },
  {
   "cell_type": "code",
   "execution_count": 11,
   "metadata": {
    "collapsed": false,
    "deletable": true,
    "editable": true
   },
   "outputs": [
    {
     "ename": "ValueError",
     "evalue": "Found input variables with inconsistent numbers of samples: [4209, 4244]",
     "output_type": "error",
     "traceback": [
      "\u001b[0;31m---------------------------------------------------------------------------\u001b[0m",
      "\u001b[0;31mValueError\u001b[0m                                Traceback (most recent call last)",
      "\u001b[0;32m<ipython-input-11-39eff098e73e>\u001b[0m in \u001b[0;36m<module>\u001b[0;34m()\u001b[0m\n\u001b[1;32m      2\u001b[0m \u001b[0mpreds_X_test\u001b[0m \u001b[0;34m=\u001b[0m \u001b[0;34m[\u001b[0m\u001b[0;34m]\u001b[0m\u001b[0;34m\u001b[0m\u001b[0m\n\u001b[1;32m      3\u001b[0m \u001b[0;32mfor\u001b[0m \u001b[0mcol\u001b[0m \u001b[0;32min\u001b[0m \u001b[0mlevel_one_OOF\u001b[0m\u001b[0;34m.\u001b[0m\u001b[0mcolumns\u001b[0m \u001b[0;34m:\u001b[0m\u001b[0;34m\u001b[0m\u001b[0m\n\u001b[0;32m----> 4\u001b[0;31m     \u001b[0mcv_score\u001b[0m \u001b[0;34m=\u001b[0m \u001b[0mr2_score\u001b[0m\u001b[0;34m(\u001b[0m\u001b[0mOOF_targets\u001b[0m\u001b[0;34m.\u001b[0m\u001b[0my\u001b[0m\u001b[0;34m,\u001b[0m \u001b[0mlevel_one_OOF\u001b[0m\u001b[0;34m[\u001b[0m\u001b[0mcol\u001b[0m\u001b[0;34m]\u001b[0m\u001b[0;34m)\u001b[0m\u001b[0;34m\u001b[0m\u001b[0m\n\u001b[0m\u001b[1;32m      5\u001b[0m     \u001b[0mprint\u001b[0m\u001b[0;34m(\u001b[0m\u001b[0;34m\"Global OOF r2_score for \"\u001b[0m \u001b[0;34m+\u001b[0m \u001b[0mcol\u001b[0m \u001b[0;34m+\u001b[0m \u001b[0;34m\" : \"\u001b[0m \u001b[0;34m+\u001b[0m \u001b[0mstr\u001b[0m\u001b[0;34m(\u001b[0m\u001b[0mcv_score\u001b[0m\u001b[0;34m)\u001b[0m\u001b[0;34m)\u001b[0m\u001b[0;34m\u001b[0m\u001b[0m\n\u001b[1;32m      6\u001b[0m \u001b[0;34m\u001b[0m\u001b[0m\n",
      "\u001b[0;32m/home/ubuntu/anaconda2/envs/jcs_dl/lib/python3.5/site-packages/sklearn/metrics/regression.py\u001b[0m in \u001b[0;36mr2_score\u001b[0;34m(y_true, y_pred, sample_weight, multioutput)\u001b[0m\n\u001b[1;32m    442\u001b[0m     \"\"\"\n\u001b[1;32m    443\u001b[0m     y_type, y_true, y_pred, multioutput = _check_reg_targets(\n\u001b[0;32m--> 444\u001b[0;31m         y_true, y_pred, multioutput)\n\u001b[0m\u001b[1;32m    445\u001b[0m \u001b[0;34m\u001b[0m\u001b[0m\n\u001b[1;32m    446\u001b[0m     \u001b[0;32mif\u001b[0m \u001b[0msample_weight\u001b[0m \u001b[0;32mis\u001b[0m \u001b[0;32mnot\u001b[0m \u001b[0;32mNone\u001b[0m\u001b[0;34m:\u001b[0m\u001b[0;34m\u001b[0m\u001b[0m\n",
      "\u001b[0;32m/home/ubuntu/anaconda2/envs/jcs_dl/lib/python3.5/site-packages/sklearn/metrics/regression.py\u001b[0m in \u001b[0;36m_check_reg_targets\u001b[0;34m(y_true, y_pred, multioutput)\u001b[0m\n\u001b[1;32m     72\u001b[0m \u001b[0;34m\u001b[0m\u001b[0m\n\u001b[1;32m     73\u001b[0m     \"\"\"\n\u001b[0;32m---> 74\u001b[0;31m     \u001b[0mcheck_consistent_length\u001b[0m\u001b[0;34m(\u001b[0m\u001b[0my_true\u001b[0m\u001b[0;34m,\u001b[0m \u001b[0my_pred\u001b[0m\u001b[0;34m)\u001b[0m\u001b[0;34m\u001b[0m\u001b[0m\n\u001b[0m\u001b[1;32m     75\u001b[0m     \u001b[0my_true\u001b[0m \u001b[0;34m=\u001b[0m \u001b[0mcheck_array\u001b[0m\u001b[0;34m(\u001b[0m\u001b[0my_true\u001b[0m\u001b[0;34m,\u001b[0m \u001b[0mensure_2d\u001b[0m\u001b[0;34m=\u001b[0m\u001b[0;32mFalse\u001b[0m\u001b[0;34m)\u001b[0m\u001b[0;34m\u001b[0m\u001b[0m\n\u001b[1;32m     76\u001b[0m     \u001b[0my_pred\u001b[0m \u001b[0;34m=\u001b[0m \u001b[0mcheck_array\u001b[0m\u001b[0;34m(\u001b[0m\u001b[0my_pred\u001b[0m\u001b[0;34m,\u001b[0m \u001b[0mensure_2d\u001b[0m\u001b[0;34m=\u001b[0m\u001b[0;32mFalse\u001b[0m\u001b[0;34m)\u001b[0m\u001b[0;34m\u001b[0m\u001b[0m\n",
      "\u001b[0;32m/home/ubuntu/anaconda2/envs/jcs_dl/lib/python3.5/site-packages/sklearn/utils/validation.py\u001b[0m in \u001b[0;36mcheck_consistent_length\u001b[0;34m(*arrays)\u001b[0m\n\u001b[1;32m    179\u001b[0m     \u001b[0;32mif\u001b[0m \u001b[0mlen\u001b[0m\u001b[0;34m(\u001b[0m\u001b[0muniques\u001b[0m\u001b[0;34m)\u001b[0m \u001b[0;34m>\u001b[0m \u001b[0;36m1\u001b[0m\u001b[0;34m:\u001b[0m\u001b[0;34m\u001b[0m\u001b[0m\n\u001b[1;32m    180\u001b[0m         raise ValueError(\"Found input variables with inconsistent numbers of\"\n\u001b[0;32m--> 181\u001b[0;31m                          \" samples: %r\" % [int(l) for l in lengths])\n\u001b[0m\u001b[1;32m    182\u001b[0m \u001b[0;34m\u001b[0m\u001b[0m\n\u001b[1;32m    183\u001b[0m \u001b[0;34m\u001b[0m\u001b[0m\n",
      "\u001b[0;31mValueError\u001b[0m: Found input variables with inconsistent numbers of samples: [4209, 4244]"
     ]
    }
   ],
   "source": [
    "# Get error of each OOF column\n",
    "preds_X_test = []\n",
    "for col in level_one_OOF.columns :\n",
    "    cv_score = r2_score(OOF_targets.y, level_one_OOF[col])\n",
    "    print(\"Global OOF r2_score for \" + col + \" : \" + str(cv_score))\n",
    "\n",
    "    preds_X_test.append(level_one_OOF[col])\n",
    "plot_preds(OOF_targets.y, preds_X_test)\n"
   ]
  },
  {
   "cell_type": "code",
   "execution_count": null,
   "metadata": {
    "collapsed": false,
    "deletable": true,
    "editable": true
   },
   "outputs": [],
   "source": [
    "# Optimize weights\n",
    "bestSC, bestWght = optimize(preds_X_test)"
   ]
  },
  {
   "cell_type": "code",
   "execution_count": null,
   "metadata": {
    "collapsed": false,
    "deletable": true,
    "editable": true,
    "scrolled": false
   },
   "outputs": [],
   "source": [
    "# Prepare submission using optimal weights\n",
    "preds = 0\n",
    "for i in range(0, len(bestWght)) :\n",
    "    preds = preds + (bestWght[i] * level_one_test[[i]].values)"
   ]
  },
  {
   "cell_type": "code",
   "execution_count": null,
   "metadata": {
    "collapsed": false,
    "deletable": true,
    "editable": true
   },
   "outputs": [],
   "source": [
    "pd.DataFrame(preds)[0]"
   ]
  },
  {
   "cell_type": "code",
   "execution_count": null,
   "metadata": {
    "collapsed": false,
    "deletable": true,
    "editable": true
   },
   "outputs": [],
   "source": [
    "# Save predictions\n",
    "file_name = \"ens_preds/avg_\" + str(level_one_OOF.shape[1]) + \".csv\"\n",
    "pd.DataFrame({\"ID\": init_test.ID.values, \"y\": pd.DataFrame(preds)[0]}).to_csv(file_name, index = False)\n"
   ]
  },
  {
   "cell_type": "code",
   "execution_count": null,
   "metadata": {
    "collapsed": false,
    "deletable": true,
    "editable": true
   },
   "outputs": [],
   "source": [
    "'''# Get validation set data\n",
    "la_preds_X_test = np.array(pd.read_csv(\"preds/la_preds_X_test.csv\", header = None))\n",
    "et_preds_X_test = np.array(pd.read_csv(\"preds/et_preds_X_test.csv\", header = None))\n",
    "xg_preds_X_test = np.array(pd.read_csv(\"preds/xg_preds_X_test.csv\", header = None))\n",
    "\n",
    "# Get test set data\n",
    "la_preds_test = np.array(pd.read_csv(\"preds/la_preds_test.csv\"))\n",
    "et_preds_test = np.array(pd.read_csv(\"preds/et_preds_test.csv\"))\n",
    "xg_preds_test = np.array(pd.read_csv(\"preds/xg_preds_test.csv\"))\n",
    "\n",
    "preds_X_test = []\n",
    "preds_X_test.append(la_preds_X_test[:, 0])\n",
    "preds_X_test.append(et_preds_X_test[:, 0])\n",
    "preds_X_test.append(xg_preds_X_test[:, 0])\n",
    "\n",
    "preds_test = []\n",
    "preds_test.append(la_preds_test[:, 1])\n",
    "preds_test.append(et_preds_test[:, 1])\n",
    "preds_test.append(xg_preds_test[:, 1])\n",
    "\n",
    "names = []\n",
    "names.append(\"la\")\n",
    "names.append(\"et\")\n",
    "names.append(\"xg\")'''\n"
   ]
  },
  {
   "cell_type": "code",
   "execution_count": null,
   "metadata": {
    "collapsed": false,
    "deletable": true,
    "editable": true
   },
   "outputs": [],
   "source": [
    "'''# Scores of single models on validation set\n",
    "print(\"la on held out fold : \" + str(r2_score(X_test_y, la_preds_X_test)))\n",
    "print(\"et on held out fold : \" + str(r2_score(X_test_y, et_preds_X_test)))\n",
    "print(\"xg on held out fold : \" + str(r2_score(X_test_y, xg_preds_X_test)))'''\n"
   ]
  },
  {
   "cell_type": "code",
   "execution_count": null,
   "metadata": {
    "collapsed": false,
    "deletable": true,
    "editable": true,
    "scrolled": true
   },
   "outputs": [],
   "source": [
    "'''# Optimize weights\n",
    "bestSC, bestWght, names = optimize(preds_X_test, names)'''"
   ]
  },
  {
   "cell_type": "code",
   "execution_count": null,
   "metadata": {
    "collapsed": false,
    "deletable": true,
    "editable": true
   },
   "outputs": [],
   "source": [
    "'''# Prepare submission using optimal weights\n",
    "preds = 0\n",
    "for i in range(0, len(bestWght)) :\n",
    "    (bestWght[i] * preds_test[i])\n",
    "    preds += (bestWght[i] * preds_test[i])'''"
   ]
  },
  {
   "cell_type": "code",
   "execution_count": null,
   "metadata": {
    "collapsed": false,
    "deletable": true,
    "editable": true
   },
   "outputs": [],
   "source": [
    "'''# Save predictions\n",
    "pd.DataFrame({\"ID\": test_ids[0], \"y\": preds}).to_csv(\"preds/blend.csv\", index = False)'''\n"
   ]
  },
  {
   "cell_type": "code",
   "execution_count": null,
   "metadata": {
    "collapsed": true,
    "deletable": true,
    "editable": true
   },
   "outputs": [],
   "source": []
  }
 ],
 "metadata": {
  "kernelspec": {
   "display_name": "Python 3",
   "language": "python",
   "name": "python3"
  },
  "language_info": {
   "codemirror_mode": {
    "name": "ipython",
    "version": 3
   },
   "file_extension": ".py",
   "mimetype": "text/x-python",
   "name": "python",
   "nbconvert_exporter": "python",
   "pygments_lexer": "ipython3",
   "version": "3.5.2"
  },
  "widgets": {
   "state": {},
   "version": "1.1.2"
  }
 },
 "nbformat": 4,
 "nbformat_minor": 0
}
