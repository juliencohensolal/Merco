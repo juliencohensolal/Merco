{
 "cells": [
  {
   "cell_type": "code",
   "execution_count": 2,
   "metadata": {
    "collapsed": false,
    "deletable": true,
    "editable": true,
    "scrolled": true
   },
   "outputs": [
    {
     "data": {
      "text/html": [
       "<style>.container { width: 90% !important; }</style>"
      ],
      "text/plain": [
       "<IPython.core.display.HTML object>"
      ]
     },
     "metadata": {},
     "output_type": "display_data"
    }
   ],
   "source": [
    "# Imports\n",
    "import pandas as pd\n",
    "import numpy as np\n",
    "from IPython.display import HTML, display\n",
    "import warnings\n",
    "import os\n",
    "import time\n",
    "from sklearn.model_selection import KFold\n",
    "from sklearn.linear_model import LassoCV, LassoLarsCV, RidgeCV\n",
    "from sklearn.ensemble import ExtraTreesRegressor, RandomForestRegressor, GradientBoostingRegressor\n",
    "from sklearn.neighbors import KNeighborsRegressor\n",
    "from sklearn.metrics import r2_score\n",
    "from xgboost import XGBRegressor, DMatrix\n",
    "\n",
    "# Visualization options\n",
    "pd.set_option('display.float_format', lambda x: '%.5f' % x)\n",
    "pd.set_option('display.max_columns', None)\n",
    "%matplotlib inline\n",
    "display(HTML(\"<style>.container { width: 90% !important; }</style>\"))\n",
    "warnings.filterwarnings(\"ignore\")\n",
    "\n",
    "# Global variables\n",
    "SEED = 420\n",
    "N_JOBS = 18\n",
    "FOLDS = 10"
   ]
  },
  {
   "cell_type": "markdown",
   "metadata": {},
   "source": [
    "<b>Functions</b>"
   ]
  },
  {
   "cell_type": "code",
   "execution_count": 3,
   "metadata": {
    "collapsed": false,
    "deletable": true,
    "editable": true
   },
   "outputs": [],
   "source": [
    "# Stack all single Level 1 models OOF and test preds as entries for a Level 2 model\n",
    "def get_level_one_data(oof_preds_dir, oof_targets_dir, preds_dir) :\n",
    "    level_one_preds = pd.DataFrame()\n",
    "    i = 0\n",
    "    for file_name in sorted(os.listdir(oof_preds_dir)) :\n",
    "        preds_OOF = pd.read_csv(oof_preds_dir + file_name)\n",
    "        cur_preds_OOF = pd.Series(preds_OOF.y, name = file_name[0:7])\n",
    "        level_one_preds = pd.concat([level_one_preds, cur_preds_OOF], axis = 1)\n",
    "        i += 1\n",
    "\n",
    "    level_one_targets = pd.DataFrame()\n",
    "    i = 0\n",
    "    for file_name in sorted(os.listdir(oof_targets_dir)) :\n",
    "        targets_OOF = pd.read_csv(oof_targets_dir + file_name)\n",
    "        cur_targets_OOF = pd.Series(targets_OOF.y, name = file_name[0:7])\n",
    "        level_one_targets = pd.concat([level_one_targets, cur_targets_OOF], axis = 1)\n",
    "        i += 1\n",
    "\n",
    "    # Same for test set preds\n",
    "    level_one_test = pd.DataFrame()\n",
    "    i = 0\n",
    "    for file_name in sorted(os.listdir(preds_dir)) :\n",
    "        preds_test = pd.read_csv(preds_dir + file_name)\n",
    "        cur_preds_test = pd.Series(preds_test.y, name = file_name[0:7])\n",
    "        level_one_test = pd.concat([level_one_test, cur_preds_test], axis = 1)\n",
    "        i += 1\n",
    "    \n",
    "    return(level_one_preds, level_one_targets, level_one_test)"
   ]
  },
  {
   "cell_type": "code",
   "execution_count": 4,
   "metadata": {
    "collapsed": true,
    "deletable": true,
    "editable": true
   },
   "outputs": [],
   "source": [
    "def get_cv_score(X_train, X_train_y, model, model_name, conf, conf_name) :\n",
    "    oof_preds = pd.DataFrame()\n",
    "    oof_targets = pd.DataFrame()\n",
    "    kf = KFold(n_splits = FOLDS, shuffle = True, random_state = SEED)\n",
    "    for i, (train_index, test_index) in enumerate(kf.split(X_train)):\n",
    "        #print(\"FOLD \" + str(i + 1))\n",
    "        X_train_fold, X_test_fold = X_train.iloc[train_index], X_train.iloc[test_index]\n",
    "        y_train_fold, y_test_fold = X_train_y.iloc[train_index], X_train_y.iloc[test_index]\n",
    "\n",
    "        # Fit and predict\n",
    "        model.fit(X_train_fold, y_train_fold.y)\n",
    "        preds_X_test_fold = model.predict(X_test_fold)\n",
    "        \n",
    "        # Assemble OOF predictions and targets\n",
    "        oof_preds = pd.concat([pd.Series(oof_preds), pd.Series(preds_X_test_fold)], axis = 0)\n",
    "        oof_targets = pd.concat([pd.Series(oof_targets), pd.Series(y_test_fold.y)], axis = 0)\n",
    "        \n",
    "    if (conf[\"log_target\"] >= 0) :\n",
    "        # Transform preds back if needed\n",
    "        oof_preds = np.exp(oof_preds) - conf[\"log_target\"]\n",
    "        oof_targets = np.exp(oof_targets) - conf[\"log_target\"]\n",
    "\n",
    "    # Compute error on concatenated OOF predictions\n",
    "    cv_score = r2_score(oof_targets, oof_preds)\n",
    "    print(\"Global OOF r2_score : \" + str(cv_score))\n",
    "                    \n",
    "    return(cv_score)"
   ]
  },
  {
   "cell_type": "markdown",
   "metadata": {},
   "source": [
    "<b>Models</b>"
   ]
  },
  {
   "cell_type": "code",
   "execution_count": 5,
   "metadata": {
    "collapsed": true,
    "deletable": true,
    "editable": true
   },
   "outputs": [],
   "source": [
    "models = {\n",
    "    \"la\" : LassoCV(eps = 0.0001, \n",
    "                   n_alphas = 100, \n",
    "                   max_iter = 10000, \n",
    "                   tol = 0.0001,                     \n",
    "                   normalize = True, \n",
    "                   precompute = True, \n",
    "                   random_state = SEED,\n",
    "                   n_jobs = N_JOBS),\n",
    "    \"ll\" : LassoLarsCV(max_n_alphas = 1000, \n",
    "                       max_iter = 10000,\n",
    "                       normalize = True, \n",
    "                       precompute = True, \n",
    "                       n_jobs = N_JOBS),\n",
    "    \"ri\" : RidgeCV(alphas = [0.0001, 0.0003, 0.0006, 0.001, 0.003, 0.006, 0.01, 0.03, 0.06, 0.1, 0.3, 0.6, 1, 3, 6],\n",
    "                   normalize = True),\n",
    "    \"rf\" : RandomForestRegressor(n_estimators = 200,\n",
    "                                 criterion = \"mse\", \n",
    "                                 max_features = 0.75,\n",
    "                                 max_depth = 8,\n",
    "                                 min_samples_split = 5,\n",
    "                                 min_samples_leaf = 2, \n",
    "                                 bootstrap = True, \n",
    "                                 n_jobs = N_JOBS, \n",
    "                                 random_state = SEED),\n",
    "    \"et\" : ExtraTreesRegressor(n_estimators = 200,\n",
    "                               criterion = \"mse\", \n",
    "                               max_features = 0.75,\n",
    "                               max_depth = 8,\n",
    "                               min_samples_split = 5,\n",
    "                               min_samples_leaf = 2, \n",
    "                               bootstrap = True, \n",
    "                               n_jobs = N_JOBS, \n",
    "                               random_state = SEED), \n",
    "#    \"kn\" : KNeighborsRegressor(n_neighbors = 100, \n",
    "#                               weights = \"distance\", \n",
    "#                               p = 3, \n",
    "#                               n_jobs = N_JOBS), \n",
    "#    \"gb\" : GradientBoostingRegressor(loss = \"ls\", \n",
    "#                                     learning_rate = 0.03, \n",
    "#                                     n_estimators = 200, \n",
    "#                                     max_depth = 8,\n",
    "#                                     criterion = \"friedman_mse\",\n",
    "#                                     min_samples_split = 5,\n",
    "#                                     min_samples_leaf = 2,\n",
    "#                                     subsample = 0.75,\n",
    "#                                     max_features = 0.75, \n",
    "#                                     random_state = SEED),\n",
    "#    \"xg\" : XGBRegressor(objective = \"reg:linear\", \n",
    "#                        learning_rate = 0.03, \n",
    "#                        n_estimators = 200, \n",
    "#                        max_depth = 8,\n",
    "#                        min_child_weight = 2, \n",
    "#                        subsample = 0.75, \n",
    "#                        colsample_bytree = 0.75, \n",
    "#                        colsample_bylevel = 0.75, \n",
    "#                        nthread = N_JOBS,\n",
    "#                        seed = SEED)\n",
    "}"
   ]
  },
  {
   "cell_type": "markdown",
   "metadata": {
    "deletable": true,
    "editable": true
   },
   "source": [
    "<b>Script</b>"
   ]
  },
  {
   "cell_type": "code",
   "execution_count": 6,
   "metadata": {
    "collapsed": true
   },
   "outputs": [],
   "source": [
    "# Get data\n",
    "init_test = pd.read_csv(\"raw_data/test.csv\")\n",
    "test_ids = init_test.ID.values\n"
   ]
  },
  {
   "cell_type": "code",
   "execution_count": 7,
   "metadata": {
    "collapsed": true
   },
   "outputs": [],
   "source": [
    "# Define probe df\n",
    "probe_ids = [1, 12, 23, 28, 42, \n",
    "             43, 45, 57, 72, 78, \n",
    "             88, 89, 93, 94, 104, \n",
    "             105, 110, 253, 259, 262, \n",
    "             337, 409, 437, 488, 493, \n",
    "             973, 1001, 1004, 1008, 1009, \n",
    "             1644, 1652, 1664, 2129, 2342, \n",
    "             3977, 7055, 8002, 8007, 8416]\n",
    "probe_values = [71.34112, 109.30903, 115.21953, 92.00675, 87.73572, \n",
    "                129.79876, 99.55671, 116.02167, 110.54742, 125.28849, \n",
    "                90.33211, 130.55165, 105.79792, 103.04672, 92.37968, \n",
    "                108.5069, 83.31692, 115.93724, 93.33662, 75.35182, \n",
    "                101.23135, 91.00760, 85.96960, 113.39009, 108.40135, \n",
    "                106.76189, 111.65212, 91.472, 106.71967, 108.21841, \n",
    "                99.14157, 89.77625, 112.93977, 112.03, 93.06, \n",
    "                132.08556, 91.549, 95.84858, 87.44019, 96.84773]\n",
    "new_train = init_test[init_test[\"ID\"].isin(probe_ids)]\n",
    "new_y = pd.DataFrame({\"y\" : probe_values})\n",
    "new_y.set_index(new_train.index, inplace = True)\n",
    "probe_df = pd.concat([new_train, new_y], axis = 1)\n"
   ]
  },
  {
   "cell_type": "code",
   "execution_count": 8,
   "metadata": {
    "collapsed": true
   },
   "outputs": [],
   "source": [
    "# Prepare process\n",
    "oof_preds_dirs = []\n",
    "oof_targets_dirs = []\n",
    "preds_dirs = []\n",
    "\n",
    "oof_preds_dirs.append(\"oof_preds/dc1_4/\")\n",
    "oof_preds_dirs.append(\"oof_preds/dc5_8/\")\n",
    "oof_preds_dirs.append(\"oof_preds/dc9_12/\")\n",
    "oof_preds_dirs.append(\"oof_preds/dc13_16/\")\n",
    "\n",
    "oof_targets_dirs.append(\"oof_targets/dc1_4/\")\n",
    "oof_targets_dirs.append(\"oof_targets/dc5_8/\")\n",
    "oof_targets_dirs.append(\"oof_targets/dc9_12/\")\n",
    "oof_targets_dirs.append(\"oof_targets/dc13_16/\")\n",
    "\n",
    "preds_dirs.append(\"preds/dc1_4/\")\n",
    "preds_dirs.append(\"preds/dc5_8/\")\n",
    "preds_dirs.append(\"preds/dc9_12/\")\n",
    "preds_dirs.append(\"preds/dc13_16/\")\n"
   ]
  },
  {
   "cell_type": "code",
   "execution_count": null,
   "metadata": {
    "collapsed": false
   },
   "outputs": [],
   "source": [
    "# Run stacker\n",
    "for i in range(len(oof_preds_dirs)) :\n",
    "    print(\"********************\")\n",
    "    oof_preds_dir = oof_preds_dirs[i]\n",
    "    oof_targets_dir = oof_targets_dirs[i]\n",
    "    preds_dir = preds_dirs[i]\n",
    "\n",
    "    # Create Level 2 inputs\n",
    "    level_one_preds, level_one_targets, level_one_test = get_level_one_data(oof_preds_dir, oof_targets_dir, preds_dir)\n",
    "    display(level_one_preds.head(2))\n",
    "    display(level_one_preds.tail(2))\n",
    "\n",
    "    # Get error of each OOF column\n",
    "    for col in level_one_preds.columns :\n",
    "        cv_score = r2_score(level_one_targets[col], level_one_preds[col])\n",
    "        print(\"Global OOF r2_score for \" + col + \" : \" + str(cv_score))\n",
    "\n",
    "    # Try different level 2 models\n",
    "    for model_name, model  in models.items() :\n",
    "        print(\"***** MODEL : \" + model_name + \" *****\")\n",
    "\n",
    "        # Get CV score\n",
    "        cv_score = get_cv_score(model, level_one_preds, level_one_targets)\n",
    "\n",
    "        # Fit, predict\n",
    "        model.fit(level_one_preds, level_one_targets)\n",
    "        preds = model.predict(level_one_test)\n",
    "        \n",
    "        # Handle format problems\n",
    "        if isinstance(model, (RidgeCV, KNeighborsRegressor)) :\n",
    "            preds = pd.DataFrame(preds_test).iloc[:, 0].values            \n",
    "                        \n",
    "        # Modify probed values\n",
    "        conf_name = oof_preds_dirs[i].split(\"/\")[1]\n",
    "        file_name = \"stack_preds/stacker_\" + conf_name + \"_\" + model_name + \".csv\"\n",
    "        final_preds = pd.DataFrame({\"ID\": init_test.ID.values, \"y\": pd.DataFrame(preds)[0]})\n",
    "        final_preds = pd.merge(final_preds, probe_df[[\"ID\", \"y\"]], how = \"left\", on = \"ID\")\n",
    "        final_preds[\"y\"] = final_preds.apply(replace_probed_y, axis = 1)\n",
    "        final_preds.drop([\"y_x\", \"y_y\"], axis = 1, inplace = True)\n",
    "\n",
    "        # Save predictions\n",
    "        final_preds.to_csv(file_name, index = False)\n",
    "        display(final_preds.head(2))\n"
   ]
  },
  {
   "cell_type": "code",
   "execution_count": null,
   "metadata": {
    "collapsed": true
   },
   "outputs": [],
   "source": []
  }
 ],
 "metadata": {
  "anaconda-cloud": {},
  "kernelspec": {
   "display_name": "Python 3",
   "language": "python",
   "name": "python3"
  },
  "language_info": {
   "codemirror_mode": {
    "name": "ipython",
    "version": 3
   },
   "file_extension": ".py",
   "mimetype": "text/x-python",
   "name": "python",
   "nbconvert_exporter": "python",
   "pygments_lexer": "ipython3",
   "version": "3.5.2"
  },
  "widgets": {
   "state": {},
   "version": "1.1.2"
  }
 },
 "nbformat": 4,
 "nbformat_minor": 2
}
