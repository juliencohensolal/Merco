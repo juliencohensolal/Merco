{
 "cells": [
  {
   "cell_type": "code",
   "execution_count": 1,
   "metadata": {
    "collapsed": false,
    "deletable": true,
    "editable": true,
    "scrolled": true
   },
   "outputs": [
    {
     "name": "stderr",
     "output_type": "stream",
     "text": [
      "C:\\Anaconda3\\lib\\site-packages\\sklearn\\cross_validation.py:44: DeprecationWarning: This module was deprecated in version 0.18 in favor of the model_selection module into which all the refactored classes and functions are moved. Also note that the interface of the new CV iterators are different from that of this module. This module will be removed in 0.20.\n",
      "  \"This module will be removed in 0.20.\", DeprecationWarning)\n"
     ]
    },
    {
     "data": {
      "text/html": [
       "<style>.container { width: 90% !important; }</style>"
      ],
      "text/plain": [
       "<IPython.core.display.HTML object>"
      ]
     },
     "metadata": {},
     "output_type": "display_data"
    }
   ],
   "source": [
    "# Imports\n",
    "import pandas as pd\n",
    "import numpy as np\n",
    "from IPython.display import HTML, display\n",
    "import warnings\n",
    "import os\n",
    "import time\n",
    "from sklearn.model_selection import KFold\n",
    "from sklearn.linear_model import LassoCV, LassoLarsCV, RidgeCV\n",
    "from sklearn.ensemble import ExtraTreesRegressor, RandomForestRegressor, GradientBoostingRegressor\n",
    "from sklearn.neighbors import KNeighborsRegressor\n",
    "from sklearn.metrics import r2_score\n",
    "from xgboost import XGBRegressor, DMatrix\n",
    "\n",
    "# Visualization options\n",
    "pd.set_option('display.float_format', lambda x: '%.5f' % x)\n",
    "pd.set_option('display.max_columns', None)\n",
    "%matplotlib inline\n",
    "display(HTML(\"<style>.container { width: 90% !important; }</style>\"))\n",
    "warnings.filterwarnings(\"ignore\")\n",
    "\n",
    "# Global variables\n",
    "SEED = 420\n",
    "N_JOBS = 18\n",
    "FOLDS = 10"
   ]
  },
  {
   "cell_type": "markdown",
   "metadata": {},
   "source": [
    "<b>Functions</b>"
   ]
  },
  {
   "cell_type": "code",
   "execution_count": 2,
   "metadata": {
    "collapsed": false,
    "deletable": true,
    "editable": true
   },
   "outputs": [],
   "source": [
    "# Stack all single Level 1 models OOF and test preds as entries for a Level 2 model\n",
    "def get_level_one_data(oof_preds_dir, oof_targets_dir, preds_dir) :\n",
    "    level_one_preds = pd.DataFrame()\n",
    "    i = 0\n",
    "    for file_name in sorted(os.listdir(oof_preds_dir)) :\n",
    "        preds_OOF = pd.read_csv(oof_preds_dir + file_name)\n",
    "        cur_preds_OOF = pd.Series(preds_OOF.y, name = file_name[0:7])\n",
    "        level_one_preds = pd.concat([level_one_preds, cur_preds_OOF], axis = 1)\n",
    "        i += 1\n",
    "\n",
    "    level_one_targets = pd.DataFrame()\n",
    "    i = 0\n",
    "    for file_name in sorted(os.listdir(oof_targets_dir)) :\n",
    "        targets_OOF = pd.read_csv(oof_targets_dir + file_name)\n",
    "        cur_targets_OOF = pd.Series(targets_OOF.y, name = file_name[0:7])\n",
    "        level_one_targets = pd.concat([level_one_targets, cur_targets_OOF], axis = 1)\n",
    "        i += 1\n",
    "\n",
    "    # Same for test set preds\n",
    "    level_one_test = pd.DataFrame()\n",
    "    i = 0\n",
    "    for file_name in sorted(os.listdir(preds_dir)) :\n",
    "        preds_test = pd.read_csv(preds_dir + file_name)\n",
    "        cur_preds_test = pd.Series(preds_test.y, name = file_name[0:7])\n",
    "        level_one_test = pd.concat([level_one_test, cur_preds_test], axis = 1)\n",
    "        i += 1\n",
    "    \n",
    "    return(level_one_preds, level_one_targets, level_one_test)"
   ]
  },
  {
   "cell_type": "code",
   "execution_count": 3,
   "metadata": {
    "collapsed": false,
    "deletable": true,
    "editable": true
   },
   "outputs": [],
   "source": [
    "def get_cv_score(model, X_train, X_train_y) :\n",
    "    oof_preds = pd.DataFrame()\n",
    "    oof_targets = pd.DataFrame()\n",
    "    kf = KFold(n_splits = FOLDS, shuffle = True, random_state = SEED)\n",
    "    for i, (train_index, test_index) in enumerate(kf.split(X_train)):\n",
    "        #print(\"FOLD \" + str(i + 1))\n",
    "        X_train_fold, X_test_fold = X_train.iloc[train_index], X_train.iloc[test_index]\n",
    "        y_train_fold, y_test_fold = X_train_y.iloc[train_index], X_train_y.iloc[test_index]\n",
    "\n",
    "        # Fit and predict\n",
    "        model.fit(X_train_fold, y_train_fold)\n",
    "        preds_X_test_fold = model.predict(X_test_fold)\n",
    "        \n",
    "        # Assemble OOF predictions and targets\n",
    "        oof_preds = pd.concat([pd.Series(oof_preds), pd.Series(preds_X_test_fold)], axis = 0)\n",
    "        oof_targets = pd.concat([pd.Series(oof_targets), pd.Series(y_test_fold)], axis = 0)\n",
    "        \n",
    "    # Compute error on concatenated OOF predictions\n",
    "    cv_score = r2_score(oof_targets, oof_preds)\n",
    "    print(\"Global OOF r2_score : \" + str(cv_score))\n",
    "                    \n",
    "    return(cv_score)"
   ]
  },
  {
   "cell_type": "code",
   "execution_count": 4,
   "metadata": {
    "collapsed": true
   },
   "outputs": [],
   "source": [
    "def replace_probed_y(row):\n",
    "    if (np.isnan(row[\"y_y\"])) :\n",
    "        return (row[\"y_x\"])\n",
    "    else :\n",
    "        return (row[\"y_y\"])"
   ]
  },
  {
   "cell_type": "markdown",
   "metadata": {},
   "source": [
    "<b>Models</b>"
   ]
  },
  {
   "cell_type": "code",
   "execution_count": 5,
   "metadata": {
    "collapsed": true,
    "deletable": true,
    "editable": true
   },
   "outputs": [],
   "source": [
    "models = {\n",
    "    \"la\" : LassoCV(eps = 0.0001, \n",
    "                   n_alphas = 100, \n",
    "                   max_iter = 10000, \n",
    "                   tol = 0.0001,                     \n",
    "                   normalize = True, \n",
    "                   precompute = True, \n",
    "                   random_state = SEED,\n",
    "                   n_jobs = N_JOBS),\n",
    "    \"ll\" : LassoLarsCV(max_n_alphas = 1000, \n",
    "                       max_iter = 10000,\n",
    "                       normalize = True, \n",
    "                       precompute = True, \n",
    "                       n_jobs = N_JOBS),\n",
    "    \"ri\" : RidgeCV(alphas = [0.0001, 0.0003, 0.0006, 0.001, 0.003, 0.006, 0.01, 0.03, 0.06, 0.1, 0.3, 0.6, 1, 3, 6],\n",
    "                   normalize = True),\n",
    "    \"rf\" : RandomForestRegressor(n_estimators = 200,\n",
    "                                 criterion = \"mse\", \n",
    "                                 max_features = 0.75,\n",
    "                                 max_depth = 8,\n",
    "                                 min_samples_split = 5,\n",
    "                                 min_samples_leaf = 2, \n",
    "                                 bootstrap = True, \n",
    "                                 n_jobs = N_JOBS, \n",
    "                                 random_state = SEED),\n",
    "    \"et\" : ExtraTreesRegressor(n_estimators = 200,\n",
    "                               criterion = \"mse\", \n",
    "                               max_features = 0.75,\n",
    "                               max_depth = 8,\n",
    "                               min_samples_split = 5,\n",
    "                               min_samples_leaf = 2, \n",
    "                               bootstrap = True, \n",
    "                               n_jobs = N_JOBS, \n",
    "                               random_state = SEED), \n",
    "    \"kn\" : KNeighborsRegressor(n_neighbors = 100, \n",
    "                               weights = \"distance\", \n",
    "                               p = 3, \n",
    "                               n_jobs = N_JOBS), \n",
    "    \"xg\" : XGBRegressor(objective = \"reg:linear\", \n",
    "                        learning_rate = 0.03, \n",
    "                        n_estimators = 200, \n",
    "                        max_depth = 8,\n",
    "                        min_child_weight = 2, \n",
    "                        subsample = 0.75, \n",
    "                        colsample_bytree = 0.75, \n",
    "                        colsample_bylevel = 0.75, \n",
    "                        nthread = N_JOBS,\n",
    "                        seed = SEED)\n",
    "#    \"gb\" : GradientBoostingRegressor(loss = \"ls\", \n",
    "#                                     learning_rate = 0.03, \n",
    "#                                     n_estimators = 200, \n",
    "#                                     max_depth = 8,\n",
    "#                                     criterion = \"friedman_mse\",\n",
    "#                                     min_samples_split = 5,\n",
    "#                                     min_samples_leaf = 2,\n",
    "#                                     subsample = 0.75,\n",
    "#                                     max_features = 0.75, \n",
    "#                                     random_state = SEED),\n",
    "}"
   ]
  },
  {
   "cell_type": "markdown",
   "metadata": {
    "deletable": true,
    "editable": true
   },
   "source": [
    "<b>Script</b>"
   ]
  },
  {
   "cell_type": "code",
   "execution_count": 6,
   "metadata": {
    "collapsed": true
   },
   "outputs": [],
   "source": [
    "# Get data\n",
    "init_test = pd.read_csv(\"raw_data/test.csv\")\n",
    "test_ids = init_test.ID.values\n"
   ]
  },
  {
   "cell_type": "code",
   "execution_count": 7,
   "metadata": {
    "collapsed": true
   },
   "outputs": [],
   "source": [
    "# Define probe df\n",
    "probe_ids = [1, 12, 23, 28, 42, \n",
    "             43, 45, 57, 72, 78, \n",
    "             88, 89, 93, 94, 104, \n",
    "             105, 110, 253, 259, 262, \n",
    "             289, 337, 409, 437, 488, \n",
    "             493, 973, 1001, 1004, 1008, \n",
    "             1009, 1259, 1644, 1652, 1664, \n",
    "             2129, 2342, 3853, 3977, 4193, \n",
    "             4958, 4960, 7055, 7805, 8002, \n",
    "             8007, 8416]\n",
    "probe_values = [71.34112, 109.30903, 115.21953, 92.00675, 87.73572, \n",
    "                129.79876, 99.55671, 116.02167, 110.54742, 125.28849, \n",
    "                90.33211, 130.55165, 105.79792, 103.04672, 92.37968, \n",
    "                108.5069, 87.70757, 115.93724, 93.33662, 75.35182, \n",
    "                89.27667, 101.23135, 91.00760, 85.96960, 113.39009, \n",
    "                108.40135, 106.76189, 111.65212, 91.472, 106.71967, \n",
    "                108.21841, 112.3909, 99.14157, 89.77625, 112.93977, \n",
    "                112.03, 93.06, 105.481283411, 132.08556, 132.78216, \n",
    "                113.58711, 89.83957, 91.549, 105.8472, 95.84858, \n",
    "                87.44019, 96.84773]\n",
    "new_train = init_test[init_test[\"ID\"].isin(probe_ids)]\n",
    "new_y = pd.DataFrame({\"y\" : probe_values})\n",
    "new_y.set_index(new_train.index, inplace = True)\n",
    "probe_df = pd.concat([new_train, new_y], axis = 1)\n"
   ]
  },
  {
   "cell_type": "code",
   "execution_count": 8,
   "metadata": {
    "collapsed": true
   },
   "outputs": [],
   "source": [
    "# Prepare process\n",
    "oof_preds_dirs = []\n",
    "oof_targets_dirs = []\n",
    "preds_dirs = []\n",
    "\n",
    "oof_preds_dirs.append(\"oof_preds/dc1_4/\")\n",
    "oof_preds_dirs.append(\"oof_preds/dc5_8/\")\n",
    "oof_preds_dirs.append(\"oof_preds/dc9_12/\")\n",
    "oof_preds_dirs.append(\"oof_preds/dc13_16/\")\n",
    "\n",
    "oof_targets_dirs.append(\"oof_targets/dc1_4/\")\n",
    "oof_targets_dirs.append(\"oof_targets/dc5_8/\")\n",
    "oof_targets_dirs.append(\"oof_targets/dc9_12/\")\n",
    "oof_targets_dirs.append(\"oof_targets/dc13_16/\")\n",
    "\n",
    "preds_dirs.append(\"preds/dc1_4/\")\n",
    "preds_dirs.append(\"preds/dc5_8/\")\n",
    "preds_dirs.append(\"preds/dc9_12/\")\n",
    "preds_dirs.append(\"preds/dc13_16/\")\n"
   ]
  },
  {
   "cell_type": "code",
   "execution_count": 9,
   "metadata": {
    "collapsed": false,
    "scrolled": false
   },
   "outputs": [
    {
     "name": "stdout",
     "output_type": "stream",
     "text": [
      "********************\n"
     ]
    },
    {
     "data": {
      "text/html": [
       "<div>\n",
       "<table border=\"1\" class=\"dataframe\">\n",
       "  <thead>\n",
       "    <tr style=\"text-align: right;\">\n",
       "      <th></th>\n",
       "      <th>et_dc1_</th>\n",
       "      <th>et_dc2_</th>\n",
       "      <th>et_dc3_</th>\n",
       "      <th>et_dc4_</th>\n",
       "      <th>la_dc1_</th>\n",
       "      <th>la_dc2_</th>\n",
       "      <th>la_dc3_</th>\n",
       "      <th>la_dc4_</th>\n",
       "      <th>ll_dc1_</th>\n",
       "      <th>ll_dc2_</th>\n",
       "      <th>ll_dc3_</th>\n",
       "      <th>ll_dc4_</th>\n",
       "      <th>rf_dc1_</th>\n",
       "      <th>rf_dc2_</th>\n",
       "      <th>rf_dc3_</th>\n",
       "      <th>rf_dc4_</th>\n",
       "      <th>xg_dc1_</th>\n",
       "      <th>xg_dc2_</th>\n",
       "      <th>xg_dc3_</th>\n",
       "      <th>xg_dc4_</th>\n",
       "      <th>ze_dc1_</th>\n",
       "      <th>ze_dc2_</th>\n",
       "      <th>ze_dc3_</th>\n",
       "      <th>ze_dc4_</th>\n",
       "      <th>zl_dc1_</th>\n",
       "      <th>zl_dc2_</th>\n",
       "      <th>zl_dc3_</th>\n",
       "      <th>zl_dc4_</th>\n",
       "      <th>zr_dc1_</th>\n",
       "      <th>zr_dc2_</th>\n",
       "      <th>zr_dc3_</th>\n",
       "      <th>zr_dc4_</th>\n",
       "      <th>zx_dc1_</th>\n",
       "      <th>zx_dc2_</th>\n",
       "      <th>zx_dc3_</th>\n",
       "      <th>zx_dc4_</th>\n",
       "    </tr>\n",
       "  </thead>\n",
       "  <tbody>\n",
       "    <tr>\n",
       "      <th>0</th>\n",
       "      <td>116.13408</td>\n",
       "      <td>114.13028</td>\n",
       "      <td>116.18572</td>\n",
       "      <td>114.25545</td>\n",
       "      <td>115.39651</td>\n",
       "      <td>110.61552</td>\n",
       "      <td>115.39649</td>\n",
       "      <td>110.47323</td>\n",
       "      <td>115.42086</td>\n",
       "      <td>108.01324</td>\n",
       "      <td>115.43921</td>\n",
       "      <td>104.70043</td>\n",
       "      <td>114.68859</td>\n",
       "      <td>113.86919</td>\n",
       "      <td>117.25145</td>\n",
       "      <td>114.41533</td>\n",
       "      <td>115.41705</td>\n",
       "      <td>113.37335</td>\n",
       "      <td>119.43770</td>\n",
       "      <td>115.68615</td>\n",
       "      <td>114.52726</td>\n",
       "      <td>115.31362</td>\n",
       "      <td>114.53231</td>\n",
       "      <td>115.18735</td>\n",
       "      <td>115.70149</td>\n",
       "      <td>114.29528</td>\n",
       "      <td>116.25454</td>\n",
       "      <td>114.70613</td>\n",
       "      <td>114.47179</td>\n",
       "      <td>115.38637</td>\n",
       "      <td>115.25877</td>\n",
       "      <td>115.10238</td>\n",
       "      <td>114.87389</td>\n",
       "      <td>112.75110</td>\n",
       "      <td>116.03893</td>\n",
       "      <td>113.86649</td>\n",
       "    </tr>\n",
       "    <tr>\n",
       "      <th>1</th>\n",
       "      <td>113.33418</td>\n",
       "      <td>112.93224</td>\n",
       "      <td>113.40276</td>\n",
       "      <td>113.08442</td>\n",
       "      <td>114.19929</td>\n",
       "      <td>110.66778</td>\n",
       "      <td>114.19928</td>\n",
       "      <td>110.47323</td>\n",
       "      <td>114.20741</td>\n",
       "      <td>108.02133</td>\n",
       "      <td>114.21384</td>\n",
       "      <td>104.70043</td>\n",
       "      <td>112.07628</td>\n",
       "      <td>113.14277</td>\n",
       "      <td>112.31983</td>\n",
       "      <td>113.07338</td>\n",
       "      <td>111.84063</td>\n",
       "      <td>111.02529</td>\n",
       "      <td>111.50563</td>\n",
       "      <td>112.02895</td>\n",
       "      <td>114.61618</td>\n",
       "      <td>115.11454</td>\n",
       "      <td>114.58866</td>\n",
       "      <td>115.08703</td>\n",
       "      <td>114.22569</td>\n",
       "      <td>113.50603</td>\n",
       "      <td>114.40470</td>\n",
       "      <td>113.37642</td>\n",
       "      <td>112.36361</td>\n",
       "      <td>115.33690</td>\n",
       "      <td>112.84508</td>\n",
       "      <td>114.96566</td>\n",
       "      <td>112.05869</td>\n",
       "      <td>111.37788</td>\n",
       "      <td>112.27528</td>\n",
       "      <td>111.95670</td>\n",
       "    </tr>\n",
       "  </tbody>\n",
       "</table>\n",
       "</div>"
      ],
      "text/plain": [
       "    et_dc1_   et_dc2_   et_dc3_   et_dc4_   la_dc1_   la_dc2_   la_dc3_  \\\n",
       "0 116.13408 114.13028 116.18572 114.25545 115.39651 110.61552 115.39649   \n",
       "1 113.33418 112.93224 113.40276 113.08442 114.19929 110.66778 114.19928   \n",
       "\n",
       "    la_dc4_   ll_dc1_   ll_dc2_   ll_dc3_   ll_dc4_   rf_dc1_   rf_dc2_  \\\n",
       "0 110.47323 115.42086 108.01324 115.43921 104.70043 114.68859 113.86919   \n",
       "1 110.47323 114.20741 108.02133 114.21384 104.70043 112.07628 113.14277   \n",
       "\n",
       "    rf_dc3_   rf_dc4_   xg_dc1_   xg_dc2_   xg_dc3_   xg_dc4_   ze_dc1_  \\\n",
       "0 117.25145 114.41533 115.41705 113.37335 119.43770 115.68615 114.52726   \n",
       "1 112.31983 113.07338 111.84063 111.02529 111.50563 112.02895 114.61618   \n",
       "\n",
       "    ze_dc2_   ze_dc3_   ze_dc4_   zl_dc1_   zl_dc2_   zl_dc3_   zl_dc4_  \\\n",
       "0 115.31362 114.53231 115.18735 115.70149 114.29528 116.25454 114.70613   \n",
       "1 115.11454 114.58866 115.08703 114.22569 113.50603 114.40470 113.37642   \n",
       "\n",
       "    zr_dc1_   zr_dc2_   zr_dc3_   zr_dc4_   zx_dc1_   zx_dc2_   zx_dc3_  \\\n",
       "0 114.47179 115.38637 115.25877 115.10238 114.87389 112.75110 116.03893   \n",
       "1 112.36361 115.33690 112.84508 114.96566 112.05869 111.37788 112.27528   \n",
       "\n",
       "    zx_dc4_  \n",
       "0 113.86649  \n",
       "1 111.95670  "
      ]
     },
     "metadata": {},
     "output_type": "display_data"
    },
    {
     "name": "stdout",
     "output_type": "stream",
     "text": [
      "(3953, 36)\n",
      "Global OOF r2_score for et_dc1_ : 0.572600357478\n",
      "Global OOF r2_score for et_dc2_ : 0.56949721826\n",
      "Global OOF r2_score for et_dc3_ : 0.572999418005\n",
      "Global OOF r2_score for et_dc4_ : 0.569112855322\n",
      "Global OOF r2_score for la_dc1_ : 0.588467268349\n",
      "Global OOF r2_score for la_dc2_ : 0.548622901878\n",
      "Global OOF r2_score for la_dc3_ : 0.588467136131\n",
      "Global OOF r2_score for la_dc4_ : 0.550172023209\n",
      "Global OOF r2_score for ll_dc1_ : 0.588498942363\n",
      "Global OOF r2_score for ll_dc2_ : 0.53041351412\n",
      "Global OOF r2_score for ll_dc3_ : 0.588555948425\n",
      "Global OOF r2_score for ll_dc4_ : 0.522219953052\n",
      "Global OOF r2_score for rf_dc1_ : 0.572124235188\n",
      "Global OOF r2_score for rf_dc2_ : 0.567171849033\n",
      "Global OOF r2_score for rf_dc3_ : 0.574580627741\n",
      "Global OOF r2_score for rf_dc4_ : 0.568533648688\n",
      "Global OOF r2_score for xg_dc1_ : 0.564998266541\n",
      "Global OOF r2_score for xg_dc2_ : 0.564896677099\n",
      "Global OOF r2_score for xg_dc3_ : 0.565711036022\n",
      "Global OOF r2_score for xg_dc4_ : 0.565157028005\n",
      "Global OOF r2_score for ze_dc1_ : 0.574968738748\n",
      "Global OOF r2_score for ze_dc2_ : 0.571724535364\n",
      "Global OOF r2_score for ze_dc3_ : 0.574660153163\n",
      "Global OOF r2_score for ze_dc4_ : 0.571502864089\n",
      "Global OOF r2_score for zl_dc1_ : 0.57657664904\n",
      "Global OOF r2_score for zl_dc2_ : 0.570346420249\n",
      "Global OOF r2_score for zl_dc3_ : 0.578231751327\n",
      "Global OOF r2_score for zl_dc4_ : 0.571470083558\n",
      "Global OOF r2_score for zr_dc1_ : 0.576166685391\n",
      "Global OOF r2_score for zr_dc2_ : 0.570428760049\n",
      "Global OOF r2_score for zr_dc3_ : 0.578181823746\n",
      "Global OOF r2_score for zr_dc4_ : 0.571499287279\n",
      "Global OOF r2_score for zx_dc1_ : 0.57835024821\n",
      "Global OOF r2_score for zx_dc2_ : 0.5704088512\n",
      "Global OOF r2_score for zx_dc3_ : 0.577208439366\n",
      "Global OOF r2_score for zx_dc4_ : 0.572660202643\n",
      "***** MODEL : ri *****\n",
      "Global OOF r2_score : 0.586695150802\n"
     ]
    },
    {
     "data": {
      "text/html": [
       "<div>\n",
       "<table border=\"1\" class=\"dataframe\">\n",
       "  <thead>\n",
       "    <tr style=\"text-align: right;\">\n",
       "      <th></th>\n",
       "      <th>ID</th>\n",
       "      <th>y</th>\n",
       "    </tr>\n",
       "  </thead>\n",
       "  <tbody>\n",
       "    <tr>\n",
       "      <th>0</th>\n",
       "      <td>1</td>\n",
       "      <td>71.34112</td>\n",
       "    </tr>\n",
       "    <tr>\n",
       "      <th>1</th>\n",
       "      <td>2</td>\n",
       "      <td>94.55080</td>\n",
       "    </tr>\n",
       "  </tbody>\n",
       "</table>\n",
       "</div>"
      ],
      "text/plain": [
       "   ID        y\n",
       "0   1 71.34112\n",
       "1   2 94.55080"
      ]
     },
     "metadata": {},
     "output_type": "display_data"
    },
    {
     "name": "stdout",
     "output_type": "stream",
     "text": [
      "***** MODEL : la *****\n",
      "Global OOF r2_score : 0.588623997412\n"
     ]
    },
    {
     "data": {
      "text/html": [
       "<div>\n",
       "<table border=\"1\" class=\"dataframe\">\n",
       "  <thead>\n",
       "    <tr style=\"text-align: right;\">\n",
       "      <th></th>\n",
       "      <th>ID</th>\n",
       "      <th>y</th>\n",
       "    </tr>\n",
       "  </thead>\n",
       "  <tbody>\n",
       "    <tr>\n",
       "      <th>0</th>\n",
       "      <td>1</td>\n",
       "      <td>71.34112</td>\n",
       "    </tr>\n",
       "    <tr>\n",
       "      <th>1</th>\n",
       "      <td>2</td>\n",
       "      <td>94.29094</td>\n",
       "    </tr>\n",
       "  </tbody>\n",
       "</table>\n",
       "</div>"
      ],
      "text/plain": [
       "   ID        y\n",
       "0   1 71.34112\n",
       "1   2 94.29094"
      ]
     },
     "metadata": {},
     "output_type": "display_data"
    },
    {
     "name": "stdout",
     "output_type": "stream",
     "text": [
      "***** MODEL : kn *****\n",
      "Global OOF r2_score : 0.579140380762\n"
     ]
    },
    {
     "data": {
      "text/html": [
       "<div>\n",
       "<table border=\"1\" class=\"dataframe\">\n",
       "  <thead>\n",
       "    <tr style=\"text-align: right;\">\n",
       "      <th></th>\n",
       "      <th>ID</th>\n",
       "      <th>y</th>\n",
       "    </tr>\n",
       "  </thead>\n",
       "  <tbody>\n",
       "    <tr>\n",
       "      <th>0</th>\n",
       "      <td>1</td>\n",
       "      <td>71.34112</td>\n",
       "    </tr>\n",
       "    <tr>\n",
       "      <th>1</th>\n",
       "      <td>2</td>\n",
       "      <td>94.05526</td>\n",
       "    </tr>\n",
       "  </tbody>\n",
       "</table>\n",
       "</div>"
      ],
      "text/plain": [
       "   ID        y\n",
       "0   1 71.34112\n",
       "1   2 94.05526"
      ]
     },
     "metadata": {},
     "output_type": "display_data"
    },
    {
     "name": "stdout",
     "output_type": "stream",
     "text": [
      "***** MODEL : xg *****\n",
      "Global OOF r2_score : 0.570445556658\n"
     ]
    },
    {
     "data": {
      "text/html": [
       "<div>\n",
       "<table border=\"1\" class=\"dataframe\">\n",
       "  <thead>\n",
       "    <tr style=\"text-align: right;\">\n",
       "      <th></th>\n",
       "      <th>ID</th>\n",
       "      <th>y</th>\n",
       "    </tr>\n",
       "  </thead>\n",
       "  <tbody>\n",
       "    <tr>\n",
       "      <th>0</th>\n",
       "      <td>1</td>\n",
       "      <td>71.34112</td>\n",
       "    </tr>\n",
       "    <tr>\n",
       "      <th>1</th>\n",
       "      <td>2</td>\n",
       "      <td>92.44220</td>\n",
       "    </tr>\n",
       "  </tbody>\n",
       "</table>\n",
       "</div>"
      ],
      "text/plain": [
       "   ID        y\n",
       "0   1 71.34112\n",
       "1   2 92.44220"
      ]
     },
     "metadata": {},
     "output_type": "display_data"
    },
    {
     "name": "stdout",
     "output_type": "stream",
     "text": [
      "***** MODEL : rf *****\n",
      "Global OOF r2_score : 0.576087383676\n"
     ]
    },
    {
     "data": {
      "text/html": [
       "<div>\n",
       "<table border=\"1\" class=\"dataframe\">\n",
       "  <thead>\n",
       "    <tr style=\"text-align: right;\">\n",
       "      <th></th>\n",
       "      <th>ID</th>\n",
       "      <th>y</th>\n",
       "    </tr>\n",
       "  </thead>\n",
       "  <tbody>\n",
       "    <tr>\n",
       "      <th>0</th>\n",
       "      <td>1</td>\n",
       "      <td>71.34112</td>\n",
       "    </tr>\n",
       "    <tr>\n",
       "      <th>1</th>\n",
       "      <td>2</td>\n",
       "      <td>94.32632</td>\n",
       "    </tr>\n",
       "  </tbody>\n",
       "</table>\n",
       "</div>"
      ],
      "text/plain": [
       "   ID        y\n",
       "0   1 71.34112\n",
       "1   2 94.32632"
      ]
     },
     "metadata": {},
     "output_type": "display_data"
    },
    {
     "name": "stdout",
     "output_type": "stream",
     "text": [
      "***** MODEL : et *****\n",
      "Global OOF r2_score : 0.582949056862\n"
     ]
    },
    {
     "data": {
      "text/html": [
       "<div>\n",
       "<table border=\"1\" class=\"dataframe\">\n",
       "  <thead>\n",
       "    <tr style=\"text-align: right;\">\n",
       "      <th></th>\n",
       "      <th>ID</th>\n",
       "      <th>y</th>\n",
       "    </tr>\n",
       "  </thead>\n",
       "  <tbody>\n",
       "    <tr>\n",
       "      <th>0</th>\n",
       "      <td>1</td>\n",
       "      <td>71.34112</td>\n",
       "    </tr>\n",
       "    <tr>\n",
       "      <th>1</th>\n",
       "      <td>2</td>\n",
       "      <td>93.73099</td>\n",
       "    </tr>\n",
       "  </tbody>\n",
       "</table>\n",
       "</div>"
      ],
      "text/plain": [
       "   ID        y\n",
       "0   1 71.34112\n",
       "1   2 93.73099"
      ]
     },
     "metadata": {},
     "output_type": "display_data"
    },
    {
     "name": "stdout",
     "output_type": "stream",
     "text": [
      "***** MODEL : ll *****\n",
      "Global OOF r2_score : 0.588667324367\n"
     ]
    },
    {
     "data": {
      "text/html": [
       "<div>\n",
       "<table border=\"1\" class=\"dataframe\">\n",
       "  <thead>\n",
       "    <tr style=\"text-align: right;\">\n",
       "      <th></th>\n",
       "      <th>ID</th>\n",
       "      <th>y</th>\n",
       "    </tr>\n",
       "  </thead>\n",
       "  <tbody>\n",
       "    <tr>\n",
       "      <th>0</th>\n",
       "      <td>1</td>\n",
       "      <td>71.34112</td>\n",
       "    </tr>\n",
       "    <tr>\n",
       "      <th>1</th>\n",
       "      <td>2</td>\n",
       "      <td>94.26390</td>\n",
       "    </tr>\n",
       "  </tbody>\n",
       "</table>\n",
       "</div>"
      ],
      "text/plain": [
       "   ID        y\n",
       "0   1 71.34112\n",
       "1   2 94.26390"
      ]
     },
     "metadata": {},
     "output_type": "display_data"
    },
    {
     "name": "stdout",
     "output_type": "stream",
     "text": [
      "********************\n"
     ]
    },
    {
     "data": {
      "text/html": [
       "<div>\n",
       "<table border=\"1\" class=\"dataframe\">\n",
       "  <thead>\n",
       "    <tr style=\"text-align: right;\">\n",
       "      <th></th>\n",
       "      <th>et_dc5_</th>\n",
       "      <th>et_dc6_</th>\n",
       "      <th>et_dc7_</th>\n",
       "      <th>et_dc8_</th>\n",
       "      <th>la_dc5_</th>\n",
       "      <th>la_dc6_</th>\n",
       "      <th>la_dc7_</th>\n",
       "      <th>la_dc8_</th>\n",
       "      <th>ll_dc5_</th>\n",
       "      <th>ll_dc6_</th>\n",
       "      <th>ll_dc7_</th>\n",
       "      <th>ll_dc8_</th>\n",
       "      <th>rf_dc5_</th>\n",
       "      <th>rf_dc6_</th>\n",
       "      <th>rf_dc7_</th>\n",
       "      <th>rf_dc8_</th>\n",
       "      <th>xg_dc5_</th>\n",
       "      <th>xg_dc6_</th>\n",
       "      <th>xg_dc7_</th>\n",
       "      <th>xg_dc8_</th>\n",
       "      <th>ze_dc5_</th>\n",
       "      <th>ze_dc6_</th>\n",
       "      <th>ze_dc7_</th>\n",
       "      <th>ze_dc8_</th>\n",
       "      <th>zl_dc5_</th>\n",
       "      <th>zl_dc6_</th>\n",
       "      <th>zl_dc7_</th>\n",
       "      <th>zl_dc8_</th>\n",
       "      <th>zr_dc5_</th>\n",
       "      <th>zr_dc6_</th>\n",
       "      <th>zr_dc7_</th>\n",
       "      <th>zr_dc8_</th>\n",
       "      <th>zx_dc5_</th>\n",
       "      <th>zx_dc6_</th>\n",
       "      <th>zx_dc7_</th>\n",
       "      <th>zx_dc8_</th>\n",
       "    </tr>\n",
       "  </thead>\n",
       "  <tbody>\n",
       "    <tr>\n",
       "      <th>0</th>\n",
       "      <td>114.45067</td>\n",
       "      <td>116.13996</td>\n",
       "      <td>116.24139</td>\n",
       "      <td>116.04562</td>\n",
       "      <td>113.64166</td>\n",
       "      <td>111.46099</td>\n",
       "      <td>113.64166</td>\n",
       "      <td>111.49254</td>\n",
       "      <td>113.63858</td>\n",
       "      <td>110.79612</td>\n",
       "      <td>113.63858</td>\n",
       "      <td>111.70971</td>\n",
       "      <td>113.11896</td>\n",
       "      <td>117.72675</td>\n",
       "      <td>114.27504</td>\n",
       "      <td>115.98479</td>\n",
       "      <td>111.46647</td>\n",
       "      <td>113.76937</td>\n",
       "      <td>113.04165</td>\n",
       "      <td>115.16785</td>\n",
       "      <td>115.05325</td>\n",
       "      <td>117.22510</td>\n",
       "      <td>115.56738</td>\n",
       "      <td>117.03989</td>\n",
       "      <td>114.17104</td>\n",
       "      <td>115.68138</td>\n",
       "      <td>115.10333</td>\n",
       "      <td>114.03453</td>\n",
       "      <td>113.04330</td>\n",
       "      <td>119.11934</td>\n",
       "      <td>114.26909</td>\n",
       "      <td>117.05982</td>\n",
       "      <td>111.11142</td>\n",
       "      <td>115.20426</td>\n",
       "      <td>112.59521</td>\n",
       "      <td>113.82699</td>\n",
       "    </tr>\n",
       "    <tr>\n",
       "      <th>1</th>\n",
       "      <td>113.55838</td>\n",
       "      <td>112.33676</td>\n",
       "      <td>113.08744</td>\n",
       "      <td>112.44963</td>\n",
       "      <td>115.40216</td>\n",
       "      <td>112.17064</td>\n",
       "      <td>115.40217</td>\n",
       "      <td>112.27709</td>\n",
       "      <td>115.40534</td>\n",
       "      <td>110.77531</td>\n",
       "      <td>115.40534</td>\n",
       "      <td>112.06318</td>\n",
       "      <td>114.29394</td>\n",
       "      <td>112.97736</td>\n",
       "      <td>113.95260</td>\n",
       "      <td>112.44378</td>\n",
       "      <td>113.73627</td>\n",
       "      <td>112.57890</td>\n",
       "      <td>112.47257</td>\n",
       "      <td>112.63216</td>\n",
       "      <td>113.76431</td>\n",
       "      <td>113.71868</td>\n",
       "      <td>113.54110</td>\n",
       "      <td>113.19984</td>\n",
       "      <td>116.21919</td>\n",
       "      <td>114.84463</td>\n",
       "      <td>116.87978</td>\n",
       "      <td>115.55828</td>\n",
       "      <td>114.56918</td>\n",
       "      <td>113.54182</td>\n",
       "      <td>115.02518</td>\n",
       "      <td>113.12045</td>\n",
       "      <td>114.81275</td>\n",
       "      <td>112.89758</td>\n",
       "      <td>116.01717</td>\n",
       "      <td>113.29425</td>\n",
       "    </tr>\n",
       "  </tbody>\n",
       "</table>\n",
       "</div>"
      ],
      "text/plain": [
       "    et_dc5_   et_dc6_   et_dc7_   et_dc8_   la_dc5_   la_dc6_   la_dc7_  \\\n",
       "0 114.45067 116.13996 116.24139 116.04562 113.64166 111.46099 113.64166   \n",
       "1 113.55838 112.33676 113.08744 112.44963 115.40216 112.17064 115.40217   \n",
       "\n",
       "    la_dc8_   ll_dc5_   ll_dc6_   ll_dc7_   ll_dc8_   rf_dc5_   rf_dc6_  \\\n",
       "0 111.49254 113.63858 110.79612 113.63858 111.70971 113.11896 117.72675   \n",
       "1 112.27709 115.40534 110.77531 115.40534 112.06318 114.29394 112.97736   \n",
       "\n",
       "    rf_dc7_   rf_dc8_   xg_dc5_   xg_dc6_   xg_dc7_   xg_dc8_   ze_dc5_  \\\n",
       "0 114.27504 115.98479 111.46647 113.76937 113.04165 115.16785 115.05325   \n",
       "1 113.95260 112.44378 113.73627 112.57890 112.47257 112.63216 113.76431   \n",
       "\n",
       "    ze_dc6_   ze_dc7_   ze_dc8_   zl_dc5_   zl_dc6_   zl_dc7_   zl_dc8_  \\\n",
       "0 117.22510 115.56738 117.03989 114.17104 115.68138 115.10333 114.03453   \n",
       "1 113.71868 113.54110 113.19984 116.21919 114.84463 116.87978 115.55828   \n",
       "\n",
       "    zr_dc5_   zr_dc6_   zr_dc7_   zr_dc8_   zx_dc5_   zx_dc6_   zx_dc7_  \\\n",
       "0 113.04330 119.11934 114.26909 117.05982 111.11142 115.20426 112.59521   \n",
       "1 114.56918 113.54182 115.02518 113.12045 114.81275 112.89758 116.01717   \n",
       "\n",
       "    zx_dc8_  \n",
       "0 113.82699  \n",
       "1 113.29425  "
      ]
     },
     "metadata": {},
     "output_type": "display_data"
    },
    {
     "name": "stdout",
     "output_type": "stream",
     "text": [
      "(3911, 36)\n",
      "Global OOF r2_score for et_dc5_ : 0.573266659609\n",
      "Global OOF r2_score for et_dc6_ : 0.570046349556\n",
      "Global OOF r2_score for et_dc7_ : 0.572714809399\n",
      "Global OOF r2_score for et_dc8_ : 0.570165875463\n",
      "Global OOF r2_score for la_dc5_ : 0.589199490928\n",
      "Global OOF r2_score for la_dc6_ : 0.552576201935\n",
      "Global OOF r2_score for la_dc7_ : 0.589199548943\n",
      "Global OOF r2_score for la_dc8_ : 0.553238938818\n",
      "Global OOF r2_score for ll_dc5_ : 0.589294859787\n",
      "Global OOF r2_score for ll_dc6_ : 0.534845839354\n",
      "Global OOF r2_score for ll_dc7_ : 0.589354738638\n",
      "Global OOF r2_score for ll_dc8_ : 0.532249067099\n",
      "Global OOF r2_score for rf_dc5_ : 0.569976670549\n",
      "Global OOF r2_score for rf_dc6_ : 0.565657243398\n",
      "Global OOF r2_score for rf_dc7_ : 0.573755763549\n",
      "Global OOF r2_score for rf_dc8_ : 0.569944956905\n",
      "Global OOF r2_score for xg_dc5_ : 0.565180063288\n",
      "Global OOF r2_score for xg_dc6_ : 0.556619230532\n",
      "Global OOF r2_score for xg_dc7_ : 0.564171403775\n",
      "Global OOF r2_score for xg_dc8_ : 0.561883823855\n",
      "Global OOF r2_score for ze_dc5_ : 0.575306055568\n",
      "Global OOF r2_score for ze_dc6_ : 0.571711867593\n",
      "Global OOF r2_score for ze_dc7_ : 0.574843802584\n",
      "Global OOF r2_score for ze_dc8_ : 0.572362500847\n",
      "Global OOF r2_score for zl_dc5_ : 0.576287385965\n",
      "Global OOF r2_score for zl_dc6_ : 0.57095974918\n",
      "Global OOF r2_score for zl_dc7_ : 0.577337826405\n",
      "Global OOF r2_score for zl_dc8_ : 0.57235862761\n",
      "Global OOF r2_score for zr_dc5_ : 0.575816684582\n",
      "Global OOF r2_score for zr_dc6_ : 0.570548573823\n",
      "Global OOF r2_score for zr_dc7_ : 0.577840542711\n",
      "Global OOF r2_score for zr_dc8_ : 0.571887751161\n",
      "Global OOF r2_score for zx_dc5_ : 0.577832315476\n",
      "Global OOF r2_score for zx_dc6_ : 0.569530986721\n",
      "Global OOF r2_score for zx_dc7_ : 0.579007440047\n",
      "Global OOF r2_score for zx_dc8_ : 0.572193676088\n",
      "***** MODEL : ri *****\n",
      "Global OOF r2_score : 0.58799184576\n"
     ]
    },
    {
     "data": {
      "text/html": [
       "<div>\n",
       "<table border=\"1\" class=\"dataframe\">\n",
       "  <thead>\n",
       "    <tr style=\"text-align: right;\">\n",
       "      <th></th>\n",
       "      <th>ID</th>\n",
       "      <th>y</th>\n",
       "    </tr>\n",
       "  </thead>\n",
       "  <tbody>\n",
       "    <tr>\n",
       "      <th>0</th>\n",
       "      <td>1</td>\n",
       "      <td>71.34112</td>\n",
       "    </tr>\n",
       "    <tr>\n",
       "      <th>1</th>\n",
       "      <td>2</td>\n",
       "      <td>93.29043</td>\n",
       "    </tr>\n",
       "  </tbody>\n",
       "</table>\n",
       "</div>"
      ],
      "text/plain": [
       "   ID        y\n",
       "0   1 71.34112\n",
       "1   2 93.29043"
      ]
     },
     "metadata": {},
     "output_type": "display_data"
    },
    {
     "name": "stdout",
     "output_type": "stream",
     "text": [
      "***** MODEL : la *****\n",
      "Global OOF r2_score : 0.589006350016\n"
     ]
    },
    {
     "data": {
      "text/html": [
       "<div>\n",
       "<table border=\"1\" class=\"dataframe\">\n",
       "  <thead>\n",
       "    <tr style=\"text-align: right;\">\n",
       "      <th></th>\n",
       "      <th>ID</th>\n",
       "      <th>y</th>\n",
       "    </tr>\n",
       "  </thead>\n",
       "  <tbody>\n",
       "    <tr>\n",
       "      <th>0</th>\n",
       "      <td>1</td>\n",
       "      <td>71.34112</td>\n",
       "    </tr>\n",
       "    <tr>\n",
       "      <th>1</th>\n",
       "      <td>2</td>\n",
       "      <td>93.76840</td>\n",
       "    </tr>\n",
       "  </tbody>\n",
       "</table>\n",
       "</div>"
      ],
      "text/plain": [
       "   ID        y\n",
       "0   1 71.34112\n",
       "1   2 93.76840"
      ]
     },
     "metadata": {},
     "output_type": "display_data"
    },
    {
     "name": "stdout",
     "output_type": "stream",
     "text": [
      "***** MODEL : kn *****\n",
      "Global OOF r2_score : 0.581117754112\n"
     ]
    },
    {
     "data": {
      "text/html": [
       "<div>\n",
       "<table border=\"1\" class=\"dataframe\">\n",
       "  <thead>\n",
       "    <tr style=\"text-align: right;\">\n",
       "      <th></th>\n",
       "      <th>ID</th>\n",
       "      <th>y</th>\n",
       "    </tr>\n",
       "  </thead>\n",
       "  <tbody>\n",
       "    <tr>\n",
       "      <th>0</th>\n",
       "      <td>1</td>\n",
       "      <td>71.34112</td>\n",
       "    </tr>\n",
       "    <tr>\n",
       "      <th>1</th>\n",
       "      <td>2</td>\n",
       "      <td>93.61209</td>\n",
       "    </tr>\n",
       "  </tbody>\n",
       "</table>\n",
       "</div>"
      ],
      "text/plain": [
       "   ID        y\n",
       "0   1 71.34112\n",
       "1   2 93.61209"
      ]
     },
     "metadata": {},
     "output_type": "display_data"
    },
    {
     "name": "stdout",
     "output_type": "stream",
     "text": [
      "***** MODEL : xg *****\n",
      "Global OOF r2_score : 0.575882624955\n"
     ]
    },
    {
     "data": {
      "text/html": [
       "<div>\n",
       "<table border=\"1\" class=\"dataframe\">\n",
       "  <thead>\n",
       "    <tr style=\"text-align: right;\">\n",
       "      <th></th>\n",
       "      <th>ID</th>\n",
       "      <th>y</th>\n",
       "    </tr>\n",
       "  </thead>\n",
       "  <tbody>\n",
       "    <tr>\n",
       "      <th>0</th>\n",
       "      <td>1</td>\n",
       "      <td>71.34112</td>\n",
       "    </tr>\n",
       "    <tr>\n",
       "      <th>1</th>\n",
       "      <td>2</td>\n",
       "      <td>92.26979</td>\n",
       "    </tr>\n",
       "  </tbody>\n",
       "</table>\n",
       "</div>"
      ],
      "text/plain": [
       "   ID        y\n",
       "0   1 71.34112\n",
       "1   2 92.26979"
      ]
     },
     "metadata": {},
     "output_type": "display_data"
    },
    {
     "name": "stdout",
     "output_type": "stream",
     "text": [
      "***** MODEL : rf *****\n",
      "Global OOF r2_score : 0.577831978494\n"
     ]
    },
    {
     "data": {
      "text/html": [
       "<div>\n",
       "<table border=\"1\" class=\"dataframe\">\n",
       "  <thead>\n",
       "    <tr style=\"text-align: right;\">\n",
       "      <th></th>\n",
       "      <th>ID</th>\n",
       "      <th>y</th>\n",
       "    </tr>\n",
       "  </thead>\n",
       "  <tbody>\n",
       "    <tr>\n",
       "      <th>0</th>\n",
       "      <td>1</td>\n",
       "      <td>71.34112</td>\n",
       "    </tr>\n",
       "    <tr>\n",
       "      <th>1</th>\n",
       "      <td>2</td>\n",
       "      <td>92.84757</td>\n",
       "    </tr>\n",
       "  </tbody>\n",
       "</table>\n",
       "</div>"
      ],
      "text/plain": [
       "   ID        y\n",
       "0   1 71.34112\n",
       "1   2 92.84757"
      ]
     },
     "metadata": {},
     "output_type": "display_data"
    },
    {
     "name": "stdout",
     "output_type": "stream",
     "text": [
      "***** MODEL : et *****\n",
      "Global OOF r2_score : 0.584581256866\n"
     ]
    },
    {
     "data": {
      "text/html": [
       "<div>\n",
       "<table border=\"1\" class=\"dataframe\">\n",
       "  <thead>\n",
       "    <tr style=\"text-align: right;\">\n",
       "      <th></th>\n",
       "      <th>ID</th>\n",
       "      <th>y</th>\n",
       "    </tr>\n",
       "  </thead>\n",
       "  <tbody>\n",
       "    <tr>\n",
       "      <th>0</th>\n",
       "      <td>1</td>\n",
       "      <td>71.34112</td>\n",
       "    </tr>\n",
       "    <tr>\n",
       "      <th>1</th>\n",
       "      <td>2</td>\n",
       "      <td>93.26860</td>\n",
       "    </tr>\n",
       "  </tbody>\n",
       "</table>\n",
       "</div>"
      ],
      "text/plain": [
       "   ID        y\n",
       "0   1 71.34112\n",
       "1   2 93.26860"
      ]
     },
     "metadata": {},
     "output_type": "display_data"
    },
    {
     "name": "stdout",
     "output_type": "stream",
     "text": [
      "***** MODEL : ll *****\n",
      "Global OOF r2_score : 0.589135070765\n"
     ]
    },
    {
     "data": {
      "text/html": [
       "<div>\n",
       "<table border=\"1\" class=\"dataframe\">\n",
       "  <thead>\n",
       "    <tr style=\"text-align: right;\">\n",
       "      <th></th>\n",
       "      <th>ID</th>\n",
       "      <th>y</th>\n",
       "    </tr>\n",
       "  </thead>\n",
       "  <tbody>\n",
       "    <tr>\n",
       "      <th>0</th>\n",
       "      <td>1</td>\n",
       "      <td>71.34112</td>\n",
       "    </tr>\n",
       "    <tr>\n",
       "      <th>1</th>\n",
       "      <td>2</td>\n",
       "      <td>93.77015</td>\n",
       "    </tr>\n",
       "  </tbody>\n",
       "</table>\n",
       "</div>"
      ],
      "text/plain": [
       "   ID        y\n",
       "0   1 71.34112\n",
       "1   2 93.77015"
      ]
     },
     "metadata": {},
     "output_type": "display_data"
    },
    {
     "name": "stdout",
     "output_type": "stream",
     "text": [
      "********************\n"
     ]
    },
    {
     "data": {
      "text/html": [
       "<div>\n",
       "<table border=\"1\" class=\"dataframe\">\n",
       "  <thead>\n",
       "    <tr style=\"text-align: right;\">\n",
       "      <th></th>\n",
       "      <th>et_dc10</th>\n",
       "      <th>et_dc11</th>\n",
       "      <th>et_dc12</th>\n",
       "      <th>et_dc9_</th>\n",
       "      <th>la_dc10</th>\n",
       "      <th>la_dc11</th>\n",
       "      <th>la_dc12</th>\n",
       "      <th>la_dc9_</th>\n",
       "      <th>ll_dc10</th>\n",
       "      <th>ll_dc11</th>\n",
       "      <th>ll_dc12</th>\n",
       "      <th>ll_dc9_</th>\n",
       "      <th>rf_dc10</th>\n",
       "      <th>rf_dc11</th>\n",
       "      <th>rf_dc12</th>\n",
       "      <th>rf_dc9_</th>\n",
       "      <th>xg_dc10</th>\n",
       "      <th>xg_dc11</th>\n",
       "      <th>xg_dc12</th>\n",
       "      <th>xg_dc9_</th>\n",
       "      <th>ze_dc10</th>\n",
       "      <th>ze_dc11</th>\n",
       "      <th>ze_dc12</th>\n",
       "      <th>ze_dc9_</th>\n",
       "      <th>zl_dc10</th>\n",
       "      <th>zl_dc11</th>\n",
       "      <th>zl_dc12</th>\n",
       "      <th>zl_dc9_</th>\n",
       "      <th>zr_dc10</th>\n",
       "      <th>zr_dc11</th>\n",
       "      <th>zr_dc12</th>\n",
       "      <th>zr_dc9_</th>\n",
       "      <th>zx_dc10</th>\n",
       "      <th>zx_dc11</th>\n",
       "      <th>zx_dc12</th>\n",
       "      <th>zx_dc9_</th>\n",
       "    </tr>\n",
       "  </thead>\n",
       "  <tbody>\n",
       "    <tr>\n",
       "      <th>0</th>\n",
       "      <td>114.85678</td>\n",
       "      <td>114.98177</td>\n",
       "      <td>114.42788</td>\n",
       "      <td>115.46676</td>\n",
       "      <td>112.03870</td>\n",
       "      <td>112.08731</td>\n",
       "      <td>111.91761</td>\n",
       "      <td>112.08724</td>\n",
       "      <td>109.05130</td>\n",
       "      <td>112.05932</td>\n",
       "      <td>110.18812</td>\n",
       "      <td>112.05650</td>\n",
       "      <td>119.47159</td>\n",
       "      <td>117.04063</td>\n",
       "      <td>116.68564</td>\n",
       "      <td>119.57778</td>\n",
       "      <td>121.35492</td>\n",
       "      <td>120.84338</td>\n",
       "      <td>120.12239</td>\n",
       "      <td>123.97044</td>\n",
       "      <td>113.28897</td>\n",
       "      <td>113.32631</td>\n",
       "      <td>113.02886</td>\n",
       "      <td>113.64227</td>\n",
       "      <td>112.60036</td>\n",
       "      <td>113.01546</td>\n",
       "      <td>112.23800</td>\n",
       "      <td>115.13210</td>\n",
       "      <td>114.50394</td>\n",
       "      <td>114.10708</td>\n",
       "      <td>113.98318</td>\n",
       "      <td>115.12509</td>\n",
       "      <td>115.72392</td>\n",
       "      <td>114.71352</td>\n",
       "      <td>114.28472</td>\n",
       "      <td>120.28717</td>\n",
       "    </tr>\n",
       "    <tr>\n",
       "      <th>1</th>\n",
       "      <td>112.18253</td>\n",
       "      <td>111.96100</td>\n",
       "      <td>111.53466</td>\n",
       "      <td>112.36859</td>\n",
       "      <td>112.68629</td>\n",
       "      <td>111.47708</td>\n",
       "      <td>111.95564</td>\n",
       "      <td>111.47703</td>\n",
       "      <td>109.40543</td>\n",
       "      <td>111.46920</td>\n",
       "      <td>111.23203</td>\n",
       "      <td>111.46842</td>\n",
       "      <td>113.85367</td>\n",
       "      <td>114.00015</td>\n",
       "      <td>113.88888</td>\n",
       "      <td>113.62114</td>\n",
       "      <td>113.95358</td>\n",
       "      <td>114.29996</td>\n",
       "      <td>113.86963</td>\n",
       "      <td>111.56915</td>\n",
       "      <td>112.32283</td>\n",
       "      <td>112.06589</td>\n",
       "      <td>111.89131</td>\n",
       "      <td>112.39659</td>\n",
       "      <td>114.90832</td>\n",
       "      <td>113.73597</td>\n",
       "      <td>113.74587</td>\n",
       "      <td>113.44306</td>\n",
       "      <td>113.22259</td>\n",
       "      <td>113.56120</td>\n",
       "      <td>112.95125</td>\n",
       "      <td>113.12255</td>\n",
       "      <td>113.59009</td>\n",
       "      <td>113.37076</td>\n",
       "      <td>113.35400</td>\n",
       "      <td>111.84917</td>\n",
       "    </tr>\n",
       "  </tbody>\n",
       "</table>\n",
       "</div>"
      ],
      "text/plain": [
       "    et_dc10   et_dc11   et_dc12   et_dc9_   la_dc10   la_dc11   la_dc12  \\\n",
       "0 114.85678 114.98177 114.42788 115.46676 112.03870 112.08731 111.91761   \n",
       "1 112.18253 111.96100 111.53466 112.36859 112.68629 111.47708 111.95564   \n",
       "\n",
       "    la_dc9_   ll_dc10   ll_dc11   ll_dc12   ll_dc9_   rf_dc10   rf_dc11  \\\n",
       "0 112.08724 109.05130 112.05932 110.18812 112.05650 119.47159 117.04063   \n",
       "1 111.47703 109.40543 111.46920 111.23203 111.46842 113.85367 114.00015   \n",
       "\n",
       "    rf_dc12   rf_dc9_   xg_dc10   xg_dc11   xg_dc12   xg_dc9_   ze_dc10  \\\n",
       "0 116.68564 119.57778 121.35492 120.84338 120.12239 123.97044 113.28897   \n",
       "1 113.88888 113.62114 113.95358 114.29996 113.86963 111.56915 112.32283   \n",
       "\n",
       "    ze_dc11   ze_dc12   ze_dc9_   zl_dc10   zl_dc11   zl_dc12   zl_dc9_  \\\n",
       "0 113.32631 113.02886 113.64227 112.60036 113.01546 112.23800 115.13210   \n",
       "1 112.06589 111.89131 112.39659 114.90832 113.73597 113.74587 113.44306   \n",
       "\n",
       "    zr_dc10   zr_dc11   zr_dc12   zr_dc9_   zx_dc10   zx_dc11   zx_dc12  \\\n",
       "0 114.50394 114.10708 113.98318 115.12509 115.72392 114.71352 114.28472   \n",
       "1 113.22259 113.56120 112.95125 113.12255 113.59009 113.37076 113.35400   \n",
       "\n",
       "    zx_dc9_  \n",
       "0 120.28717  \n",
       "1 111.84917  "
      ]
     },
     "metadata": {},
     "output_type": "display_data"
    },
    {
     "name": "stdout",
     "output_type": "stream",
     "text": [
      "(4256, 36)\n",
      "Global OOF r2_score for et_dc10 : 0.560934010843\n",
      "Global OOF r2_score for et_dc11 : 0.563664062419\n",
      "Global OOF r2_score for et_dc12 : 0.560809641914\n",
      "Global OOF r2_score for et_dc9_ : 0.564630020252\n",
      "Global OOF r2_score for la_dc10 : 0.558537475667\n",
      "Global OOF r2_score for la_dc11 : 0.581673030285\n",
      "Global OOF r2_score for la_dc12 : 0.55766286836\n",
      "Global OOF r2_score for la_dc9_ : 0.581740299839\n",
      "Global OOF r2_score for ll_dc10 : 0.523361850702\n",
      "Global OOF r2_score for ll_dc11 : 0.581691062679\n",
      "Global OOF r2_score for ll_dc12 : 0.536840856246\n",
      "Global OOF r2_score for ll_dc9_ : 0.581653684042\n",
      "Global OOF r2_score for rf_dc10 : 0.559147985309\n",
      "Global OOF r2_score for rf_dc11 : 0.566022537383\n",
      "Global OOF r2_score for rf_dc12 : 0.56036283879\n",
      "Global OOF r2_score for rf_dc9_ : 0.564071493423\n",
      "Global OOF r2_score for xg_dc10 : 0.552616613884\n",
      "Global OOF r2_score for xg_dc11 : 0.562122026962\n",
      "Global OOF r2_score for xg_dc12 : 0.556242846329\n",
      "Global OOF r2_score for xg_dc9_ : 0.557551822905\n",
      "Global OOF r2_score for ze_dc10 : 0.563858084493\n",
      "Global OOF r2_score for ze_dc11 : 0.567213877708\n",
      "Global OOF r2_score for ze_dc12 : 0.563029376985\n",
      "Global OOF r2_score for ze_dc9_ : 0.567498163823\n",
      "Global OOF r2_score for zl_dc10 : 0.564289385934\n",
      "Global OOF r2_score for zl_dc11 : 0.570137740387\n",
      "Global OOF r2_score for zl_dc12 : 0.564379103167\n",
      "Global OOF r2_score for zl_dc9_ : 0.570732193351\n",
      "Global OOF r2_score for zr_dc10 : 0.565681437786\n",
      "Global OOF r2_score for zr_dc11 : 0.569645778804\n",
      "Global OOF r2_score for zr_dc12 : 0.564086612403\n",
      "Global OOF r2_score for zr_dc9_ : 0.568801432515\n",
      "Global OOF r2_score for zx_dc10 : 0.565878107439\n",
      "Global OOF r2_score for zx_dc11 : 0.571379243936\n",
      "Global OOF r2_score for zx_dc12 : 0.564568583534\n",
      "Global OOF r2_score for zx_dc9_ : 0.57080908051\n",
      "***** MODEL : ri *****\n",
      "Global OOF r2_score : 0.580334830489\n"
     ]
    },
    {
     "data": {
      "text/html": [
       "<div>\n",
       "<table border=\"1\" class=\"dataframe\">\n",
       "  <thead>\n",
       "    <tr style=\"text-align: right;\">\n",
       "      <th></th>\n",
       "      <th>ID</th>\n",
       "      <th>y</th>\n",
       "    </tr>\n",
       "  </thead>\n",
       "  <tbody>\n",
       "    <tr>\n",
       "      <th>0</th>\n",
       "      <td>1</td>\n",
       "      <td>71.34112</td>\n",
       "    </tr>\n",
       "    <tr>\n",
       "      <th>1</th>\n",
       "      <td>2</td>\n",
       "      <td>93.07151</td>\n",
       "    </tr>\n",
       "  </tbody>\n",
       "</table>\n",
       "</div>"
      ],
      "text/plain": [
       "   ID        y\n",
       "0   1 71.34112\n",
       "1   2 93.07151"
      ]
     },
     "metadata": {},
     "output_type": "display_data"
    },
    {
     "name": "stdout",
     "output_type": "stream",
     "text": [
      "***** MODEL : la *****\n",
      "Global OOF r2_score : 0.581035291505\n"
     ]
    },
    {
     "data": {
      "text/html": [
       "<div>\n",
       "<table border=\"1\" class=\"dataframe\">\n",
       "  <thead>\n",
       "    <tr style=\"text-align: right;\">\n",
       "      <th></th>\n",
       "      <th>ID</th>\n",
       "      <th>y</th>\n",
       "    </tr>\n",
       "  </thead>\n",
       "  <tbody>\n",
       "    <tr>\n",
       "      <th>0</th>\n",
       "      <td>1</td>\n",
       "      <td>71.34112</td>\n",
       "    </tr>\n",
       "    <tr>\n",
       "      <th>1</th>\n",
       "      <td>2</td>\n",
       "      <td>93.84590</td>\n",
       "    </tr>\n",
       "  </tbody>\n",
       "</table>\n",
       "</div>"
      ],
      "text/plain": [
       "   ID        y\n",
       "0   1 71.34112\n",
       "1   2 93.84590"
      ]
     },
     "metadata": {},
     "output_type": "display_data"
    },
    {
     "name": "stdout",
     "output_type": "stream",
     "text": [
      "***** MODEL : kn *****\n",
      "Global OOF r2_score : 0.575672034722\n"
     ]
    },
    {
     "data": {
      "text/html": [
       "<div>\n",
       "<table border=\"1\" class=\"dataframe\">\n",
       "  <thead>\n",
       "    <tr style=\"text-align: right;\">\n",
       "      <th></th>\n",
       "      <th>ID</th>\n",
       "      <th>y</th>\n",
       "    </tr>\n",
       "  </thead>\n",
       "  <tbody>\n",
       "    <tr>\n",
       "      <th>0</th>\n",
       "      <td>1</td>\n",
       "      <td>71.34112</td>\n",
       "    </tr>\n",
       "    <tr>\n",
       "      <th>1</th>\n",
       "      <td>2</td>\n",
       "      <td>96.33646</td>\n",
       "    </tr>\n",
       "  </tbody>\n",
       "</table>\n",
       "</div>"
      ],
      "text/plain": [
       "   ID        y\n",
       "0   1 71.34112\n",
       "1   2 96.33646"
      ]
     },
     "metadata": {},
     "output_type": "display_data"
    },
    {
     "name": "stdout",
     "output_type": "stream",
     "text": [
      "***** MODEL : xg *****\n",
      "Global OOF r2_score : 0.568088669404\n"
     ]
    },
    {
     "data": {
      "text/html": [
       "<div>\n",
       "<table border=\"1\" class=\"dataframe\">\n",
       "  <thead>\n",
       "    <tr style=\"text-align: right;\">\n",
       "      <th></th>\n",
       "      <th>ID</th>\n",
       "      <th>y</th>\n",
       "    </tr>\n",
       "  </thead>\n",
       "  <tbody>\n",
       "    <tr>\n",
       "      <th>0</th>\n",
       "      <td>1</td>\n",
       "      <td>71.34112</td>\n",
       "    </tr>\n",
       "    <tr>\n",
       "      <th>1</th>\n",
       "      <td>2</td>\n",
       "      <td>93.92741</td>\n",
       "    </tr>\n",
       "  </tbody>\n",
       "</table>\n",
       "</div>"
      ],
      "text/plain": [
       "   ID        y\n",
       "0   1 71.34112\n",
       "1   2 93.92741"
      ]
     },
     "metadata": {},
     "output_type": "display_data"
    },
    {
     "name": "stdout",
     "output_type": "stream",
     "text": [
      "***** MODEL : rf *****\n",
      "Global OOF r2_score : 0.570916998249\n"
     ]
    },
    {
     "data": {
      "text/html": [
       "<div>\n",
       "<table border=\"1\" class=\"dataframe\">\n",
       "  <thead>\n",
       "    <tr style=\"text-align: right;\">\n",
       "      <th></th>\n",
       "      <th>ID</th>\n",
       "      <th>y</th>\n",
       "    </tr>\n",
       "  </thead>\n",
       "  <tbody>\n",
       "    <tr>\n",
       "      <th>0</th>\n",
       "      <td>1</td>\n",
       "      <td>71.34112</td>\n",
       "    </tr>\n",
       "    <tr>\n",
       "      <th>1</th>\n",
       "      <td>2</td>\n",
       "      <td>96.67421</td>\n",
       "    </tr>\n",
       "  </tbody>\n",
       "</table>\n",
       "</div>"
      ],
      "text/plain": [
       "   ID        y\n",
       "0   1 71.34112\n",
       "1   2 96.67421"
      ]
     },
     "metadata": {},
     "output_type": "display_data"
    },
    {
     "name": "stdout",
     "output_type": "stream",
     "text": [
      "***** MODEL : et *****\n",
      "Global OOF r2_score : 0.57831084656\n"
     ]
    },
    {
     "data": {
      "text/html": [
       "<div>\n",
       "<table border=\"1\" class=\"dataframe\">\n",
       "  <thead>\n",
       "    <tr style=\"text-align: right;\">\n",
       "      <th></th>\n",
       "      <th>ID</th>\n",
       "      <th>y</th>\n",
       "    </tr>\n",
       "  </thead>\n",
       "  <tbody>\n",
       "    <tr>\n",
       "      <th>0</th>\n",
       "      <td>1</td>\n",
       "      <td>71.34112</td>\n",
       "    </tr>\n",
       "    <tr>\n",
       "      <th>1</th>\n",
       "      <td>2</td>\n",
       "      <td>96.39164</td>\n",
       "    </tr>\n",
       "  </tbody>\n",
       "</table>\n",
       "</div>"
      ],
      "text/plain": [
       "   ID        y\n",
       "0   1 71.34112\n",
       "1   2 96.39164"
      ]
     },
     "metadata": {},
     "output_type": "display_data"
    },
    {
     "name": "stdout",
     "output_type": "stream",
     "text": [
      "***** MODEL : ll *****\n",
      "Global OOF r2_score : 0.581083537451\n"
     ]
    },
    {
     "data": {
      "text/html": [
       "<div>\n",
       "<table border=\"1\" class=\"dataframe\">\n",
       "  <thead>\n",
       "    <tr style=\"text-align: right;\">\n",
       "      <th></th>\n",
       "      <th>ID</th>\n",
       "      <th>y</th>\n",
       "    </tr>\n",
       "  </thead>\n",
       "  <tbody>\n",
       "    <tr>\n",
       "      <th>0</th>\n",
       "      <td>1</td>\n",
       "      <td>71.34112</td>\n",
       "    </tr>\n",
       "    <tr>\n",
       "      <th>1</th>\n",
       "      <td>2</td>\n",
       "      <td>93.86867</td>\n",
       "    </tr>\n",
       "  </tbody>\n",
       "</table>\n",
       "</div>"
      ],
      "text/plain": [
       "   ID        y\n",
       "0   1 71.34112\n",
       "1   2 93.86867"
      ]
     },
     "metadata": {},
     "output_type": "display_data"
    },
    {
     "name": "stdout",
     "output_type": "stream",
     "text": [
      "********************\n"
     ]
    },
    {
     "data": {
      "text/html": [
       "<div>\n",
       "<table border=\"1\" class=\"dataframe\">\n",
       "  <thead>\n",
       "    <tr style=\"text-align: right;\">\n",
       "      <th></th>\n",
       "      <th>et_dc13</th>\n",
       "      <th>et_dc14</th>\n",
       "      <th>et_dc15</th>\n",
       "      <th>et_dc16</th>\n",
       "      <th>la_dc13</th>\n",
       "      <th>la_dc14</th>\n",
       "      <th>la_dc15</th>\n",
       "      <th>la_dc16</th>\n",
       "      <th>ll_dc13</th>\n",
       "      <th>ll_dc14</th>\n",
       "      <th>ll_dc15</th>\n",
       "      <th>ll_dc16</th>\n",
       "      <th>rf_dc13</th>\n",
       "      <th>rf_dc14</th>\n",
       "      <th>rf_dc15</th>\n",
       "      <th>rf_dc16</th>\n",
       "      <th>xg_dc13</th>\n",
       "      <th>xg_dc14</th>\n",
       "      <th>xg_dc15</th>\n",
       "      <th>xg_dc16</th>\n",
       "      <th>ze_dc13</th>\n",
       "      <th>ze_dc14</th>\n",
       "      <th>ze_dc15</th>\n",
       "      <th>ze_dc16</th>\n",
       "      <th>zl_dc13</th>\n",
       "      <th>zl_dc14</th>\n",
       "      <th>zl_dc15</th>\n",
       "      <th>zl_dc16</th>\n",
       "      <th>zr_dc13</th>\n",
       "      <th>zr_dc14</th>\n",
       "      <th>zr_dc15</th>\n",
       "      <th>zr_dc16</th>\n",
       "      <th>zx_dc13</th>\n",
       "      <th>zx_dc14</th>\n",
       "      <th>zx_dc15</th>\n",
       "      <th>zx_dc16</th>\n",
       "    </tr>\n",
       "  </thead>\n",
       "  <tbody>\n",
       "    <tr>\n",
       "      <th>0</th>\n",
       "      <td>93.84978</td>\n",
       "      <td>93.86084</td>\n",
       "      <td>93.92445</td>\n",
       "      <td>93.80251</td>\n",
       "      <td>94.68402</td>\n",
       "      <td>95.13141</td>\n",
       "      <td>94.66903</td>\n",
       "      <td>95.34255</td>\n",
       "      <td>94.67848</td>\n",
       "      <td>95.54637</td>\n",
       "      <td>94.67470</td>\n",
       "      <td>95.54123</td>\n",
       "      <td>93.93210</td>\n",
       "      <td>94.05836</td>\n",
       "      <td>94.37814</td>\n",
       "      <td>93.84041</td>\n",
       "      <td>94.26835</td>\n",
       "      <td>94.05815</td>\n",
       "      <td>94.16409</td>\n",
       "      <td>94.79631</td>\n",
       "      <td>94.12021</td>\n",
       "      <td>94.01554</td>\n",
       "      <td>93.85426</td>\n",
       "      <td>93.68988</td>\n",
       "      <td>94.79436</td>\n",
       "      <td>95.68257</td>\n",
       "      <td>95.50095</td>\n",
       "      <td>95.41343</td>\n",
       "      <td>94.35216</td>\n",
       "      <td>94.16589</td>\n",
       "      <td>94.50588</td>\n",
       "      <td>94.09573</td>\n",
       "      <td>94.25036</td>\n",
       "      <td>95.16053</td>\n",
       "      <td>95.07507</td>\n",
       "      <td>94.57716</td>\n",
       "    </tr>\n",
       "    <tr>\n",
       "      <th>1</th>\n",
       "      <td>93.78679</td>\n",
       "      <td>93.88178</td>\n",
       "      <td>93.84461</td>\n",
       "      <td>93.74212</td>\n",
       "      <td>94.68402</td>\n",
       "      <td>95.61431</td>\n",
       "      <td>94.66903</td>\n",
       "      <td>95.20582</td>\n",
       "      <td>94.67848</td>\n",
       "      <td>96.10846</td>\n",
       "      <td>94.67470</td>\n",
       "      <td>95.53832</td>\n",
       "      <td>94.22226</td>\n",
       "      <td>94.63810</td>\n",
       "      <td>94.15017</td>\n",
       "      <td>93.92321</td>\n",
       "      <td>96.63270</td>\n",
       "      <td>95.33356</td>\n",
       "      <td>94.56316</td>\n",
       "      <td>94.70465</td>\n",
       "      <td>94.09648</td>\n",
       "      <td>94.02460</td>\n",
       "      <td>93.84053</td>\n",
       "      <td>93.73856</td>\n",
       "      <td>93.83572</td>\n",
       "      <td>94.97057</td>\n",
       "      <td>94.28109</td>\n",
       "      <td>94.84468</td>\n",
       "      <td>94.22514</td>\n",
       "      <td>94.21772</td>\n",
       "      <td>94.16040</td>\n",
       "      <td>94.09576</td>\n",
       "      <td>94.86374</td>\n",
       "      <td>94.76603</td>\n",
       "      <td>94.24782</td>\n",
       "      <td>94.72537</td>\n",
       "    </tr>\n",
       "  </tbody>\n",
       "</table>\n",
       "</div>"
      ],
      "text/plain": [
       "   et_dc13  et_dc14  et_dc15  et_dc16  la_dc13  la_dc14  la_dc15  la_dc16  \\\n",
       "0 93.84978 93.86084 93.92445 93.80251 94.68402 95.13141 94.66903 95.34255   \n",
       "1 93.78679 93.88178 93.84461 93.74212 94.68402 95.61431 94.66903 95.20582   \n",
       "\n",
       "   ll_dc13  ll_dc14  ll_dc15  ll_dc16  rf_dc13  rf_dc14  rf_dc15  rf_dc16  \\\n",
       "0 94.67848 95.54637 94.67470 95.54123 93.93210 94.05836 94.37814 93.84041   \n",
       "1 94.67848 96.10846 94.67470 95.53832 94.22226 94.63810 94.15017 93.92321   \n",
       "\n",
       "   xg_dc13  xg_dc14  xg_dc15  xg_dc16  ze_dc13  ze_dc14  ze_dc15  ze_dc16  \\\n",
       "0 94.26835 94.05815 94.16409 94.79631 94.12021 94.01554 93.85426 93.68988   \n",
       "1 96.63270 95.33356 94.56316 94.70465 94.09648 94.02460 93.84053 93.73856   \n",
       "\n",
       "   zl_dc13  zl_dc14  zl_dc15  zl_dc16  zr_dc13  zr_dc14  zr_dc15  zr_dc16  \\\n",
       "0 94.79436 95.68257 95.50095 95.41343 94.35216 94.16589 94.50588 94.09573   \n",
       "1 93.83572 94.97057 94.28109 94.84468 94.22514 94.21772 94.16040 94.09576   \n",
       "\n",
       "   zx_dc13  zx_dc14  zx_dc15  zx_dc16  \n",
       "0 94.25036 95.16053 95.07507 94.57716  \n",
       "1 94.86374 94.76603 94.24782 94.72537  "
      ]
     },
     "metadata": {},
     "output_type": "display_data"
    },
    {
     "name": "stdout",
     "output_type": "stream",
     "text": [
      "(4209, 36)\n",
      "Global OOF r2_score for et_dc13 : 0.56833788137\n",
      "Global OOF r2_score for et_dc14 : 0.567201128191\n",
      "Global OOF r2_score for et_dc15 : 0.56871831139\n",
      "Global OOF r2_score for et_dc16 : 0.567136181641\n",
      "Global OOF r2_score for la_dc13 : 0.582247141372\n",
      "Global OOF r2_score for la_dc14 : 0.566013706864\n",
      "Global OOF r2_score for la_dc15 : 0.582436417144\n",
      "Global OOF r2_score for la_dc16 : 0.565794115392\n",
      "Global OOF r2_score for ll_dc13 : 0.582304687756\n",
      "Global OOF r2_score for ll_dc14 : 0.534194872518\n",
      "Global OOF r2_score for ll_dc15 : 0.58239370996\n",
      "Global OOF r2_score for ll_dc16 : 0.542533148316\n",
      "Global OOF r2_score for rf_dc13 : 0.564452366033\n",
      "Global OOF r2_score for rf_dc14 : 0.561725084315\n",
      "Global OOF r2_score for rf_dc15 : 0.568633845006\n",
      "Global OOF r2_score for rf_dc16 : 0.56645038039\n",
      "Global OOF r2_score for xg_dc13 : 0.557136680385\n",
      "Global OOF r2_score for xg_dc14 : 0.549924384186\n",
      "Global OOF r2_score for xg_dc15 : 0.561992506787\n",
      "Global OOF r2_score for xg_dc16 : 0.559730978313\n",
      "Global OOF r2_score for ze_dc13 : 0.57234842236\n",
      "Global OOF r2_score for ze_dc14 : 0.570396263917\n",
      "Global OOF r2_score for ze_dc15 : 0.571050941424\n",
      "Global OOF r2_score for ze_dc16 : 0.568719369335\n",
      "Global OOF r2_score for zl_dc13 : 0.572251221423\n",
      "Global OOF r2_score for zl_dc14 : 0.567314209796\n",
      "Global OOF r2_score for zl_dc15 : 0.571842558259\n",
      "Global OOF r2_score for zl_dc16 : 0.567532970339\n",
      "Global OOF r2_score for zr_dc13 : 0.571501095704\n",
      "Global OOF r2_score for zr_dc14 : 0.568463297967\n",
      "Global OOF r2_score for zr_dc15 : 0.573088073429\n",
      "Global OOF r2_score for zr_dc16 : 0.570687210466\n",
      "Global OOF r2_score for zx_dc13 : 0.572703765506\n",
      "Global OOF r2_score for zx_dc14 : 0.567501932647\n",
      "Global OOF r2_score for zx_dc15 : 0.574141582813\n",
      "Global OOF r2_score for zx_dc16 : 0.568458716125\n",
      "***** MODEL : ri *****\n",
      "Global OOF r2_score : 0.585244113047\n"
     ]
    },
    {
     "data": {
      "text/html": [
       "<div>\n",
       "<table border=\"1\" class=\"dataframe\">\n",
       "  <thead>\n",
       "    <tr style=\"text-align: right;\">\n",
       "      <th></th>\n",
       "      <th>ID</th>\n",
       "      <th>y</th>\n",
       "    </tr>\n",
       "  </thead>\n",
       "  <tbody>\n",
       "    <tr>\n",
       "      <th>0</th>\n",
       "      <td>1</td>\n",
       "      <td>71.34112</td>\n",
       "    </tr>\n",
       "    <tr>\n",
       "      <th>1</th>\n",
       "      <td>2</td>\n",
       "      <td>84.93981</td>\n",
       "    </tr>\n",
       "  </tbody>\n",
       "</table>\n",
       "</div>"
      ],
      "text/plain": [
       "   ID        y\n",
       "0   1 71.34112\n",
       "1   2 84.93981"
      ]
     },
     "metadata": {},
     "output_type": "display_data"
    },
    {
     "name": "stdout",
     "output_type": "stream",
     "text": [
      "***** MODEL : la *****\n",
      "Global OOF r2_score : 0.583670035197\n"
     ]
    },
    {
     "data": {
      "text/html": [
       "<div>\n",
       "<table border=\"1\" class=\"dataframe\">\n",
       "  <thead>\n",
       "    <tr style=\"text-align: right;\">\n",
       "      <th></th>\n",
       "      <th>ID</th>\n",
       "      <th>y</th>\n",
       "    </tr>\n",
       "  </thead>\n",
       "  <tbody>\n",
       "    <tr>\n",
       "      <th>0</th>\n",
       "      <td>1</td>\n",
       "      <td>71.34112</td>\n",
       "    </tr>\n",
       "    <tr>\n",
       "      <th>1</th>\n",
       "      <td>2</td>\n",
       "      <td>84.35426</td>\n",
       "    </tr>\n",
       "  </tbody>\n",
       "</table>\n",
       "</div>"
      ],
      "text/plain": [
       "   ID        y\n",
       "0   1 71.34112\n",
       "1   2 84.35426"
      ]
     },
     "metadata": {},
     "output_type": "display_data"
    },
    {
     "name": "stdout",
     "output_type": "stream",
     "text": [
      "***** MODEL : kn *****\n",
      "Global OOF r2_score : 0.578635586326\n"
     ]
    },
    {
     "data": {
      "text/html": [
       "<div>\n",
       "<table border=\"1\" class=\"dataframe\">\n",
       "  <thead>\n",
       "    <tr style=\"text-align: right;\">\n",
       "      <th></th>\n",
       "      <th>ID</th>\n",
       "      <th>y</th>\n",
       "    </tr>\n",
       "  </thead>\n",
       "  <tbody>\n",
       "    <tr>\n",
       "      <th>0</th>\n",
       "      <td>1</td>\n",
       "      <td>71.34112</td>\n",
       "    </tr>\n",
       "    <tr>\n",
       "      <th>1</th>\n",
       "      <td>2</td>\n",
       "      <td>94.92351</td>\n",
       "    </tr>\n",
       "  </tbody>\n",
       "</table>\n",
       "</div>"
      ],
      "text/plain": [
       "   ID        y\n",
       "0   1 71.34112\n",
       "1   2 94.92351"
      ]
     },
     "metadata": {},
     "output_type": "display_data"
    },
    {
     "name": "stdout",
     "output_type": "stream",
     "text": [
      "***** MODEL : xg *****\n",
      "Global OOF r2_score : 0.57246713873\n"
     ]
    },
    {
     "data": {
      "text/html": [
       "<div>\n",
       "<table border=\"1\" class=\"dataframe\">\n",
       "  <thead>\n",
       "    <tr style=\"text-align: right;\">\n",
       "      <th></th>\n",
       "      <th>ID</th>\n",
       "      <th>y</th>\n",
       "    </tr>\n",
       "  </thead>\n",
       "  <tbody>\n",
       "    <tr>\n",
       "      <th>0</th>\n",
       "      <td>1</td>\n",
       "      <td>71.34112</td>\n",
       "    </tr>\n",
       "    <tr>\n",
       "      <th>1</th>\n",
       "      <td>2</td>\n",
       "      <td>92.06858</td>\n",
       "    </tr>\n",
       "  </tbody>\n",
       "</table>\n",
       "</div>"
      ],
      "text/plain": [
       "   ID        y\n",
       "0   1 71.34112\n",
       "1   2 92.06858"
      ]
     },
     "metadata": {},
     "output_type": "display_data"
    },
    {
     "name": "stdout",
     "output_type": "stream",
     "text": [
      "***** MODEL : rf *****\n",
      "Global OOF r2_score : 0.574843553589\n"
     ]
    },
    {
     "data": {
      "text/html": [
       "<div>\n",
       "<table border=\"1\" class=\"dataframe\">\n",
       "  <thead>\n",
       "    <tr style=\"text-align: right;\">\n",
       "      <th></th>\n",
       "      <th>ID</th>\n",
       "      <th>y</th>\n",
       "    </tr>\n",
       "  </thead>\n",
       "  <tbody>\n",
       "    <tr>\n",
       "      <th>0</th>\n",
       "      <td>1</td>\n",
       "      <td>71.34112</td>\n",
       "    </tr>\n",
       "    <tr>\n",
       "      <th>1</th>\n",
       "      <td>2</td>\n",
       "      <td>94.54255</td>\n",
       "    </tr>\n",
       "  </tbody>\n",
       "</table>\n",
       "</div>"
      ],
      "text/plain": [
       "   ID        y\n",
       "0   1 71.34112\n",
       "1   2 94.54255"
      ]
     },
     "metadata": {},
     "output_type": "display_data"
    },
    {
     "name": "stdout",
     "output_type": "stream",
     "text": [
      "***** MODEL : et *****\n",
      "Global OOF r2_score : 0.580195546938\n"
     ]
    },
    {
     "data": {
      "text/html": [
       "<div>\n",
       "<table border=\"1\" class=\"dataframe\">\n",
       "  <thead>\n",
       "    <tr style=\"text-align: right;\">\n",
       "      <th></th>\n",
       "      <th>ID</th>\n",
       "      <th>y</th>\n",
       "    </tr>\n",
       "  </thead>\n",
       "  <tbody>\n",
       "    <tr>\n",
       "      <th>0</th>\n",
       "      <td>1</td>\n",
       "      <td>71.34112</td>\n",
       "    </tr>\n",
       "    <tr>\n",
       "      <th>1</th>\n",
       "      <td>2</td>\n",
       "      <td>94.44497</td>\n",
       "    </tr>\n",
       "  </tbody>\n",
       "</table>\n",
       "</div>"
      ],
      "text/plain": [
       "   ID        y\n",
       "0   1 71.34112\n",
       "1   2 94.44497"
      ]
     },
     "metadata": {},
     "output_type": "display_data"
    },
    {
     "name": "stdout",
     "output_type": "stream",
     "text": [
      "***** MODEL : ll *****\n",
      "Global OOF r2_score : 0.583793090577\n"
     ]
    },
    {
     "data": {
      "text/html": [
       "<div>\n",
       "<table border=\"1\" class=\"dataframe\">\n",
       "  <thead>\n",
       "    <tr style=\"text-align: right;\">\n",
       "      <th></th>\n",
       "      <th>ID</th>\n",
       "      <th>y</th>\n",
       "    </tr>\n",
       "  </thead>\n",
       "  <tbody>\n",
       "    <tr>\n",
       "      <th>0</th>\n",
       "      <td>1</td>\n",
       "      <td>71.34112</td>\n",
       "    </tr>\n",
       "    <tr>\n",
       "      <th>1</th>\n",
       "      <td>2</td>\n",
       "      <td>84.40949</td>\n",
       "    </tr>\n",
       "  </tbody>\n",
       "</table>\n",
       "</div>"
      ],
      "text/plain": [
       "   ID        y\n",
       "0   1 71.34112\n",
       "1   2 84.40949"
      ]
     },
     "metadata": {},
     "output_type": "display_data"
    }
   ],
   "source": [
    "# Run stacker\n",
    "for i in range(len(oof_preds_dirs)) :\n",
    "    print(\"********************\")\n",
    "    oof_preds_dir = oof_preds_dirs[i]\n",
    "    oof_targets_dir = oof_targets_dirs[i]\n",
    "    preds_dir = preds_dirs[i]\n",
    "\n",
    "    # Create Level 2 inputs\n",
    "    level_one_preds, level_one_targets, level_one_test = get_level_one_data(oof_preds_dir, oof_targets_dir, preds_dir)\n",
    "    display(level_one_preds.head(2))\n",
    "    print(level_one_preds.shape)\n",
    "    \n",
    "    # Get error of each OOF column\n",
    "    for col in level_one_preds.columns :\n",
    "        cv_score = r2_score(level_one_targets[col], level_one_preds[col])\n",
    "        print(\"Global OOF r2_score for \" + col + \" : \" + str(cv_score))\n",
    "\n",
    "    # Try different level 2 models\n",
    "    for model_name, model  in models.items() :\n",
    "        print(\"***** MODEL : \" + model_name + \" *****\")\n",
    "\n",
    "        # Get CV score\n",
    "        cv_score = get_cv_score(model, level_one_preds, level_one_targets.iloc[:, 0])\n",
    "\n",
    "        # Fit, predict\n",
    "        model.fit(level_one_preds, level_one_targets.iloc[:, 0])\n",
    "        preds = model.predict(level_one_test)\n",
    "        \n",
    "        # Handle format problems\n",
    "        #if isinstance(model, (RidgeCV, KNeighborsRegressor)) :\n",
    "        #    preds = pd.DataFrame(preds).iloc[:, 0].values            \n",
    "                        \n",
    "        # Modify probed values\n",
    "        conf_name = oof_preds_dirs[i].split(\"/\")[1]\n",
    "        file_name = \"ens_preds/stacker_\" + conf_name + \"_\" + model_name + \".csv\"\n",
    "        final_preds = pd.DataFrame({\"ID\": init_test.ID.values, \"y\": pd.DataFrame(preds)[0]})\n",
    "        final_preds = pd.merge(final_preds, probe_df[[\"ID\", \"y\"]], how = \"left\", on = \"ID\")\n",
    "        final_preds[\"y\"] = final_preds.apply(replace_probed_y, axis = 1)\n",
    "        final_preds.drop([\"y_x\", \"y_y\"], axis = 1, inplace = True)\n",
    "\n",
    "        # Save predictions\n",
    "        final_preds.to_csv(file_name, index = False)\n",
    "        display(final_preds.head(2))\n"
   ]
  },
  {
   "cell_type": "code",
   "execution_count": null,
   "metadata": {
    "collapsed": true
   },
   "outputs": [],
   "source": []
  },
  {
   "cell_type": "code",
   "execution_count": null,
   "metadata": {
    "collapsed": true
   },
   "outputs": [],
   "source": []
  }
 ],
 "metadata": {
  "anaconda-cloud": {},
  "kernelspec": {
   "display_name": "Python [Root]",
   "language": "python",
   "name": "Python [Root]"
  },
  "language_info": {
   "codemirror_mode": {
    "name": "ipython",
    "version": 3
   },
   "file_extension": ".py",
   "mimetype": "text/x-python",
   "name": "python",
   "nbconvert_exporter": "python",
   "pygments_lexer": "ipython3",
   "version": "3.5.2"
  },
  "widgets": {
   "state": {},
   "version": "1.1.2"
  }
 },
 "nbformat": 4,
 "nbformat_minor": 2
}
