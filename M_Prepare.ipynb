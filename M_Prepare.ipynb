{
 "cells": [
  {
   "cell_type": "code",
   "execution_count": 1,
   "metadata": {
    "collapsed": true,
    "deletable": true,
    "editable": true
   },
   "outputs": [],
   "source": [
    "# Imports\n",
    "import pandas as pd\n",
    "import numpy as np\n",
    "from IPython.display import display\n",
    "import matplotlib.pyplot as plt\n",
    "import seaborn as sns\n",
    "import warnings\n",
    "from sklearn.preprocessing import LabelEncoder\n",
    "from sklearn.decomposition import PCA, FastICA, TruncatedSVD\n",
    "from sklearn.random_projection import GaussianRandomProjection, SparseRandomProjection\n",
    "\n",
    "# Definitions\n",
    "pd.set_option('display.float_format', lambda x: '%.3f' % x)\n",
    "%matplotlib inline\n",
    "warnings.simplefilter('ignore')\n",
    "N_JOBS = -1\n",
    "SEED = 2017\n",
    "SHIFT = 5\n",
    "FOLDS = 5"
   ]
  },
  {
   "cell_type": "code",
   "execution_count": 2,
   "metadata": {
    "collapsed": false,
    "deletable": true,
    "editable": true
   },
   "outputs": [
    {
     "data": {
      "text/plain": [
       "(4209, 378)"
      ]
     },
     "metadata": {},
     "output_type": "display_data"
    },
    {
     "data": {
      "text/html": [
       "<div>\n",
       "<table border=\"1\" class=\"dataframe\">\n",
       "  <thead>\n",
       "    <tr style=\"text-align: right;\">\n",
       "      <th></th>\n",
       "      <th>ID</th>\n",
       "      <th>y</th>\n",
       "      <th>X0</th>\n",
       "      <th>X1</th>\n",
       "      <th>X2</th>\n",
       "      <th>X3</th>\n",
       "      <th>X4</th>\n",
       "      <th>X5</th>\n",
       "      <th>X6</th>\n",
       "      <th>X8</th>\n",
       "      <th>...</th>\n",
       "      <th>X375</th>\n",
       "      <th>X376</th>\n",
       "      <th>X377</th>\n",
       "      <th>X378</th>\n",
       "      <th>X379</th>\n",
       "      <th>X380</th>\n",
       "      <th>X382</th>\n",
       "      <th>X383</th>\n",
       "      <th>X384</th>\n",
       "      <th>X385</th>\n",
       "    </tr>\n",
       "  </thead>\n",
       "  <tbody>\n",
       "    <tr>\n",
       "      <th>0</th>\n",
       "      <td>0</td>\n",
       "      <td>130.810</td>\n",
       "      <td>k</td>\n",
       "      <td>v</td>\n",
       "      <td>at</td>\n",
       "      <td>a</td>\n",
       "      <td>d</td>\n",
       "      <td>u</td>\n",
       "      <td>j</td>\n",
       "      <td>o</td>\n",
       "      <td>...</td>\n",
       "      <td>0</td>\n",
       "      <td>0</td>\n",
       "      <td>1</td>\n",
       "      <td>0</td>\n",
       "      <td>0</td>\n",
       "      <td>0</td>\n",
       "      <td>0</td>\n",
       "      <td>0</td>\n",
       "      <td>0</td>\n",
       "      <td>0</td>\n",
       "    </tr>\n",
       "    <tr>\n",
       "      <th>1</th>\n",
       "      <td>6</td>\n",
       "      <td>88.530</td>\n",
       "      <td>k</td>\n",
       "      <td>t</td>\n",
       "      <td>av</td>\n",
       "      <td>e</td>\n",
       "      <td>d</td>\n",
       "      <td>y</td>\n",
       "      <td>l</td>\n",
       "      <td>o</td>\n",
       "      <td>...</td>\n",
       "      <td>1</td>\n",
       "      <td>0</td>\n",
       "      <td>0</td>\n",
       "      <td>0</td>\n",
       "      <td>0</td>\n",
       "      <td>0</td>\n",
       "      <td>0</td>\n",
       "      <td>0</td>\n",
       "      <td>0</td>\n",
       "      <td>0</td>\n",
       "    </tr>\n",
       "  </tbody>\n",
       "</table>\n",
       "<p>2 rows × 378 columns</p>\n",
       "</div>"
      ],
      "text/plain": [
       "   ID       y X0 X1  X2 X3 X4 X5 X6 X8  ...   X375  X376  X377  X378  X379  \\\n",
       "0   0 130.810  k  v  at  a  d  u  j  o  ...      0     0     1     0     0   \n",
       "1   6  88.530  k  t  av  e  d  y  l  o  ...      1     0     0     0     0   \n",
       "\n",
       "   X380  X382  X383  X384  X385  \n",
       "0     0     0     0     0     0  \n",
       "1     0     0     0     0     0  \n",
       "\n",
       "[2 rows x 378 columns]"
      ]
     },
     "metadata": {},
     "output_type": "display_data"
    },
    {
     "data": {
      "text/plain": [
       "(4209, 377)"
      ]
     },
     "metadata": {},
     "output_type": "display_data"
    },
    {
     "data": {
      "text/html": [
       "<div>\n",
       "<table border=\"1\" class=\"dataframe\">\n",
       "  <thead>\n",
       "    <tr style=\"text-align: right;\">\n",
       "      <th></th>\n",
       "      <th>ID</th>\n",
       "      <th>X0</th>\n",
       "      <th>X1</th>\n",
       "      <th>X2</th>\n",
       "      <th>X3</th>\n",
       "      <th>X4</th>\n",
       "      <th>X5</th>\n",
       "      <th>X6</th>\n",
       "      <th>X8</th>\n",
       "      <th>X10</th>\n",
       "      <th>...</th>\n",
       "      <th>X375</th>\n",
       "      <th>X376</th>\n",
       "      <th>X377</th>\n",
       "      <th>X378</th>\n",
       "      <th>X379</th>\n",
       "      <th>X380</th>\n",
       "      <th>X382</th>\n",
       "      <th>X383</th>\n",
       "      <th>X384</th>\n",
       "      <th>X385</th>\n",
       "    </tr>\n",
       "  </thead>\n",
       "  <tbody>\n",
       "    <tr>\n",
       "      <th>0</th>\n",
       "      <td>1</td>\n",
       "      <td>az</td>\n",
       "      <td>v</td>\n",
       "      <td>n</td>\n",
       "      <td>f</td>\n",
       "      <td>d</td>\n",
       "      <td>t</td>\n",
       "      <td>a</td>\n",
       "      <td>w</td>\n",
       "      <td>0</td>\n",
       "      <td>...</td>\n",
       "      <td>0</td>\n",
       "      <td>0</td>\n",
       "      <td>0</td>\n",
       "      <td>1</td>\n",
       "      <td>0</td>\n",
       "      <td>0</td>\n",
       "      <td>0</td>\n",
       "      <td>0</td>\n",
       "      <td>0</td>\n",
       "      <td>0</td>\n",
       "    </tr>\n",
       "    <tr>\n",
       "      <th>1</th>\n",
       "      <td>2</td>\n",
       "      <td>t</td>\n",
       "      <td>b</td>\n",
       "      <td>ai</td>\n",
       "      <td>a</td>\n",
       "      <td>d</td>\n",
       "      <td>b</td>\n",
       "      <td>g</td>\n",
       "      <td>y</td>\n",
       "      <td>0</td>\n",
       "      <td>...</td>\n",
       "      <td>0</td>\n",
       "      <td>0</td>\n",
       "      <td>1</td>\n",
       "      <td>0</td>\n",
       "      <td>0</td>\n",
       "      <td>0</td>\n",
       "      <td>0</td>\n",
       "      <td>0</td>\n",
       "      <td>0</td>\n",
       "      <td>0</td>\n",
       "    </tr>\n",
       "  </tbody>\n",
       "</table>\n",
       "<p>2 rows × 377 columns</p>\n",
       "</div>"
      ],
      "text/plain": [
       "   ID  X0 X1  X2 X3 X4 X5 X6 X8  X10  ...   X375  X376  X377  X378  X379  \\\n",
       "0   1  az  v   n  f  d  t  a  w    0  ...      0     0     0     1     0   \n",
       "1   2   t  b  ai  a  d  b  g  y    0  ...      0     0     1     0     0   \n",
       "\n",
       "   X380  X382  X383  X384  X385  \n",
       "0     0     0     0     0     0  \n",
       "1     0     0     0     0     0  \n",
       "\n",
       "[2 rows x 377 columns]"
      ]
     },
     "metadata": {},
     "output_type": "display_data"
    }
   ],
   "source": [
    "# Get data\n",
    "train = pd.read_csv(\"raw_data/train.csv\")\n",
    "test = pd.read_csv(\"raw_data/test.csv\")\n",
    "\n",
    "display(train.shape)\n",
    "display(train.head(2))\n",
    "display(test.shape)\n",
    "display(test.head(2))\n"
   ]
  },
  {
   "cell_type": "code",
   "execution_count": 3,
   "metadata": {
    "collapsed": true,
    "deletable": true,
    "editable": true
   },
   "outputs": [],
   "source": [
    "# Save test IDs for predictions\n",
    "test_ids = test.ID"
   ]
  },
  {
   "cell_type": "code",
   "execution_count": 4,
   "metadata": {
    "collapsed": false,
    "deletable": true,
    "editable": true
   },
   "outputs": [
    {
     "data": {
      "text/plain": [
       "'# METHOD 1 : remove the one biggest outlier\\noldNbRows = train.shape[0]\\ntrain = train[train.y < 250]\\nprint(\"Removing the most extreme outliers : \" + str(oldNbRows - train.shape[0]))\\nprint(\"train : \" + str(train.shape))'"
      ]
     },
     "execution_count": 4,
     "metadata": {},
     "output_type": "execute_result"
    }
   ],
   "source": [
    "# Remove outliers?\n",
    "\n",
    "'''# METHOD 1 : remove the one biggest outlier\n",
    "oldNbRows = train.shape[0]\n",
    "train = train[train.y < 250]\n",
    "print(\"Removing the most extreme outliers : \" + str(oldNbRows - train.shape[0]))\n",
    "print(\"train : \" + str(train.shape))'''\n",
    "\n",
    "# METHOD 2 : do nothing\n"
   ]
  },
  {
   "cell_type": "code",
   "execution_count": 5,
   "metadata": {
    "collapsed": false,
    "deletable": true,
    "editable": true,
    "scrolled": false
   },
   "outputs": [
    {
     "data": {
      "text/html": [
       "<div>\n",
       "<table border=\"1\" class=\"dataframe\">\n",
       "  <thead>\n",
       "    <tr style=\"text-align: right;\">\n",
       "      <th></th>\n",
       "      <th>ID</th>\n",
       "      <th>y</th>\n",
       "      <th>X0</th>\n",
       "      <th>X1</th>\n",
       "      <th>X2</th>\n",
       "      <th>X3</th>\n",
       "      <th>X4</th>\n",
       "      <th>X5</th>\n",
       "      <th>X6</th>\n",
       "      <th>X8</th>\n",
       "      <th>...</th>\n",
       "      <th>X375</th>\n",
       "      <th>X376</th>\n",
       "      <th>X377</th>\n",
       "      <th>X378</th>\n",
       "      <th>X379</th>\n",
       "      <th>X380</th>\n",
       "      <th>X382</th>\n",
       "      <th>X383</th>\n",
       "      <th>X384</th>\n",
       "      <th>X385</th>\n",
       "    </tr>\n",
       "  </thead>\n",
       "  <tbody>\n",
       "    <tr>\n",
       "      <th>10</th>\n",
       "      <td>31</td>\n",
       "      <td>102.090</td>\n",
       "      <td>h</td>\n",
       "      <td>r</td>\n",
       "      <td>r</td>\n",
       "      <td>f</td>\n",
       "      <td>d</td>\n",
       "      <td>f</td>\n",
       "      <td>h</td>\n",
       "      <td>p</td>\n",
       "      <td>...</td>\n",
       "      <td>0</td>\n",
       "      <td>0</td>\n",
       "      <td>0</td>\n",
       "      <td>0</td>\n",
       "      <td>0</td>\n",
       "      <td>0</td>\n",
       "      <td>0</td>\n",
       "      <td>0</td>\n",
       "      <td>0</td>\n",
       "      <td>0</td>\n",
       "    </tr>\n",
       "    <tr>\n",
       "      <th>11</th>\n",
       "      <td>32</td>\n",
       "      <td>98.120</td>\n",
       "      <td>al</td>\n",
       "      <td>r</td>\n",
       "      <td>e</td>\n",
       "      <td>f</td>\n",
       "      <td>d</td>\n",
       "      <td>f</td>\n",
       "      <td>h</td>\n",
       "      <td>o</td>\n",
       "      <td>...</td>\n",
       "      <td>0</td>\n",
       "      <td>0</td>\n",
       "      <td>0</td>\n",
       "      <td>0</td>\n",
       "      <td>0</td>\n",
       "      <td>0</td>\n",
       "      <td>0</td>\n",
       "      <td>0</td>\n",
       "      <td>0</td>\n",
       "      <td>0</td>\n",
       "    </tr>\n",
       "    <tr>\n",
       "      <th>12</th>\n",
       "      <td>34</td>\n",
       "      <td>82.620</td>\n",
       "      <td>s</td>\n",
       "      <td>b</td>\n",
       "      <td>ai</td>\n",
       "      <td>c</td>\n",
       "      <td>d</td>\n",
       "      <td>f</td>\n",
       "      <td>g</td>\n",
       "      <td>m</td>\n",
       "      <td>...</td>\n",
       "      <td>0</td>\n",
       "      <td>0</td>\n",
       "      <td>1</td>\n",
       "      <td>0</td>\n",
       "      <td>0</td>\n",
       "      <td>0</td>\n",
       "      <td>0</td>\n",
       "      <td>0</td>\n",
       "      <td>0</td>\n",
       "      <td>0</td>\n",
       "    </tr>\n",
       "    <tr>\n",
       "      <th>13</th>\n",
       "      <td>36</td>\n",
       "      <td>94.120</td>\n",
       "      <td>al</td>\n",
       "      <td>r</td>\n",
       "      <td>e</td>\n",
       "      <td>f</td>\n",
       "      <td>d</td>\n",
       "      <td>j</td>\n",
       "      <td>h</td>\n",
       "      <td>o</td>\n",
       "      <td>...</td>\n",
       "      <td>0</td>\n",
       "      <td>0</td>\n",
       "      <td>0</td>\n",
       "      <td>0</td>\n",
       "      <td>0</td>\n",
       "      <td>0</td>\n",
       "      <td>0</td>\n",
       "      <td>0</td>\n",
       "      <td>0</td>\n",
       "      <td>0</td>\n",
       "    </tr>\n",
       "    <tr>\n",
       "      <th>14</th>\n",
       "      <td>37</td>\n",
       "      <td>99.150</td>\n",
       "      <td>o</td>\n",
       "      <td>s</td>\n",
       "      <td>as</td>\n",
       "      <td>e</td>\n",
       "      <td>d</td>\n",
       "      <td>j</td>\n",
       "      <td>g</td>\n",
       "      <td>m</td>\n",
       "      <td>...</td>\n",
       "      <td>1</td>\n",
       "      <td>0</td>\n",
       "      <td>0</td>\n",
       "      <td>0</td>\n",
       "      <td>0</td>\n",
       "      <td>0</td>\n",
       "      <td>0</td>\n",
       "      <td>0</td>\n",
       "      <td>0</td>\n",
       "      <td>0</td>\n",
       "    </tr>\n",
       "  </tbody>\n",
       "</table>\n",
       "<p>5 rows × 378 columns</p>\n",
       "</div>"
      ],
      "text/plain": [
       "    ID       y  X0 X1  X2 X3 X4 X5 X6 X8  ...   X375  X376  X377  X378  X379  \\\n",
       "10  31 102.090   h  r   r  f  d  f  h  p  ...      0     0     0     0     0   \n",
       "11  32  98.120  al  r   e  f  d  f  h  o  ...      0     0     0     0     0   \n",
       "12  34  82.620   s  b  ai  c  d  f  g  m  ...      0     0     1     0     0   \n",
       "13  36  94.120  al  r   e  f  d  j  h  o  ...      0     0     0     0     0   \n",
       "14  37  99.150   o  s  as  e  d  j  g  m  ...      1     0     0     0     0   \n",
       "\n",
       "    X380  X382  X383  X384  X385  \n",
       "10     0     0     0     0     0  \n",
       "11     0     0     0     0     0  \n",
       "12     0     0     0     0     0  \n",
       "13     0     0     0     0     0  \n",
       "14     0     0     0     0     0  \n",
       "\n",
       "[5 rows x 378 columns]"
      ]
     },
     "metadata": {},
     "output_type": "display_data"
    }
   ],
   "source": [
    "# Handle duplicate rows\n",
    "cols_to_groupby = [k for k in train.columns if k not in [\"ID\", \"y\"]] \n",
    "cols_to_apply = cols_to_groupby + [\"y\"]\n",
    "\n",
    "'''# METHOD 1 : take mean of duplicate rows\n",
    "train = train[cols_to_apply].groupby(cols_to_groupby, as_index = False).mean()\n",
    "train.columns = cols_to_apply'''\n",
    "\n",
    "'''# METHOD 2 : take median of duplicate rows\n",
    "train = train[cols_to_apply].groupby(cols_to_groupby, as_index = False).median()\n",
    "train.columns = cols_to_apply'''\n",
    "\n",
    "'''# METHOD 3 : keep the row with the lowest y \n",
    "train = train[cols_to_apply].groupby(cols_to_groupby, as_index = False).min()\n",
    "train.columns = cols_to_apply'''\n",
    "\n",
    "# METHOD 4 : do nothing\n",
    "\n",
    "display(train.iloc[10:15])"
   ]
  },
  {
   "cell_type": "code",
   "execution_count": 6,
   "metadata": {
    "collapsed": false,
    "deletable": true,
    "editable": true
   },
   "outputs": [
    {
     "data": {
      "text/plain": [
       "'# METHOD 3\\ntest[\"mean_x0\"].fillna(test[\"mean_x0\"].dropna().min(), inplace = True)\\ntest[\"mean_x1\"].fillna(test[\"mean_x1\"].dropna().min(), inplace = True)\\ntest[\"mean_x2\"].fillna(test[\"mean_x2\"].dropna().min(), inplace = True)\\ntest[\"mean_x3\"].fillna(test[\"mean_x3\"].dropna().min(), inplace = True)\\ntest[\"mean_x4\"].fillna(test[\"mean_x4\"].dropna().min(), inplace = True)\\ntest[\"mean_x5\"].fillna(test[\"mean_x5\"].dropna().min(), inplace = True)\\ntest[\"mean_x6\"].fillna(test[\"mean_x6\"].dropna().min(), inplace = True)\\ntest[\"mean_x8\"].fillna(test[\"mean_x8\"].dropna().min(), inplace = True)'"
      ]
     },
     "execution_count": 6,
     "metadata": {},
     "output_type": "execute_result"
    }
   ],
   "source": [
    "# Add median/mean/min of y for X0-X8\n",
    "\n",
    "# METHOD 1 \n",
    "mean_x0 = train[[\"X0\", \"y\"]].groupby([\"X0\"], as_index = False).mean()\n",
    "mean_x1 = train[[\"X1\", \"y\"]].groupby([\"X1\"], as_index = False).mean()\n",
    "mean_x2 = train[[\"X2\", \"y\"]].groupby([\"X2\"], as_index = False).mean()\n",
    "mean_x3 = train[[\"X3\", \"y\"]].groupby([\"X3\"], as_index = False).mean()\n",
    "mean_x4 = train[[\"X4\", \"y\"]].groupby([\"X4\"], as_index = False).mean()\n",
    "mean_x5 = train[[\"X5\", \"y\"]].groupby([\"X5\"], as_index = False).mean()\n",
    "mean_x6 = train[[\"X6\", \"y\"]].groupby([\"X6\"], as_index = False).mean()\n",
    "mean_x8 = train[[\"X8\", \"y\"]].groupby([\"X8\"], as_index = False).mean()\n",
    "\n",
    "'''# METHOD 2\n",
    "mean_x0 = train[[\"X0\", \"y\"]].groupby([\"X0\"], as_index = False).median()\n",
    "mean_x1 = train[[\"X1\", \"y\"]].groupby([\"X1\"], as_index = False).median()\n",
    "mean_x2 = train[[\"X2\", \"y\"]].groupby([\"X2\"], as_index = False).median()\n",
    "mean_x3 = train[[\"X3\", \"y\"]].groupby([\"X3\"], as_index = False).median()\n",
    "mean_x4 = train[[\"X4\", \"y\"]].groupby([\"X4\"], as_index = False).median()\n",
    "mean_x5 = train[[\"X5\", \"y\"]].groupby([\"X5\"], as_index = False).median()\n",
    "mean_x6 = train[[\"X6\", \"y\"]].groupby([\"X6\"], as_index = False).median()\n",
    "mean_x8 = train[[\"X8\", \"y\"]].groupby([\"X8\"], as_index = False).median()'''\n",
    "\n",
    "'''# METHOD 3\n",
    "mean_x0 = train[[\"X0\", \"y\"]].groupby([\"X0\"], as_index = False).min()\n",
    "mean_x1 = train[[\"X1\", \"y\"]].groupby([\"X1\"], as_index = False).min()\n",
    "mean_x2 = train[[\"X2\", \"y\"]].groupby([\"X2\"], as_index = False).min()\n",
    "mean_x3 = train[[\"X3\", \"y\"]].groupby([\"X3\"], as_index = False).min()\n",
    "mean_x4 = train[[\"X4\", \"y\"]].groupby([\"X4\"], as_index = False).min()\n",
    "mean_x5 = train[[\"X5\", \"y\"]].groupby([\"X5\"], as_index = False).min()\n",
    "mean_x6 = train[[\"X6\", \"y\"]].groupby([\"X6\"], as_index = False).min()\n",
    "mean_x8 = train[[\"X8\", \"y\"]].groupby([\"X8\"], as_index = False).min()'''\n",
    "\n",
    "mean_x0.columns = [\"X0\", \"mean_x0\"]\n",
    "mean_x1.columns = [\"X1\", \"mean_x1\"]\n",
    "mean_x2.columns = [\"X2\", \"mean_x2\"]\n",
    "mean_x3.columns = [\"X3\", \"mean_x3\"]\n",
    "mean_x4.columns = [\"X4\", \"mean_x4\"]\n",
    "mean_x5.columns = [\"X5\", \"mean_x5\"]\n",
    "mean_x6.columns = [\"X6\", \"mean_x6\"]\n",
    "mean_x8.columns = [\"X8\", \"mean_x8\"]\n",
    "train = pd.merge(train, mean_x0, on = \"X0\", how = \"outer\")\n",
    "train = pd.merge(train, mean_x1, on = \"X1\", how = \"outer\")\n",
    "train = pd.merge(train, mean_x2, on = \"X2\", how = \"outer\")\n",
    "train = pd.merge(train, mean_x3, on = \"X3\", how = \"outer\")\n",
    "train = pd.merge(train, mean_x4, on = \"X4\", how = \"outer\")\n",
    "train = pd.merge(train, mean_x5, on = \"X5\", how = \"outer\")\n",
    "train = pd.merge(train, mean_x6, on = \"X6\", how = \"outer\")\n",
    "train = pd.merge(train, mean_x8, on = \"X8\", how = \"outer\")\n",
    "test = pd.merge(test, mean_x0, on = \"X0\", how = \"left\")\n",
    "test = pd.merge(test, mean_x1, on = \"X1\", how = \"left\")\n",
    "test = pd.merge(test, mean_x2, on = \"X2\", how = \"left\")\n",
    "test = pd.merge(test, mean_x3, on = \"X3\", how = \"left\")\n",
    "test = pd.merge(test, mean_x4, on = \"X4\", how = \"left\")\n",
    "test = pd.merge(test, mean_x5, on = \"X5\", how = \"left\")\n",
    "test = pd.merge(test, mean_x6, on = \"X6\", how = \"left\")\n",
    "test = pd.merge(test, mean_x8, on = \"X8\", how = \"left\")\n",
    "\n",
    "# METHOD 1\n",
    "test[\"mean_x0\"].fillna(test[\"mean_x0\"].dropna().mean(), inplace = True)\n",
    "test[\"mean_x1\"].fillna(test[\"mean_x1\"].dropna().mean(), inplace = True)\n",
    "test[\"mean_x2\"].fillna(test[\"mean_x2\"].dropna().mean(), inplace = True)\n",
    "test[\"mean_x3\"].fillna(test[\"mean_x3\"].dropna().mean(), inplace = True)\n",
    "test[\"mean_x4\"].fillna(test[\"mean_x4\"].dropna().mean(), inplace = True)\n",
    "test[\"mean_x5\"].fillna(test[\"mean_x5\"].dropna().mean(), inplace = True)\n",
    "test[\"mean_x6\"].fillna(test[\"mean_x6\"].dropna().mean(), inplace = True)\n",
    "test[\"mean_x8\"].fillna(test[\"mean_x8\"].dropna().mean(), inplace = True)\n",
    "\n",
    "'''# METHOD 2\n",
    "test[\"mean_x0\"].fillna(test[\"mean_x0\"].dropna().median(), inplace = True)\n",
    "test[\"mean_x1\"].fillna(test[\"mean_x1\"].dropna().median(), inplace = True)\n",
    "test[\"mean_x2\"].fillna(test[\"mean_x2\"].dropna().median(), inplace = True)\n",
    "test[\"mean_x3\"].fillna(test[\"mean_x3\"].dropna().median(), inplace = True)\n",
    "test[\"mean_x4\"].fillna(test[\"mean_x4\"].dropna().median(), inplace = True)\n",
    "test[\"mean_x5\"].fillna(test[\"mean_x5\"].dropna().median(), inplace = True)\n",
    "test[\"mean_x6\"].fillna(test[\"mean_x6\"].dropna().median(), inplace = True)\n",
    "test[\"mean_x8\"].fillna(test[\"mean_x8\"].dropna().median(), inplace = True)'''\n",
    "\n",
    "'''# METHOD 3\n",
    "test[\"mean_x0\"].fillna(test[\"mean_x0\"].dropna().min(), inplace = True)\n",
    "test[\"mean_x1\"].fillna(test[\"mean_x1\"].dropna().min(), inplace = True)\n",
    "test[\"mean_x2\"].fillna(test[\"mean_x2\"].dropna().min(), inplace = True)\n",
    "test[\"mean_x3\"].fillna(test[\"mean_x3\"].dropna().min(), inplace = True)\n",
    "test[\"mean_x4\"].fillna(test[\"mean_x4\"].dropna().min(), inplace = True)\n",
    "test[\"mean_x5\"].fillna(test[\"mean_x5\"].dropna().min(), inplace = True)\n",
    "test[\"mean_x6\"].fillna(test[\"mean_x6\"].dropna().min(), inplace = True)\n",
    "test[\"mean_x8\"].fillna(test[\"mean_x8\"].dropna().min(), inplace = True)'''\n"
   ]
  },
  {
   "cell_type": "code",
   "execution_count": 7,
   "metadata": {
    "collapsed": false,
    "deletable": true,
    "editable": true
   },
   "outputs": [
    {
     "data": {
      "text/html": [
       "<div>\n",
       "<table border=\"1\" class=\"dataframe\">\n",
       "  <thead>\n",
       "    <tr style=\"text-align: right;\">\n",
       "      <th></th>\n",
       "      <th>ID</th>\n",
       "      <th>X0</th>\n",
       "      <th>X1</th>\n",
       "      <th>X2</th>\n",
       "      <th>X3</th>\n",
       "      <th>X4</th>\n",
       "      <th>X5</th>\n",
       "      <th>X6</th>\n",
       "      <th>X8</th>\n",
       "      <th>X10</th>\n",
       "      <th>...</th>\n",
       "      <th>X384</th>\n",
       "      <th>X385</th>\n",
       "      <th>mean_x0</th>\n",
       "      <th>mean_x1</th>\n",
       "      <th>mean_x2</th>\n",
       "      <th>mean_x3</th>\n",
       "      <th>mean_x4</th>\n",
       "      <th>mean_x5</th>\n",
       "      <th>mean_x6</th>\n",
       "      <th>mean_x8</th>\n",
       "    </tr>\n",
       "  </thead>\n",
       "  <tbody>\n",
       "    <tr>\n",
       "      <th>0</th>\n",
       "      <td>1</td>\n",
       "      <td>az</td>\n",
       "      <td>v</td>\n",
       "      <td>n</td>\n",
       "      <td>f</td>\n",
       "      <td>d</td>\n",
       "      <td>t</td>\n",
       "      <td>a</td>\n",
       "      <td>w</td>\n",
       "      <td>0</td>\n",
       "      <td>...</td>\n",
       "      <td>0</td>\n",
       "      <td>0</td>\n",
       "      <td>78.026</td>\n",
       "      <td>101.413</td>\n",
       "      <td>83.370</td>\n",
       "      <td>96.565</td>\n",
       "      <td>100.658</td>\n",
       "      <td>100.634</td>\n",
       "      <td>97.803</td>\n",
       "      <td>99.134</td>\n",
       "    </tr>\n",
       "    <tr>\n",
       "      <th>1</th>\n",
       "      <td>2</td>\n",
       "      <td>t</td>\n",
       "      <td>b</td>\n",
       "      <td>ai</td>\n",
       "      <td>a</td>\n",
       "      <td>d</td>\n",
       "      <td>b</td>\n",
       "      <td>g</td>\n",
       "      <td>y</td>\n",
       "      <td>0</td>\n",
       "      <td>...</td>\n",
       "      <td>0</td>\n",
       "      <td>0</td>\n",
       "      <td>93.725</td>\n",
       "      <td>99.837</td>\n",
       "      <td>94.136</td>\n",
       "      <td>102.507</td>\n",
       "      <td>100.658</td>\n",
       "      <td>100.634</td>\n",
       "      <td>100.306</td>\n",
       "      <td>101.435</td>\n",
       "    </tr>\n",
       "    <tr>\n",
       "      <th>2</th>\n",
       "      <td>3</td>\n",
       "      <td>az</td>\n",
       "      <td>v</td>\n",
       "      <td>as</td>\n",
       "      <td>f</td>\n",
       "      <td>d</td>\n",
       "      <td>a</td>\n",
       "      <td>j</td>\n",
       "      <td>j</td>\n",
       "      <td>0</td>\n",
       "      <td>...</td>\n",
       "      <td>0</td>\n",
       "      <td>0</td>\n",
       "      <td>78.026</td>\n",
       "      <td>101.413</td>\n",
       "      <td>103.732</td>\n",
       "      <td>96.565</td>\n",
       "      <td>100.658</td>\n",
       "      <td>100.634</td>\n",
       "      <td>101.165</td>\n",
       "      <td>100.455</td>\n",
       "    </tr>\n",
       "    <tr>\n",
       "      <th>3</th>\n",
       "      <td>4</td>\n",
       "      <td>az</td>\n",
       "      <td>l</td>\n",
       "      <td>n</td>\n",
       "      <td>f</td>\n",
       "      <td>d</td>\n",
       "      <td>z</td>\n",
       "      <td>l</td>\n",
       "      <td>n</td>\n",
       "      <td>0</td>\n",
       "      <td>...</td>\n",
       "      <td>0</td>\n",
       "      <td>0</td>\n",
       "      <td>78.026</td>\n",
       "      <td>100.725</td>\n",
       "      <td>83.370</td>\n",
       "      <td>96.565</td>\n",
       "      <td>100.658</td>\n",
       "      <td>100.634</td>\n",
       "      <td>98.946</td>\n",
       "      <td>102.194</td>\n",
       "    </tr>\n",
       "    <tr>\n",
       "      <th>4</th>\n",
       "      <td>5</td>\n",
       "      <td>w</td>\n",
       "      <td>s</td>\n",
       "      <td>as</td>\n",
       "      <td>c</td>\n",
       "      <td>d</td>\n",
       "      <td>y</td>\n",
       "      <td>i</td>\n",
       "      <td>m</td>\n",
       "      <td>0</td>\n",
       "      <td>...</td>\n",
       "      <td>0</td>\n",
       "      <td>0</td>\n",
       "      <td>112.614</td>\n",
       "      <td>101.868</td>\n",
       "      <td>103.732</td>\n",
       "      <td>101.959</td>\n",
       "      <td>100.658</td>\n",
       "      <td>88.530</td>\n",
       "      <td>101.227</td>\n",
       "      <td>100.486</td>\n",
       "    </tr>\n",
       "    <tr>\n",
       "      <th>5</th>\n",
       "      <td>8</td>\n",
       "      <td>y</td>\n",
       "      <td>aa</td>\n",
       "      <td>ai</td>\n",
       "      <td>e</td>\n",
       "      <td>d</td>\n",
       "      <td>x</td>\n",
       "      <td>g</td>\n",
       "      <td>s</td>\n",
       "      <td>0</td>\n",
       "      <td>...</td>\n",
       "      <td>0</td>\n",
       "      <td>0</td>\n",
       "      <td>94.045</td>\n",
       "      <td>100.203</td>\n",
       "      <td>94.136</td>\n",
       "      <td>100.033</td>\n",
       "      <td>100.658</td>\n",
       "      <td>78.440</td>\n",
       "      <td>100.306</td>\n",
       "      <td>98.916</td>\n",
       "    </tr>\n",
       "    <tr>\n",
       "      <th>6</th>\n",
       "      <td>10</td>\n",
       "      <td>x</td>\n",
       "      <td>b</td>\n",
       "      <td>ae</td>\n",
       "      <td>d</td>\n",
       "      <td>d</td>\n",
       "      <td>x</td>\n",
       "      <td>d</td>\n",
       "      <td>y</td>\n",
       "      <td>0</td>\n",
       "      <td>...</td>\n",
       "      <td>0</td>\n",
       "      <td>0</td>\n",
       "      <td>112.555</td>\n",
       "      <td>99.837</td>\n",
       "      <td>97.464</td>\n",
       "      <td>105.114</td>\n",
       "      <td>100.658</td>\n",
       "      <td>78.440</td>\n",
       "      <td>101.346</td>\n",
       "      <td>101.435</td>\n",
       "    </tr>\n",
       "    <tr>\n",
       "      <th>7</th>\n",
       "      <td>11</td>\n",
       "      <td>f</td>\n",
       "      <td>s</td>\n",
       "      <td>ae</td>\n",
       "      <td>c</td>\n",
       "      <td>d</td>\n",
       "      <td>h</td>\n",
       "      <td>d</td>\n",
       "      <td>a</td>\n",
       "      <td>0</td>\n",
       "      <td>...</td>\n",
       "      <td>0</td>\n",
       "      <td>0</td>\n",
       "      <td>93.927</td>\n",
       "      <td>101.868</td>\n",
       "      <td>97.464</td>\n",
       "      <td>101.959</td>\n",
       "      <td>100.658</td>\n",
       "      <td>78.020</td>\n",
       "      <td>101.346</td>\n",
       "      <td>100.259</td>\n",
       "    </tr>\n",
       "    <tr>\n",
       "      <th>8</th>\n",
       "      <td>12</td>\n",
       "      <td>ap</td>\n",
       "      <td>l</td>\n",
       "      <td>s</td>\n",
       "      <td>c</td>\n",
       "      <td>d</td>\n",
       "      <td>h</td>\n",
       "      <td>j</td>\n",
       "      <td>n</td>\n",
       "      <td>0</td>\n",
       "      <td>...</td>\n",
       "      <td>0</td>\n",
       "      <td>0</td>\n",
       "      <td>116.578</td>\n",
       "      <td>100.725</td>\n",
       "      <td>116.977</td>\n",
       "      <td>101.959</td>\n",
       "      <td>100.658</td>\n",
       "      <td>78.020</td>\n",
       "      <td>101.165</td>\n",
       "      <td>102.194</td>\n",
       "    </tr>\n",
       "    <tr>\n",
       "      <th>9</th>\n",
       "      <td>14</td>\n",
       "      <td>o</td>\n",
       "      <td>v</td>\n",
       "      <td>as</td>\n",
       "      <td>f</td>\n",
       "      <td>d</td>\n",
       "      <td>g</td>\n",
       "      <td>f</td>\n",
       "      <td>v</td>\n",
       "      <td>0</td>\n",
       "      <td>...</td>\n",
       "      <td>0</td>\n",
       "      <td>0</td>\n",
       "      <td>94.619</td>\n",
       "      <td>101.413</td>\n",
       "      <td>103.732</td>\n",
       "      <td>96.565</td>\n",
       "      <td>100.658</td>\n",
       "      <td>92.930</td>\n",
       "      <td>94.814</td>\n",
       "      <td>101.943</td>\n",
       "    </tr>\n",
       "  </tbody>\n",
       "</table>\n",
       "<p>10 rows × 385 columns</p>\n",
       "</div>"
      ],
      "text/plain": [
       "   ID  X0  X1  X2 X3 X4 X5 X6 X8  X10   ...     X384  X385  mean_x0  mean_x1  \\\n",
       "0   1  az   v   n  f  d  t  a  w    0   ...        0     0   78.026  101.413   \n",
       "1   2   t   b  ai  a  d  b  g  y    0   ...        0     0   93.725   99.837   \n",
       "2   3  az   v  as  f  d  a  j  j    0   ...        0     0   78.026  101.413   \n",
       "3   4  az   l   n  f  d  z  l  n    0   ...        0     0   78.026  100.725   \n",
       "4   5   w   s  as  c  d  y  i  m    0   ...        0     0  112.614  101.868   \n",
       "5   8   y  aa  ai  e  d  x  g  s    0   ...        0     0   94.045  100.203   \n",
       "6  10   x   b  ae  d  d  x  d  y    0   ...        0     0  112.555   99.837   \n",
       "7  11   f   s  ae  c  d  h  d  a    0   ...        0     0   93.927  101.868   \n",
       "8  12  ap   l   s  c  d  h  j  n    0   ...        0     0  116.578  100.725   \n",
       "9  14   o   v  as  f  d  g  f  v    0   ...        0     0   94.619  101.413   \n",
       "\n",
       "   mean_x2  mean_x3  mean_x4  mean_x5  mean_x6  mean_x8  \n",
       "0   83.370   96.565  100.658  100.634   97.803   99.134  \n",
       "1   94.136  102.507  100.658  100.634  100.306  101.435  \n",
       "2  103.732   96.565  100.658  100.634  101.165  100.455  \n",
       "3   83.370   96.565  100.658  100.634   98.946  102.194  \n",
       "4  103.732  101.959  100.658   88.530  101.227  100.486  \n",
       "5   94.136  100.033  100.658   78.440  100.306   98.916  \n",
       "6   97.464  105.114  100.658   78.440  101.346  101.435  \n",
       "7   97.464  101.959  100.658   78.020  101.346  100.259  \n",
       "8  116.977  101.959  100.658   78.020  101.165  102.194  \n",
       "9  103.732   96.565  100.658   92.930   94.814  101.943  \n",
       "\n",
       "[10 rows x 385 columns]"
      ]
     },
     "metadata": {},
     "output_type": "display_data"
    }
   ],
   "source": [
    "display(test.head(10))"
   ]
  },
  {
   "cell_type": "code",
   "execution_count": 8,
   "metadata": {
    "collapsed": false,
    "deletable": true,
    "editable": true
   },
   "outputs": [
    {
     "name": "stdout",
     "output_type": "stream",
     "text": [
      "Nb of NA in train : 0\n"
     ]
    }
   ],
   "source": [
    "print(\"Nb of NA in train : \" + str(test.mean_x5.isnull().values.sum()))"
   ]
  },
  {
   "cell_type": "code",
   "execution_count": 9,
   "metadata": {
    "collapsed": false,
    "deletable": true,
    "editable": true
   },
   "outputs": [
    {
     "data": {
      "text/plain": [
       "'# METHOD 2 : apply a transfo on y to make it more \"normal\"\\ny = pd.DataFrame({\"y\": np.log1p(train.y + SHIFT)}, columns = [\"y\"])\\ntrain.drop(\"y\", axis = 1, inplace = True)'"
      ]
     },
     "execution_count": 9,
     "metadata": {},
     "output_type": "execute_result"
    }
   ],
   "source": [
    "# Define target\n",
    "\n",
    "# METHOD 1 : take y as is\n",
    "y = pd.DataFrame({\"y\": train.y}, columns = [\"y\"])\n",
    "train.drop(\"y\", axis = 1, inplace = True)\n",
    "\n",
    "'''# METHOD 2 : apply a transfo on y to make it more \"normal\"\n",
    "y = pd.DataFrame({\"y\": np.log1p(train.y + SHIFT)}, columns = [\"y\"])\n",
    "train.drop(\"y\", axis = 1, inplace = True)'''"
   ]
  },
  {
   "cell_type": "code",
   "execution_count": 10,
   "metadata": {
    "collapsed": true,
    "deletable": true,
    "editable": true
   },
   "outputs": [],
   "source": [
    "# Concatenate train and test for global preprocessing\n",
    "alldata = pd.concat([train, test], axis = 0)"
   ]
  },
  {
   "cell_type": "code",
   "execution_count": 11,
   "metadata": {
    "collapsed": false,
    "deletable": true,
    "editable": true
   },
   "outputs": [
    {
     "data": {
      "text/plain": [
       "'# METHOD 1 : remove it\\nalldata.drop(\"ID\", axis = 1, inplace = True)'"
      ]
     },
     "execution_count": 11,
     "metadata": {},
     "output_type": "execute_result"
    }
   ],
   "source": [
    "# Remove ID?\n",
    "\n",
    "'''# METHOD 1 : remove it\n",
    "alldata.drop(\"ID\", axis = 1, inplace = True)'''\n",
    "\n",
    "# METHOD 2 : do nothing\n"
   ]
  },
  {
   "cell_type": "code",
   "execution_count": 12,
   "metadata": {
    "collapsed": false,
    "deletable": true,
    "editable": true
   },
   "outputs": [
    {
     "name": "stdout",
     "output_type": "stream",
     "text": [
      "Removing constant variables : ['X11', 'X93', 'X107', 'X233', 'X235', 'X268', 'X289', 'X290', 'X293', 'X297', 'X330', 'X347']\n"
     ]
    }
   ],
   "source": [
    "# Remove features with no information (unique value in train set) ?\n",
    "\n",
    "# METHOD 1 : Remove those\n",
    "constant_vars = []\n",
    "for col in train.columns:\n",
    "    if(train[col].nunique() == 1):\n",
    "        constant_vars.append(col)\n",
    "print(\"Removing constant variables : \" + str(constant_vars))\n",
    "alldata.drop(constant_vars, axis = 1, inplace = True)\n",
    "\n",
    "# METHOD 2 : do nothing\n"
   ]
  },
  {
   "cell_type": "code",
   "execution_count": 13,
   "metadata": {
    "collapsed": false,
    "deletable": true,
    "editable": true
   },
   "outputs": [
    {
     "name": "stdout",
     "output_type": "stream",
     "text": [
      "Removed 34 duplicate columns\n"
     ]
    },
    {
     "data": {
      "text/plain": [
       "'# METHOD 2 : Drop columns which are duplicate just in train\\nold_nb_cols = train.shape[1]\\nremoved_cols = findDuplicateColumns(train)\\nalldata.drop(removed_cols, axis = 1, inplace = True)\\nprint(\"Removed \" + str(old_nb_cols - alldata.shape[1]) + \" duplicate columns\")'"
      ]
     },
     "execution_count": 13,
     "metadata": {},
     "output_type": "execute_result"
    }
   ],
   "source": [
    "# Handle duplicate columns\n",
    "def findDuplicateColumns(df) :\n",
    "    total_cols = df.columns\n",
    "    removed_cols = []\n",
    "    for i in range(len(total_cols) - 1) :\n",
    "        v = df[total_cols[i]].values\n",
    "        for j in range(i + 1, len(total_cols)):\n",
    "            if np.array_equal(v, df[total_cols[j]].values) :\n",
    "                removed_cols.append(total_cols[j])\n",
    "    return(removed_cols)\n",
    "\n",
    "train = alldata.iloc[:train.shape[0], :]\n",
    "test = alldata.iloc[train.shape[0]: , :]\n",
    "\n",
    "# METHOD 1 : Drop columns which are duplicate in train + test\n",
    "old_nb_cols = alldata.shape[1]\n",
    "removed_cols = findDuplicateColumns(alldata)\n",
    "alldata.drop(removed_cols, axis = 1, inplace = True)\n",
    "print(\"Removed \" + str(old_nb_cols - alldata.shape[1]) + \" duplicate columns\")\n",
    "\n",
    "'''# METHOD 2 : Drop columns which are duplicate just in train\n",
    "old_nb_cols = train.shape[1]\n",
    "removed_cols = findDuplicateColumns(train)\n",
    "alldata.drop(removed_cols, axis = 1, inplace = True)\n",
    "print(\"Removed \" + str(old_nb_cols - alldata.shape[1]) + \" duplicate columns\")'''\n",
    "\n",
    "# METHOD 3 : do nothing\n",
    "\n"
   ]
  },
  {
   "cell_type": "code",
   "execution_count": 14,
   "metadata": {
    "collapsed": false,
    "deletable": true,
    "editable": true
   },
   "outputs": [
    {
     "name": "stdout",
     "output_type": "stream",
     "text": [
      "Categorical features : 8\n",
      "Numerical features : 365\n"
     ]
    }
   ],
   "source": [
    "# Differentiate numerical features and categorical features\n",
    "cat_feats = test.select_dtypes(include = [\"object\"]).columns\n",
    "print(\"Categorical features : \" + str(len(cat_feats)))\n",
    "num_feats = test.select_dtypes(exclude = [\"object\"]).columns\n",
    "print(\"Numerical features : \" + str(len(num_feats)))"
   ]
  },
  {
   "cell_type": "code",
   "execution_count": 15,
   "metadata": {
    "collapsed": false,
    "deletable": true,
    "editable": true
   },
   "outputs": [
    {
     "data": {
      "text/plain": [
       "'# METHOD 3 : use LabelEncoder with other order (after a will be b, not aa)\\ndef encodeLetters(charcode) : \\n    code = 0\\n    length = len(str(charcode))\\n    for i in range(length) :\\n        # example : AC = 1 * 26 ^ 1 + 3 * 26 ^ 0\\n        code += (ord(str(charcode)[i]) - ord(\"a\") + 1) * (26 ** (length - i - 1)) - 1\\n    return(code)\\n\\nfor col in cat_feats :\\n    alldata[col] = alldata[col].apply(encodeLetters)'"
      ]
     },
     "execution_count": 15,
     "metadata": {},
     "output_type": "execute_result"
    }
   ],
   "source": [
    "# Handle cat features\n",
    "\n",
    "'''# METHOD 1 : convert into dummy variables\n",
    "alldata = pd.get_dummies(alldata).astype(int)'''\n",
    "\n",
    "# METHOD 2 : use LabelEncoder (assumes some order in values)\n",
    "le = LabelEncoder()\n",
    "for col in cat_feats :\n",
    "    le.fit(alldata[col]) \n",
    "    alldata[col] = le.transform(alldata[col])\n",
    "\n",
    "'''# METHOD 3 : use LabelEncoder with other order (after a will be b, not aa)\n",
    "def encodeLetters(charcode) : \n",
    "    code = 0\n",
    "    length = len(str(charcode))\n",
    "    for i in range(length) :\n",
    "        # example : AC = 1 * 26 ^ 1 + 3 * 26 ^ 0\n",
    "        code += (ord(str(charcode)[i]) - ord(\"a\") + 1) * (26 ** (length - i - 1)) - 1\n",
    "    return(code)\n",
    "\n",
    "for col in cat_feats :\n",
    "    alldata[col] = alldata[col].apply(encodeLetters)'''\n"
   ]
  },
  {
   "cell_type": "code",
   "execution_count": 16,
   "metadata": {
    "collapsed": true,
    "deletable": true,
    "editable": true
   },
   "outputs": [],
   "source": [
    "# Redifferentiate train and test sets\n",
    "train = alldata.iloc[:train.shape[0], :]\n",
    "test = alldata.iloc[train.shape[0]: , :]\n",
    "cols = train.columns"
   ]
  },
  {
   "cell_type": "code",
   "execution_count": 17,
   "metadata": {
    "collapsed": false,
    "deletable": true,
    "editable": true
   },
   "outputs": [],
   "source": [
    "# Add top X PCA components\n",
    "N_COMP = 8\n",
    "pca = PCA(n_components = N_COMP, random_state = SEED)\n",
    "pca_train = pca.fit_transform(train[cols])\n",
    "pca_test = pca.transform(test[cols])\n",
    "for i in range(1, N_COMP + 1) :\n",
    "    train[\"pca_\" + str(i)] = pca_train[:, i - 1]\n",
    "    test[\"pca_\" + str(i)] = pca_test[:, i - 1]\n"
   ]
  },
  {
   "cell_type": "code",
   "execution_count": 18,
   "metadata": {
    "collapsed": false,
    "deletable": true,
    "editable": true
   },
   "outputs": [],
   "source": [
    "# Add top X ICA components\n",
    "N_COMP = 8\n",
    "ica = FastICA(n_components = N_COMP, random_state = SEED)\n",
    "ica_train = ica.fit_transform(train[cols])\n",
    "ica_test = ica.transform(test[cols])\n",
    "for i in range(1, N_COMP + 1) :\n",
    "    train[\"ica_\" + str(i)] = ica_train[:, i - 1]\n",
    "    test[\"ica_\" + str(i)] = ica_test[:, i - 1]\n"
   ]
  },
  {
   "cell_type": "code",
   "execution_count": 19,
   "metadata": {
    "collapsed": false,
    "deletable": true,
    "editable": true
   },
   "outputs": [
    {
     "data": {
      "text/plain": [
       "'# Add top X T-SVD components\\nN_COMP = 12\\ntsvd = TruncatedSVD(n_components = N_COMP, random_state = SEED)\\ntsvd_train = tsvd.fit_transform(train[cols])\\ntsvd_test = tsvd.transform(test[cols])\\nfor i in range(1, N_COMP + 1) :\\n    train[\"tsvd_\" + str(i)] = tsvd_train[:, i - 1]\\n    test[\"tsvd_\" + str(i)] = tsvd_test[:, i - 1]'"
      ]
     },
     "execution_count": 19,
     "metadata": {},
     "output_type": "execute_result"
    }
   ],
   "source": [
    "'''# Add top X T-SVD components\n",
    "N_COMP = 12\n",
    "tsvd = TruncatedSVD(n_components = N_COMP, random_state = SEED)\n",
    "tsvd_train = tsvd.fit_transform(train[cols])\n",
    "tsvd_test = tsvd.transform(test[cols])\n",
    "for i in range(1, N_COMP + 1) :\n",
    "    train[\"tsvd_\" + str(i)] = tsvd_train[:, i - 1]\n",
    "    test[\"tsvd_\" + str(i)] = tsvd_test[:, i - 1]'''\n"
   ]
  },
  {
   "cell_type": "code",
   "execution_count": 20,
   "metadata": {
    "collapsed": false,
    "deletable": true,
    "editable": true
   },
   "outputs": [
    {
     "data": {
      "text/plain": [
       "'# Add top X GaussianRandomProjection components\\nN_COMP = 12\\ngrp = GaussianRandomProjection(n_components = N_COMP, random_state = SEED)\\ngrp_train = grp.fit_transform(train[cols])\\ngrp_test = grp.transform(test[cols])\\nfor i in range(1, N_COMP + 1) :\\n    train[\"grp_\" + str(i)] = grp_train[:, i - 1]\\n    test[\"grp_\" + str(i)] = grp_test[:, i - 1]'"
      ]
     },
     "execution_count": 20,
     "metadata": {},
     "output_type": "execute_result"
    }
   ],
   "source": [
    "'''# Add top X GaussianRandomProjection components\n",
    "N_COMP = 12\n",
    "grp = GaussianRandomProjection(n_components = N_COMP, random_state = SEED)\n",
    "grp_train = grp.fit_transform(train[cols])\n",
    "grp_test = grp.transform(test[cols])\n",
    "for i in range(1, N_COMP + 1) :\n",
    "    train[\"grp_\" + str(i)] = grp_train[:, i - 1]\n",
    "    test[\"grp_\" + str(i)] = grp_test[:, i - 1]'''\n"
   ]
  },
  {
   "cell_type": "code",
   "execution_count": 21,
   "metadata": {
    "collapsed": true,
    "deletable": true,
    "editable": true
   },
   "outputs": [],
   "source": [
    "# Add top X SparseRandomProjection components\n",
    "N_COMP = 12\n",
    "srp = SparseRandomProjection(n_components = N_COMP, random_state = SEED)\n",
    "srp_train = srp.fit_transform(train[cols])\n",
    "srp_test = srp.transform(test[cols])\n",
    "for i in range(1, N_COMP + 1) :\n",
    "    train[\"srp_\" + str(i)] = srp_train[:, i - 1]\n",
    "    test[\"srp_\" + str(i)] = srp_test[:, i - 1]\n"
   ]
  },
  {
   "cell_type": "code",
   "execution_count": 22,
   "metadata": {
    "collapsed": true,
    "deletable": true,
    "editable": true
   },
   "outputs": [],
   "source": [
    "# Add AND and OR operations on top/all binary features"
   ]
  },
  {
   "cell_type": "code",
   "execution_count": 23,
   "metadata": {
    "collapsed": true,
    "deletable": true,
    "editable": true
   },
   "outputs": [],
   "source": [
    "# Add simpler groups of cat features (diminish cardinality)"
   ]
  },
  {
   "cell_type": "code",
   "execution_count": 24,
   "metadata": {
    "collapsed": true,
    "deletable": true,
    "editable": true
   },
   "outputs": [],
   "source": [
    "# Add columns with count of 1s for each binary col?"
   ]
  },
  {
   "cell_type": "code",
   "execution_count": 25,
   "metadata": {
    "collapsed": false
   },
   "outputs": [],
   "source": [
    "# Create Validation set for ensembling\n",
    "X_test = train.sample(frac = (1 / FOLDS), random_state = (SEED * i))\n",
    "X_train = train.drop(X_test.index, axis = 0)\n",
    "\n",
    "X_test_y = y.sample(frac = (1 / FOLDS), random_state = (SEED * i))\n",
    "X_train_y = y.drop(X_test_y.index, axis = 0)\n"
   ]
  },
  {
   "cell_type": "code",
   "execution_count": 26,
   "metadata": {
    "collapsed": true,
    "deletable": true,
    "editable": true
   },
   "outputs": [],
   "source": [
    "# Write data in CSV files\n",
    "train.to_csv(\"clean_data/train\" + \".csv\", index = False)\n",
    "y.to_csv(\"clean_data/y.csv\", index = False)\n",
    "\n",
    "X_train.to_csv(\"clean_data/X_train\" + \".csv\", index = False)\n",
    "X_train_y.to_csv(\"clean_data/X_train_y.csv\", index = False)\n",
    "\n",
    "X_test.to_csv(\"clean_data/X_test\" + \".csv\", index = False)\n",
    "X_test_y.to_csv(\"clean_data/X_test_y.csv\", index = False)\n",
    "\n",
    "test.to_csv(\"clean_data/test\" + \".csv\", index = False)\n",
    "test_ids.to_csv(\"clean_data/test_ids.csv\", index = False)\n"
   ]
  },
  {
   "cell_type": "code",
   "execution_count": null,
   "metadata": {
    "collapsed": true,
    "deletable": true,
    "editable": true
   },
   "outputs": [],
   "source": []
  }
 ],
 "metadata": {
  "anaconda-cloud": {},
  "kernelspec": {
   "display_name": "Python [Root]",
   "language": "python",
   "name": "Python [Root]"
  },
  "language_info": {
   "codemirror_mode": {
    "name": "ipython",
    "version": 3
   },
   "file_extension": ".py",
   "mimetype": "text/x-python",
   "name": "python",
   "nbconvert_exporter": "python",
   "pygments_lexer": "ipython3",
   "version": "3.5.2"
  },
  "widgets": {
   "state": {},
   "version": "1.1.2"
  }
 },
 "nbformat": 4,
 "nbformat_minor": 0
}
