{
 "cells": [
  {
   "cell_type": "code",
   "execution_count": 1,
   "metadata": {
    "collapsed": false,
    "deletable": true,
    "editable": true
   },
   "outputs": [
    {
     "name": "stderr",
     "output_type": "stream",
     "text": [
      "C:\\Anaconda3\\lib\\site-packages\\sklearn\\cross_validation.py:44: DeprecationWarning: This module was deprecated in version 0.18 in favor of the model_selection module into which all the refactored classes and functions are moved. Also note that the interface of the new CV iterators are different from that of this module. This module will be removed in 0.20.\n",
      "  \"This module will be removed in 0.20.\", DeprecationWarning)\n"
     ]
    }
   ],
   "source": [
    "# Imports\n",
    "import pandas as pd\n",
    "import numpy as np\n",
    "from IPython.display import display\n",
    "import matplotlib.pyplot as plt\n",
    "import seaborn as sns\n",
    "import warnings\n",
    "from sklearn.preprocessing import LabelEncoder\n",
    "from sklearn.decomposition import PCA, FastICA, TruncatedSVD\n",
    "from sklearn.random_projection import GaussianRandomProjection, SparseRandomProjection\n",
    "from sklearn.model_selection import KFold\n",
    "from sklearn.linear_model import LassoCV\n",
    "from sklearn.ensemble import ExtraTreesRegressor\n",
    "from sklearn.metrics import r2_score\n",
    "import xgboost as xgb\n",
    "\n",
    "# Display\n",
    "pd.set_option('display.float_format', lambda x: '%.3f' % x)\n",
    "%matplotlib inline\n",
    "warnings.simplefilter('ignore')\n",
    "\n",
    "# Defines\n",
    "N_COMP = 12\n",
    "N_JOBS = -1\n",
    "SEED = 420\n"
   ]
  },
  {
   "cell_type": "code",
   "execution_count": 2,
   "metadata": {
    "collapsed": true,
    "deletable": true,
    "editable": true
   },
   "outputs": [],
   "source": [
    "# Read datasets\n",
    "train = pd.read_csv(\"raw_data/train.csv\")\n",
    "test = pd.read_csv(\"raw_data/test.csv\")\n"
   ]
  },
  {
   "cell_type": "code",
   "execution_count": 4,
   "metadata": {
    "collapsed": true,
    "deletable": true,
    "editable": true
   },
   "outputs": [],
   "source": [
    "# Process columns, apply LabelEncoder to categorical features\n",
    "for c in train.columns:\n",
    "    if train[c].dtype == \"object\" :\n",
    "        lbl = LabelEncoder() \n",
    "        lbl.fit(list(train[c].values) + list(test[c].values)) \n",
    "        train[c] = lbl.transform(list(train[c].values))\n",
    "        test[c] = lbl.transform(list(test[c].values))\n"
   ]
  },
  {
   "cell_type": "code",
   "execution_count": 5,
   "metadata": {
    "collapsed": true,
    "deletable": true,
    "editable": true
   },
   "outputs": [],
   "source": [
    "# tSVD\n",
    "tsvd = TruncatedSVD(n_components = N_COMP, random_state = SEED)\n",
    "tsvd_results_train = tsvd.fit_transform(train.drop([\"y\"], axis = 1))\n",
    "tsvd_results_test = tsvd.transform(test)"
   ]
  },
  {
   "cell_type": "code",
   "execution_count": 6,
   "metadata": {
    "collapsed": true,
    "deletable": true,
    "editable": true
   },
   "outputs": [],
   "source": [
    "# PCA\n",
    "pca = PCA(n_components = N_COMP, random_state = SEED)\n",
    "pca2_results_train = pca.fit_transform(train.drop([\"y\"], axis = 1))\n",
    "pca2_results_test = pca.transform(test)"
   ]
  },
  {
   "cell_type": "code",
   "execution_count": 7,
   "metadata": {
    "collapsed": true,
    "deletable": true,
    "editable": true
   },
   "outputs": [],
   "source": [
    "# ICA\n",
    "ica = FastICA(n_components = N_COMP, random_state = SEED)\n",
    "ica2_results_train = ica.fit_transform(train.drop([\"y\"], axis = 1))\n",
    "ica2_results_test = ica.transform(test)"
   ]
  },
  {
   "cell_type": "code",
   "execution_count": 8,
   "metadata": {
    "collapsed": true,
    "deletable": true,
    "editable": true
   },
   "outputs": [],
   "source": [
    "# GRP\n",
    "grp = GaussianRandomProjection(n_components = N_COMP, random_state = SEED)\n",
    "grp_results_train = grp.fit_transform(train.drop([\"y\"], axis = 1))\n",
    "grp_results_test = grp.transform(test)"
   ]
  },
  {
   "cell_type": "code",
   "execution_count": 9,
   "metadata": {
    "collapsed": true,
    "deletable": true,
    "editable": true
   },
   "outputs": [],
   "source": [
    "# SRP\n",
    "srp = SparseRandomProjection(n_components = N_COMP, random_state = SEED)\n",
    "srp_results_train = srp.fit_transform(train.drop([\"y\"], axis = 1))\n",
    "srp_results_test = srp.transform(test)"
   ]
  },
  {
   "cell_type": "code",
   "execution_count": 10,
   "metadata": {
    "collapsed": true,
    "deletable": true,
    "editable": true
   },
   "outputs": [],
   "source": [
    "# Append decomposition components to datasets\n",
    "for i in range(1, N_COMP + 1):\n",
    "    train[\"pca_\" + str(i)] = pca2_results_train[:, i - 1]\n",
    "    test[\"pca_\" + str(i)] = pca2_results_test[:, i - 1]\n",
    "    \n",
    "    train[\"ica_\" + str(i)] = ica2_results_train[:, i - 1]\n",
    "    test[\"ica_\" + str(i)] = ica2_results_test[:, i - 1]\n",
    "\n",
    "    train[\"tsvd_\" + str(i)] = tsvd_results_train[:, i - 1]\n",
    "    test[\"tsvd_\" + str(i)] = tsvd_results_test[:, i - 1]\n",
    "    \n",
    "    train[\"grp_\" + str(i)] = grp_results_train[:, i - 1]\n",
    "    test[\"grp_\" + str(i)] = grp_results_test[:, i - 1]\n",
    "    \n",
    "    train[\"srp_\" + str(i)] = srp_results_train[:, i - 1]\n",
    "    test[\"srp_\" + str(i)] = srp_results_test[:, i - 1]"
   ]
  },
  {
   "cell_type": "code",
   "execution_count": 11,
   "metadata": {
    "collapsed": true,
    "deletable": true,
    "editable": true
   },
   "outputs": [],
   "source": [
    "# Prepare dict of params for xgboost to run with  \n",
    "y_train = train[\"y\"]\n",
    "y_mean = np.mean(y_train)\n",
    "\n",
    "xgb_params = {\n",
    "    \"n_trees\": 520, \n",
    "    \"eta\": 0.0045,\n",
    "    \"max_depth\": 4,\n",
    "    \"subsample\": 0.93,\n",
    "    \"objective\": \"reg:linear\",\n",
    "    \"eval_metric\": \"rmse\",\n",
    "    \"base_score\": y_mean,\n",
    "    \"silent\": 1\n",
    "}\n",
    "\n",
    "# Form DMatrices for Xgboost training\n",
    "dtrain = xgb.DMatrix(train.drop(\"y\", axis = 1), y_train)\n",
    "dtest = xgb.DMatrix(test)\n",
    "\n",
    "# Train model\n",
    "num_boost_rounds = 1250\n",
    "model = xgb.train(dict(xgb_params, silent = 0), \n",
    "                  dtrain, \n",
    "                  num_boost_round = num_boost_rounds)"
   ]
  },
  {
   "cell_type": "code",
   "execution_count": 12,
   "metadata": {
    "collapsed": false,
    "deletable": true,
    "editable": true
   },
   "outputs": [
    {
     "name": "stdout",
     "output_type": "stream",
     "text": [
      "0.684157306685\n"
     ]
    }
   ],
   "source": [
    "# Check r2-score\n",
    "print(r2_score(dtrain.get_label(), model.predict(dtrain)))"
   ]
  },
  {
   "cell_type": "code",
   "execution_count": 13,
   "metadata": {
    "collapsed": false,
    "deletable": true,
    "editable": true
   },
   "outputs": [],
   "source": [
    "# Make predictions\n",
    "y_pred = model.predict(dtest)\n",
    "results = pd.DataFrame({\"ID\": test[\"ID\"].astype(np.int32), \"y\": y_pred})\n"
   ]
  },
  {
   "cell_type": "code",
   "execution_count": 18,
   "metadata": {
    "collapsed": false,
    "deletable": true,
    "editable": true
   },
   "outputs": [
    {
     "data": {
      "image/png": "[encoded data removed]",
      "text/plain": [
       "<matplotlib.figure.Figure at 0x2266fd268d0>"
      ]
     },
     "metadata": {},
     "output_type": "display_data"
    }
   ],
   "source": [
    "probe_ids = [1, 12, 23, 28, 42, 43, 45, 57, 72, 78, 88, 89, 93, 94, 104, 105, 110, 409, 493, 973, 1001, 1004, 1008, 1009, \n",
    "             3977, 4012]\n",
    "probe_preds = results[results[\"ID\"].isin(probe_ids)]\n",
    "\n",
    "# Plot predictions\n",
    "plt.scatter(new_y, probe_preds.y, c = \"blue\", marker = \"s\")\n",
    "plt.xlabel(\"probed y\")\n",
    "plt.ylabel(\"pred y\")\n",
    "plt.plot([60, 140], [60, 140], c = \"red\")\n",
    "plt.show()"
   ]
  },
  {
   "cell_type": "code",
   "execution_count": null,
   "metadata": {
    "collapsed": false,
    "deletable": true,
    "editable": true
   },
   "outputs": [],
   "source": [
    "# Correct manually probed LB values\n",
    "results.loc[results.ID == 1, \"y\"] = 71.34112\n",
    "results.loc[results.ID == 12, \"y\"] = 109.30903\n",
    "results.loc[results.ID == 23, \"y\"] = 115.21953\n",
    "results.loc[results.ID == 28, \"y\"] = 92.00675\n",
    "results.loc[results.ID == 42, \"y\"] = 87.73572\n",
    "results.loc[results.ID == 43, \"y\"] = 129.79876\n",
    "results.loc[results.ID == 45, \"y\"] = 99.55671\n",
    "results.loc[results.ID == 57, \"y\"] = 116.02167\n",
    "results.loc[results.ID == 72, \"y\"] = 110.54742\n",
    "results.loc[results.ID == 78, \"y\"] = 125.28849\n",
    "results.loc[results.ID == 88, \"y\"] = 90.33211\n",
    "results.loc[results.ID == 89, \"y\"] = 130.55165\n",
    "results.loc[results.ID == 93, \"y\"] = 105.79792\n",
    "results.loc[results.ID == 94, \"y\"] = 103.04672\n",
    "results.loc[results.ID == 104, \"y\"] = 92.37968\n",
    "results.loc[results.ID == 105, \"y\"] = 108.5069\n",
    "results.loc[results.ID == 110, \"y\"] = 83.31692\n",
    "results.loc[results.ID == 409, \"y\"] = 91.0076\n",
    "results.loc[results.ID == 493, \"y\"] = 108.40135\n",
    "results.loc[results.ID == 973, \"y\"] = 106.76189\n",
    "results.loc[results.ID == 1001, \"y\"] = 111.65212\n",
    "results.loc[results.ID == 1004, \"y\"] = 91.472\n",
    "results.loc[results.ID == 1008, \"y\"] = 106.71967\n",
    "results.loc[results.ID == 1009, \"y\"] = 108.21841\n",
    "results.loc[results.ID == 3977, \"y\"] = 132.08556\n",
    "results.loc[results.ID == 4012, \"y\"] = 83.62651\n"
   ]
  },
  {
   "cell_type": "code",
   "execution_count": null,
   "metadata": {
    "collapsed": false,
    "deletable": true,
    "editable": true
   },
   "outputs": [],
   "source": [
    "# Save results\n",
    "display(results.head(15))\n",
    "results.to_csv(\"preds/kaggle_baselane.csv\", index = False) "
   ]
  },
  {
   "cell_type": "code",
   "execution_count": null,
   "metadata": {
    "collapsed": true,
    "deletable": true,
    "editable": true
   },
   "outputs": [],
   "source": []
  }
 ],
 "metadata": {
  "kernelspec": {
   "display_name": "Python 3",
   "language": "python",
   "name": "python3"
  },
  "language_info": {
   "codemirror_mode": {
    "name": "ipython",
    "version": 3
   },
   "file_extension": ".py",
   "mimetype": "text/x-python",
   "name": "python",
   "nbconvert_exporter": "python",
   "pygments_lexer": "ipython3",
   "version": "3.5.2"
  },
  "widgets": {
   "state": {},
   "version": "1.1.2"
  }
 },
 "nbformat": 4,
 "nbformat_minor": 0
}
