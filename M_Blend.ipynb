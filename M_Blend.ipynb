{
 "cells": [
  {
   "cell_type": "code",
   "execution_count": 1,
   "metadata": {
    "collapsed": false
   },
   "outputs": [],
   "source": [
    "# Imports\n",
    "import pandas as pd\n",
    "import numpy as np\n",
    "import datetime\n",
    "import warnings\n",
    "from scipy.optimize import minimize\n",
    "from sklearn.metrics import r2_score\n",
    "from IPython.display import display\n",
    "\n",
    "# Definitions\n",
    "pd.set_option('display.float_format', lambda x: '%.3f' % x)\n",
    "%matplotlib inline\n",
    "warnings.simplefilter('ignore')\n",
    "N_JOBS = -1\n",
    "SEED = 2017"
   ]
  },
  {
   "cell_type": "code",
   "execution_count": 2,
   "metadata": {
    "collapsed": false
   },
   "outputs": [],
   "source": [
    "# Define function to minimize\n",
    "def target_func(weights) :\n",
    "    final_prediction = 0\n",
    "    for weight, prediction in zip(weights, preds_X_test):\n",
    "        final_prediction += weight * prediction\n",
    "    return(-r2_score(X_test_y, final_prediction))\n",
    "\n",
    "\n",
    "# Optimize ensemble weights on held out fold\n",
    "def optimize(preds_X_test, names) :\n",
    "    scores = []\n",
    "    weights = []\n",
    "    for i in range(100):\n",
    "        # Choose many random starting weights\n",
    "        starting_values = np.random.uniform(size = len(preds_X_test))\n",
    "\n",
    "        # Our weights are bound between 0 and 1\n",
    "        bounds = [(0, 1)] * len(preds_X_test)\n",
    "\n",
    "        res = minimize(\n",
    "            target_func, \n",
    "            starting_values, \n",
    "            method = \"SLSQP\", \n",
    "            bounds = bounds, \n",
    "            options = {\"maxiter\" : 10000})\n",
    "\n",
    "        scores.append(res[\"fun\"])\n",
    "        weights.append(res[\"x\"])\n",
    "\n",
    "    bestSC = -np.min(scores)\n",
    "    bestWght = weights[np.argmin(scores)]\n",
    "\n",
    "    print(\"\\n Ensemble Score: {}\".format(bestSC))\n",
    "    print(\"\\n Best Weights: {}\".format(bestWght))\n",
    "    print(\"\\n Names: {}\".format(names))\n",
    "\n",
    "    return(bestSC, bestWght, names)"
   ]
  },
  {
   "cell_type": "markdown",
   "metadata": {},
   "source": [
    "<b>Script</b>"
   ]
  },
  {
   "cell_type": "code",
   "execution_count": 3,
   "metadata": {
    "collapsed": true
   },
   "outputs": [],
   "source": [
    "# Get data\n",
    "test = pd.read_csv(\"clean_data/test.csv\")\n",
    "test_ids = pd.read_csv(\"clean_data/test_ids.csv\", header = None)\n",
    "\n",
    "X_test_y = pd.read_csv(\"clean_data/X_test_y.csv\")\n",
    "\n"
   ]
  },
  {
   "cell_type": "code",
   "execution_count": 25,
   "metadata": {
    "collapsed": false
   },
   "outputs": [],
   "source": [
    "# Get validation set data\n",
    "la_preds_X_test = np.array(pd.read_csv(\"preds/la_preds_X_test.csv\", header = None))\n",
    "et_preds_X_test = np.array(pd.read_csv(\"preds/et_preds_X_test.csv\", header = None))\n",
    "xg_preds_X_test = np.array(pd.read_csv(\"preds/xg_preds_X_test.csv\", header = None))\n",
    "\n",
    "# Get test set data\n",
    "la_preds_test = np.array(pd.read_csv(\"preds/la_preds_test.csv\"))\n",
    "et_preds_test = np.array(pd.read_csv(\"preds/et_preds_test.csv\"))\n",
    "xg_preds_test = np.array(pd.read_csv(\"preds/xg_preds_test.csv\"))\n",
    "\n",
    "preds_X_test = []\n",
    "preds_X_test.append(la_preds_X_test[:, 0])\n",
    "preds_X_test.append(et_preds_X_test[:, 0])\n",
    "preds_X_test.append(xg_preds_X_test[:, 0])\n",
    "\n",
    "preds_test = []\n",
    "preds_test.append(la_preds_test[:, 1])\n",
    "preds_test.append(et_preds_test[:, 1])\n",
    "preds_test.append(xg_preds_test[:, 1])\n",
    "\n",
    "names = []\n",
    "names.append(\"la\")\n",
    "names.append(\"et\")\n",
    "names.append(\"xg\")\n"
   ]
  },
  {
   "cell_type": "code",
   "execution_count": 26,
   "metadata": {
    "collapsed": false
   },
   "outputs": [
    {
     "name": "stdout",
     "output_type": "stream",
     "text": [
      "[array([  79.14059146,   94.0194818 ,   79.14059146, ...,   93.47911443,\n",
      "        111.01956104,   93.17548759]), array([  77.77629834,   94.3189357 ,   77.56576577, ...,   93.07136846,\n",
      "        111.13477199,   93.06974713]), array([  79.18000031,   94.309021  ,   80.21730042, ...,   92.15676117,\n",
      "        109.28131104,   91.15718842])]\n"
     ]
    }
   ],
   "source": [
    "print(preds_test)\n"
   ]
  },
  {
   "cell_type": "code",
   "execution_count": 27,
   "metadata": {
    "collapsed": false
   },
   "outputs": [
    {
     "name": "stdout",
     "output_type": "stream",
     "text": [
      "la on held out fold : 0.627059169621\n",
      "et on held out fold : 0.614172687261\n",
      "xg on held out fold : 0.611368707735\n"
     ]
    }
   ],
   "source": [
    "# Scores of single models on validation set\n",
    "print(\"la on held out fold : \" + str(r2_score(X_test_y, la_preds_X_test)))\n",
    "print(\"et on held out fold : \" + str(r2_score(X_test_y, et_preds_X_test)))\n",
    "print(\"xg on held out fold : \" + str(r2_score(X_test_y, xg_preds_X_test)))\n"
   ]
  },
  {
   "cell_type": "code",
   "execution_count": 28,
   "metadata": {
    "collapsed": false,
    "scrolled": true
   },
   "outputs": [
    {
     "name": "stdout",
     "output_type": "stream",
     "text": [
      "\n",
      " Ensemble Score: 0.6278532631267271\n",
      "\n",
      " Best Weights: [  8.64478837e-01   1.32718692e-01   1.60378407e-19]\n",
      "\n",
      " Names: ['la', 'et', 'xg']\n"
     ]
    }
   ],
   "source": [
    "# Optimize weights\n",
    "bestSC, bestWght, names = optimize(preds_X_test, names)"
   ]
  },
  {
   "cell_type": "code",
   "execution_count": 30,
   "metadata": {
    "collapsed": false
   },
   "outputs": [],
   "source": [
    "# Prepare submission using optimal weights\n",
    "preds = 0\n",
    "for i in range(0, len(bestWght)) :\n",
    "    (bestWght[i] * preds_test[i])\n",
    "    preds += (bestWght[i] * preds_test[i])"
   ]
  },
  {
   "cell_type": "code",
   "execution_count": 31,
   "metadata": {
    "collapsed": false
   },
   "outputs": [],
   "source": [
    "# Save predictions\n",
    "pd.DataFrame({\"ID\": test_ids[0], \"y\": preds}).to_csv(\"preds/blend.csv\", index = False)\n"
   ]
  },
  {
   "cell_type": "code",
   "execution_count": null,
   "metadata": {
    "collapsed": true
   },
   "outputs": [],
   "source": []
  }
 ],
 "metadata": {
  "kernelspec": {
   "display_name": "Python [Root]",
   "language": "python",
   "name": "Python [Root]"
  },
  "language_info": {
   "codemirror_mode": {
    "name": "ipython",
    "version": 3
   },
   "file_extension": ".py",
   "mimetype": "text/x-python",
   "name": "python",
   "nbconvert_exporter": "python",
   "pygments_lexer": "ipython3",
   "version": "3.5.2"
  }
 },
 "nbformat": 4,
 "nbformat_minor": 0
}
