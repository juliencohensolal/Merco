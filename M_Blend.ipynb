{
 "cells": [
  {
   "cell_type": "code",
   "execution_count": 1,
   "metadata": {
    "collapsed": false
   },
   "outputs": [],
   "source": [
    "# Imports\n",
    "import pandas as pd\n",
    "import numpy as np\n",
    "import datetime\n",
    "import warnings\n",
    "from scipy.optimize import minimize\n",
    "from sklearn.metrics import r2_score\n",
    "from IPython.display import display\n",
    "\n",
    "# Definitions\n",
    "pd.set_option('display.float_format', lambda x: '%.3f' % x)\n",
    "%matplotlib inline\n",
    "warnings.simplefilter('ignore')\n",
    "N_JOBS = -1\n",
    "SEED = 2017"
   ]
  },
  {
   "cell_type": "code",
   "execution_count": 2,
   "metadata": {
    "collapsed": false
   },
   "outputs": [],
   "source": [
    "# Define function to minimize\n",
    "def target_func(weights) :\n",
    "    final_prediction = 0\n",
    "    for weight, prediction in zip(weights, preds_y_val):\n",
    "        final_prediction += weight * prediction\n",
    "    return(-r2_score(y_val, final_prediction))\n",
    "\n",
    "\n",
    "# Optimize ensemble weights on held out fold\n",
    "def optimize(preds_y_val, names) :\n",
    "    scores = []\n",
    "    weights = []\n",
    "    for i in range(100):\n",
    "        # Choose many random starting weights\n",
    "        starting_values = np.random.uniform(size = len(preds_y_val))\n",
    "\n",
    "        # Our weights are bound between 0 and 1\n",
    "        bounds = [(0, 1)] * len(preds_y_val)\n",
    "\n",
    "        res = minimize(\n",
    "            target_func, \n",
    "            starting_values, \n",
    "            method = \"SLSQP\", \n",
    "            bounds = bounds, \n",
    "            options = {\"maxiter\" : 10000})\n",
    "\n",
    "        scores.append(res[\"fun\"])\n",
    "        weights.append(res[\"x\"])\n",
    "\n",
    "    bestSC = -np.min(scores)\n",
    "    bestWght = weights[np.argmin(scores)]\n",
    "\n",
    "    print(\"\\n Ensemble Score: {}\".format(bestSC))\n",
    "    print(\"\\n Best Weights: {}\".format(bestWght))\n",
    "    print(\"\\n Names: {}\".format(names))\n",
    "\n",
    "    return(bestSC, bestWght, names)"
   ]
  },
  {
   "cell_type": "markdown",
   "metadata": {},
   "source": [
    "<b>Script</b>"
   ]
  },
  {
   "cell_type": "code",
   "execution_count": 3,
   "metadata": {
    "collapsed": true
   },
   "outputs": [],
   "source": [
    "# Get data\n",
    "test = pd.read_csv(\"clean_data/test.csv\")\n",
    "test_ids = pd.read_csv(\"clean_data/test_ids.csv\", header = None)\n"
   ]
  },
  {
   "cell_type": "code",
   "execution_count": 4,
   "metadata": {
    "collapsed": false
   },
   "outputs": [],
   "source": [
    "# Get validation set data\n",
    "y_val = np.array(pd.read_csv(\"clean_data/y_val.csv\", header = None))\n",
    "\n",
    "la_X_val = np.array(pd.read_csv(\"clean_data/la_X_val.csv\"))\n",
    "la_preds_val = np.array(pd.read_csv(\"preds/la_preds_val.csv\", header = None))\n",
    "\n",
    "et_X_val = np.array(pd.read_csv(\"clean_data/et_X_val.csv\"))\n",
    "et_preds_val = np.array(pd.read_csv(\"preds/et_preds_val.csv\", header = None))\n",
    "\n",
    "preds_y_val = []\n",
    "preds_y_val.append(la_preds_val)\n",
    "preds_y_val.append(et_preds_val)\n",
    "\n",
    "names = []\n",
    "names.append(\"la_preds_val\")\n",
    "names.append(\"et_preds_val\")\n"
   ]
  },
  {
   "cell_type": "code",
   "execution_count": 5,
   "metadata": {
    "collapsed": false
   },
   "outputs": [
    {
     "name": "stdout",
     "output_type": "stream",
     "text": [
      "la on held out fold : 0.464321084613\n",
      "et on held out fold : 0.453500241938\n"
     ]
    }
   ],
   "source": [
    "# Remind scores of single models on validation set\n",
    "print(\"la on held out fold : \" + str(r2_score(y_val, la_preds_val)))\n",
    "print(\"et on held out fold : \" + str(r2_score(y_val, et_preds_val)))\n"
   ]
  },
  {
   "cell_type": "code",
   "execution_count": 6,
   "metadata": {
    "collapsed": false,
    "scrolled": true
   },
   "outputs": [
    {
     "name": "stdout",
     "output_type": "stream",
     "text": [
      "\n",
      " Ensemble Score: 0.4651836947681909\n",
      "\n",
      " Best Weights: [ 1.          0.00391728]\n",
      "\n",
      " Names: ['la_preds_val', 'et_preds_val']\n"
     ]
    }
   ],
   "source": [
    "# Optimize weights\n",
    "bestSC, bestWght, names = optimize(preds_y_val, names)"
   ]
  },
  {
   "cell_type": "code",
   "execution_count": 7,
   "metadata": {
    "collapsed": false
   },
   "outputs": [],
   "source": [
    "# Load predictions on whole test set\n",
    "la_preds = pd.read_csv(\"preds/la_simple.csv\")\n",
    "et_preds = pd.read_csv(\"preds/et_simple.csv\")\n",
    "\n",
    "preds_test = []\n",
    "preds_test.append(la_preds.y)\n",
    "preds_test.append(et_preds.y)\n"
   ]
  },
  {
   "cell_type": "code",
   "execution_count": 8,
   "metadata": {
    "collapsed": false
   },
   "outputs": [],
   "source": [
    "# Prepare submission using optimal weights\n",
    "preds = np.zeros(shape = (la_preds.shape[0]))\n",
    "for i in range(0, len(bestWght)) :\n",
    "    preds += (bestWght[i] * preds_test[i])"
   ]
  },
  {
   "cell_type": "code",
   "execution_count": 9,
   "metadata": {
    "collapsed": true
   },
   "outputs": [],
   "source": [
    "# Save predictions\n",
    "pd.DataFrame({\"ID\": test_ids[0], \"y\": preds}).to_csv(\"preds/blend.csv\", index = False)\n"
   ]
  },
  {
   "cell_type": "code",
   "execution_count": null,
   "metadata": {
    "collapsed": true
   },
   "outputs": [],
   "source": []
  }
 ],
 "metadata": {
  "kernelspec": {
   "display_name": "Python [Root]",
   "language": "python",
   "name": "Python [Root]"
  },
  "language_info": {
   "codemirror_mode": {
    "name": "ipython",
    "version": 3
   },
   "file_extension": ".py",
   "mimetype": "text/x-python",
   "name": "python",
   "nbconvert_exporter": "python",
   "pygments_lexer": "ipython3",
   "version": "3.5.2"
  }
 },
 "nbformat": 4,
 "nbformat_minor": 0
}
