{
 "cells": [
  {
   "cell_type": "code",
   "execution_count": 1,
   "metadata": {
    "collapsed": false
   },
   "outputs": [
    {
     "name": "stderr",
     "output_type": "stream",
     "text": [
      "/home/ubuntu/anaconda2/envs/jcs_dl/lib/python3.5/site-packages/sklearn/cross_validation.py:44: DeprecationWarning: This module was deprecated in version 0.18 in favor of the model_selection module into which all the refactored classes and functions are moved. Also note that the interface of the new CV iterators are different from that of this module. This module will be removed in 0.20.\n",
      "  \"This module will be removed in 0.20.\", DeprecationWarning)\n"
     ]
    }
   ],
   "source": [
    "# Imports \n",
    "import os\n",
    "import pandas as pd\n",
    "import numpy as np\n",
    "from IPython.display import display\n",
    "import matplotlib.pyplot as plt\n",
    "import seaborn as sns\n",
    "import time\n",
    "import warnings\n",
    "from sklearn.metrics import mean_squared_error\n",
    "from sklearn.ensemble import ExtraTreesRegressor\n",
    "import xgboost as xgb\n",
    "from bayes_opt import BayesianOptimization\n",
    "import scipy.interpolate\n",
    "\n",
    "# Defines\n",
    "SEED = 2017\n",
    "N_JOBS = 18\n",
    "EMISSIONS = \"Counts.Particles.PNC3\"\n",
    "pd.set_option('display.float_format', lambda x: '%.3f' % x)\n",
    "%matplotlib inline\n",
    "plt.rcParams[\"patch.force_edgecolor\"] = True\n",
    "warnings.filterwarnings(\"ignore\")\n",
    "\n",
    "MODEL = \"xg\""
   ]
  },
  {
   "cell_type": "code",
   "execution_count": 2,
   "metadata": {
    "collapsed": true
   },
   "outputs": [],
   "source": [
    "# Fit, predict and return error\n",
    "def run_et(max_features, max_depth, min_samples_split, min_samples_leaf) :\n",
    "    # Fit model\n",
    "    et = ExtraTreesRegressor(n_estimators = 100, \n",
    "                             max_features = max_features, \n",
    "                             max_depth = int(max_depth), \n",
    "                             min_samples_split = int(min_samples_split), \n",
    "                             min_samples_leaf = int(min_samples_leaf), \n",
    "                             n_jobs = -1, \n",
    "                             random_state = SEED)\n",
    "    et.fit(X_train, y_train)\n",
    "    \n",
    "    # Make predictions\n",
    "    preds = et.predict(X_test) \n",
    "\n",
    "    # Compute error\n",
    "    rmse = np.sqrt(mean_squared_error(y_test, preds))\n",
    "\n",
    "    return((-1) * rmse)\n",
    "\n",
    "\n",
    "def run_xgb(max_depth, min_child_weight, subsample, colsample_bytree, colsample_bylevel) :\n",
    "\n",
    "    def xgb_mse(preds, dtrain) :\n",
    "        labels = dtrain.get_label()\n",
    "        return (\"mse\", mean_squared_error(preds, labels))\n",
    "\n",
    "    xg_params = {\"nthread\" : N_JOBS, \n",
    "                 \"eta\" : 0.3, \n",
    "                 \"max_depth\" : int(max_depth), \n",
    "                 \"min_child_weight\" : int(min_child_weight), \n",
    "                 \"subsample\" : subsample, \n",
    "                 \"colsample_bytree\" : colsample_bytree, \n",
    "                 \"colsample_bylevel\" : colsample_bylevel}    \n",
    "    \n",
    "    xg_trainVal = xgb.DMatrix(X_trainVal, label = y_trainVal)\n",
    "    xg_testVal = xgb.DMatrix(X_testVal, label = y_testVal)\n",
    "    xg_train = xgb.DMatrix(X_train, label = y_train)\n",
    "    \n",
    "    watchlist = [(xg_trainVal, \"train\"), (xg_testVal, \"eval\")]    \n",
    "    \n",
    "    # Fit model using validation set\n",
    "    xg = xgb.train(\n",
    "        params = xg_params,\n",
    "        dtrain = xg_trainVal,\n",
    "        evals = watchlist, \n",
    "        num_boost_round = 100000,\n",
    "        early_stopping_rounds = 50,\n",
    "        feval = xgb_mse, \n",
    "        maximize = False,\n",
    "        verbose_eval = False)\n",
    "    \n",
    "    # Now fit on whole training set\n",
    "    xg2 = xgb.train(\n",
    "        params = xg_params, \n",
    "        dtrain = xg_train, \n",
    "        num_boost_round = int(xg.best_ntree_limit / 0.67),\n",
    "        feval = xgb_mse, \n",
    "        maximize = False,\n",
    "        verbose_eval = False)\n",
    "    \n",
    "    # Make predictions\n",
    "    xg_test = xgb.DMatrix(X_test)\n",
    "    preds = xg2.predict(xg_test) \n",
    "\n",
    "    # Compute error\n",
    "    rmse = np.sqrt(mean_squared_error(y_test, preds))\n",
    "\n",
    "    return((-1) * rmse)\n"
   ]
  },
  {
   "cell_type": "code",
   "execution_count": 3,
   "metadata": {
    "collapsed": false
   },
   "outputs": [],
   "source": [
    "# Init Bayesian Optimization\n",
    "et_max_features_min = 0.4\n",
    "et_max_features_max = 1.0\n",
    "et_max_depth_min = 3\n",
    "et_max_depth_max = 6\n",
    "et_min_samples_split_min = 2\n",
    "et_min_samples_split_max = 20\n",
    "et_min_samples_leaf_min = 2\n",
    "et_min_samples_leaf_max = 20\n",
    "\n",
    "xgb_max_depth_min = 5\n",
    "xgb_max_depth_max = 12\n",
    "xgb_min_child_weight_min = 10\n",
    "xgb_min_child_weight_max = 25\n",
    "xgb_subsample_min = 0.4\n",
    "xgb_subsample_max = 0.9\n",
    "xgb_colsample_bytree_min = 0.4\n",
    "xgb_colsample_bytree_max = 1.0\n",
    "xgb_colsample_bylevel_min = 0.3\n",
    "xgb_colsample_bylevel_max = 1.0\n",
    "\n",
    "\n",
    "def initBO() :\n",
    "    if (MODEL == \"et\") :\n",
    "        # Define the features to explore\n",
    "        bo = BayesianOptimization(run_et, {\n",
    "            \"max_features\" : (et_max_features_min, et_max_features_max), \n",
    "            \"max_depth\" : (et_max_depth_min, et_max_depth_max),\n",
    "            \"min_samples_split\" : (et_min_samples_split_min, et_min_samples_split_max),\n",
    "            \"min_samples_leaf\" : (et_min_samples_leaf_min, et_min_samples_leaf_max),\n",
    "        })\n",
    "        \n",
    "        # Define the initial exploration : 10 points approximately covering the range of each parameter\n",
    "        bo.explore({\n",
    "            \"max_features\" : [0.6, 0.5, 0.4, 0.9, 0.7, 0.5, 0.6, 0.8, 1.0, 0.7],\n",
    "            \"max_depth\" : [6, 3, 4, 5, 3, 6, 4, 5, 3, 6], \n",
    "            \"min_samples_split\" : [5, 15, 20, 10, 20, 5, 15, 2, 10, 20],\n",
    "            \"min_samples_leaf\" : [5, 10, 20, 15, 10, 20, 10, 15, 2, 10]\n",
    "        })\n",
    "    elif (MODEL == \"xg\") :\n",
    "        # Define the features to explore\n",
    "        bo = BayesianOptimization(run_xgb, {\n",
    "            \"max_depth\" : (xgb_max_depth_min, xgb_max_depth_max), \n",
    "            \"min_child_weight\" : (xgb_min_child_weight_min, xgb_min_child_weight_max),\n",
    "            \"subsample\" : (xgb_subsample_min, xgb_subsample_max),\n",
    "            \"colsample_bytree\" : (xgb_colsample_bytree_min, xgb_colsample_bytree_max),\n",
    "            \"colsample_bylevel\" : (xgb_colsample_bylevel_min, xgb_colsample_bylevel_max), \n",
    "        })\n",
    "        \n",
    "        # Define the initial exploration : 10 points approximately covering the range of each parameter\n",
    "        bo.explore({\n",
    "            \"max_depth\" : [8, 6, 7, 12, 6, 5, 7, 8, 10, 9],\n",
    "            \"min_child_weight\" : [14, 10, 25, 18, 10, 15, 25, 12, 17, 22],\n",
    "            \"subsample\" : [0.6, 0.9, 0.7, 0.5, 0.6, 0.4, 0.7, 0.9, 0.5, 0.8],\n",
    "            \"colsample_bytree\" : [0.4, 0.7, 1.0, 0.6, 0.9, 0.5, 0.8, 0.6, 0.8, 0.9], \n",
    "            \"colsample_bylevel\" :  [0.8, 0.6, 0.7, 1.0, 0.3, 0.9, 1.0, 0.5, 0.7, 0.4],\n",
    "            })\n",
    "    \n",
    "    return(bo)\n"
   ]
  },
  {
   "cell_type": "code",
   "execution_count": 4,
   "metadata": {
    "collapsed": true
   },
   "outputs": [],
   "source": [
    "# Plot results of optimization\n",
    "def graphBO(history_df, param1, param2, param1min, param1max, param2min, param2max, ratio) :\n",
    "    x, y, z = history_df[param1].values, history_df[param2].values, history_df[\"RMSE\"].values\n",
    "\n",
    "    # Set up a regular grid of interpolation points\n",
    "    xi, yi = np.linspace(param1min, param1max, 100), np.linspace(param2min, param2max, 100)\n",
    "    xi, yi = np.meshgrid(xi, yi)\n",
    "\n",
    "    # Interpolate\n",
    "    rbf = scipy.interpolate.Rbf(x, y, z, function = \"multiquadric\", smooth = 0.5)\n",
    "    zi = rbf(xi, yi)\n",
    "\n",
    "    plt.figure()\n",
    "    plt.imshow(zi, \n",
    "               cmap = \"plasma\", \n",
    "               aspect = ratio,\n",
    "               vmin = z.min(), \n",
    "               vmax = z.max(), \n",
    "               origin = \"lower\",\n",
    "               extent = [param1min, param1max, param2min, param2max])\n",
    "    q = plt.scatter(x, y, c = z, cmap = \"plasma\")\n",
    "    plt.colorbar(q)\n",
    "    plt.xlabel(param1)\n",
    "    plt.ylabel(param2)\n",
    "    #plt.savefig(\"figures/XGB_\" + param1 + \"_\" + param2 + \".png\")\n",
    "    plt.show(block = False)"
   ]
  },
  {
   "cell_type": "markdown",
   "metadata": {},
   "source": [
    "<b>Script</b>"
   ]
  },
  {
   "cell_type": "code",
   "execution_count": 5,
   "metadata": {
    "collapsed": false
   },
   "outputs": [
    {
     "name": "stdout",
     "output_type": "stream",
     "text": [
      "(8723, 159)\n",
      "(8781, 159)\n",
      "(8722, 159)\n",
      "(8732, 159)\n",
      "(8789, 159)\n",
      "(8790, 159)\n",
      "(8789, 159)\n",
      "(8731, 159)\n",
      "(8787, 159)\n"
     ]
    }
   ],
   "source": [
    "# Load data\n",
    "dfs = []\n",
    "i = 0\n",
    "for name in os.listdir(\"../../../data/temp_data/RDE\") :\n",
    "    df = pd.read_csv(\"../../../data/temp_data/RDE/df\" + str(i) + \".csv\")\n",
    "    print(df.shape)\n",
    "    dfs.append(df)\n",
    "    i += 1\n"
   ]
  },
  {
   "cell_type": "code",
   "execution_count": null,
   "metadata": {
    "collapsed": false
   },
   "outputs": [
    {
     "name": "stdout",
     "output_type": "stream",
     "text": [
      "(26226, 159)\n",
      "(26226,)\n",
      "(8789, 159)\n",
      "(8789,)\n",
      "(17504, 159)\n",
      "(17504,)\n",
      "(8722, 159)\n",
      "(8722,)\n"
     ]
    }
   ],
   "source": [
    "# Define train and test sets for BO process\n",
    "X_train = pd.concat([dfs[0], dfs[1], dfs[2]], axis = 0)\n",
    "y_train = X_train[\"target25\"]\n",
    "print(X_train.shape)\n",
    "print(y_train.shape)\n",
    "\n",
    "X_test = dfs[4]\n",
    "y_test = X_test[\"target25\"]\n",
    "print(X_test.shape)\n",
    "print(y_test.shape)\n",
    "\n",
    "# Create validation set needed for some models\n",
    "if (MODEL != \"et\") :\n",
    "    X_trainVal = pd.concat([dfs[0], dfs[1]], axis = 0)\n",
    "    y_trainVal = X_trainVal[\"target25\"]\n",
    "    print(X_trainVal.shape)\n",
    "    print(y_trainVal.shape)\n",
    "\n",
    "    X_testVal = dfs[2]\n",
    "    y_testVal = X_testVal[\"target25\"]\n",
    "    print(X_testVal.shape)\n",
    "    print(y_testVal.shape)\n",
    "\n",
    "cols = [c for c in X_train.columns if c[:6] == \"target\"]\n",
    "X_train.drop(cols, axis = 1, inplace = True)\n",
    "#X_trainVal.drop(cols, axis = 1, inplace = True)\n",
    "X_test.drop(cols, axis = 1, inplace = True)\n",
    "#X_testVal.drop(cols, axis = 1, inplace = True)\n"
   ]
  },
  {
   "cell_type": "code",
   "execution_count": null,
   "metadata": {
    "collapsed": false,
    "scrolled": true
   },
   "outputs": [
    {
     "name": "stdout",
     "output_type": "stream",
     "text": [
      "\u001b[31mInitialization\u001b[0m\n",
      "\u001b[94m-------------------------------------------------------------------------------------------------------------------------\u001b[0m\n",
      " Step |   Time |      Value |   colsample_bylevel |   colsample_bytree |   max_depth |   min_child_weight |   subsample | \n",
      "    1 | 06m27s | \u001b[35m-370.78274\u001b[0m | \u001b[32m             0.8000\u001b[0m | \u001b[32m            0.4000\u001b[0m | \u001b[32m     8.0000\u001b[0m | \u001b[32m           14.0000\u001b[0m | \u001b[32m     0.6000\u001b[0m | \n",
      "    2 | 00m05s | \u001b[35m-339.65701\u001b[0m | \u001b[32m             0.6000\u001b[0m | \u001b[32m            0.7000\u001b[0m | \u001b[32m     6.0000\u001b[0m | \u001b[32m           10.0000\u001b[0m | \u001b[32m     0.9000\u001b[0m | \n",
      "    3 | 00m01s | \u001b[35m-318.83507\u001b[0m | \u001b[32m             0.7000\u001b[0m | \u001b[32m            1.0000\u001b[0m | \u001b[32m     7.0000\u001b[0m | \u001b[32m           25.0000\u001b[0m | \u001b[32m     0.7000\u001b[0m | \n",
      "    4 | 00m11s | -375.76114 |              1.0000 |             0.6000 |     12.0000 |            18.0000 |      0.5000 | \n",
      "    5 | 00m05s | -390.10962 |              0.3000 |             0.9000 |      6.0000 |            10.0000 |      0.6000 | \n",
      "    6 | 00m04s | -416.40764 |              0.9000 |             0.5000 |      5.0000 |            15.0000 |      0.4000 | \n",
      "    7 | 00m01s | -385.27510 |              1.0000 |             0.8000 |      7.0000 |            25.0000 |      0.7000 | \n",
      "    8 | 00m14s | -399.69240 |              0.5000 |             0.6000 |      8.0000 |            12.0000 |      0.9000 | \n",
      "    9 | 00m12s | \u001b[35m-317.74212\u001b[0m | \u001b[32m             0.7000\u001b[0m | \u001b[32m            0.8000\u001b[0m | \u001b[32m    10.0000\u001b[0m | \u001b[32m           17.0000\u001b[0m | \u001b[32m     0.5000\u001b[0m | \n",
      "   10 | 01m23s | -372.21319 |              0.4000 |             0.9000 |      9.0000 |            22.0000 |      0.8000 | \n",
      "   11 | 00m56s | -379.07756 |              0.9582 |             0.4473 |      5.7051 |            15.2145 |      0.4936 | \n",
      "   12 | 00m44s | -475.90949 |              0.3069 |             0.8954 |      6.5778 |            19.6950 |      0.6268 | \n",
      "   13 | 00m15s | -376.99369 |              0.5461 |             0.6917 |     11.6994 |            24.2997 |      0.8101 | \n",
      "   14 | 02m20s | -374.26725 |              0.6298 |             0.4958 |      9.8150 |            12.4406 |      0.7772 | \n",
      "   15 | 00m11s | -331.65863 |              0.9041 |             0.8945 |     10.0098 |            22.8335 |      0.6975 | \n",
      "   16 | 00m37s | -381.99028 |              0.9225 |             0.7168 |     10.0385 |            11.7048 |      0.5194 | \n",
      "   17 | 00m09s | -320.97498 |              0.8605 |             0.5584 |      8.9124 |            11.9874 |      0.6143 | \n",
      "   18 | 00m02s | -384.72722 |              0.7793 |             0.9747 |     11.6531 |            10.9493 |      0.6846 | \n",
      "   19 | 02m25s | \u001b[35m-279.75251\u001b[0m | \u001b[32m             0.3462\u001b[0m | \u001b[32m            0.4519\u001b[0m | \u001b[32m     8.0945\u001b[0m | \u001b[32m           15.2786\u001b[0m | \u001b[32m     0.8710\u001b[0m | \n",
      "   20 | 00m06s | -353.68966 |              0.9091 |             0.8419 |      8.9134 |            16.3898 |      0.5324 | \n",
      "\u001b[31mBayesian Optimization\u001b[0m\n",
      "\u001b[94m-------------------------------------------------------------------------------------------------------------------------\u001b[0m\n",
      " Step |   Time |      Value |   colsample_bylevel |   colsample_bytree |   max_depth |   min_child_weight |   subsample | \n",
      "   21 | 00m12s | -400.12304 |              0.3000 |             1.0000 |      5.0000 |            25.0000 |      0.4000 | \n",
      "   22 | 00m36s | -397.25288 |              0.3000 |             1.0000 |      7.8377 |            25.0000 |      0.9000 | \n",
      "   23 | 00m18s | -427.98494 |              1.0000 |             0.4000 |      5.0000 |            10.0000 |      0.9000 | \n",
      "   24 | 00m08s | -372.33429 |              1.0000 |             0.4000 |      8.3945 |            10.0000 |      0.9000 | \n",
      "   25 | 00m09s | -373.55010 |              0.3000 |             0.4000 |     12.0000 |            15.0335 |      0.9000 | \n",
      "   26 | 00m05s | -417.76420 |              1.0000 |             1.0000 |     12.0000 |            21.4117 |      0.4000 | \n",
      "   27 | 00m08s | -365.70079 |              0.3000 |             0.4000 |      7.9936 |            15.4821 |      0.9000 | \n",
      "   28 | 00m06s | -379.25089 |              0.3000 |             0.8984 |      8.6244 |            14.8847 |      0.9000 | \n",
      "   29 | 00m09s | -417.68552 |              1.0000 |             0.4000 |      5.0000 |            21.8213 |      0.9000 | \n",
      "   30 | 00m07s | -428.70732 |              0.4997 |             0.4000 |      8.1422 |            15.0273 |      0.7754 | \n",
      "   31 | 00m04s | -381.28694 |              1.0000 |             1.0000 |      5.0000 |            17.7444 |      0.9000 | \n",
      "   32 | 00m09s | -389.92845 |              0.3000 |             1.0000 |      5.0000 |            12.7150 |      0.9000 | \n",
      "   33 | 00m14s | -391.17606 |              0.3000 |             0.4000 |      9.6633 |            19.3145 |      0.9000 | \n",
      "   34 | 00m06s | -381.23760 |              0.3000 |             0.4000 |     12.0000 |            10.0000 |      0.4000 | \n",
      "   35 | 00m05s | -401.53121 |              1.0000 |             1.0000 |     12.0000 |            13.1801 |      0.4000 | \n",
      "   36 | 00m11s | -361.67522 |              1.0000 |             0.4000 |     10.1012 |            25.0000 |      0.4000 | \n",
      "   37 | 00m13s | -385.76201 |              0.3000 |             0.6428 |      8.1522 |            15.2717 |      0.9000 | \n",
      "   38 | 00m07s | -419.38752 |              0.3000 |             1.0000 |      6.8947 |            22.7546 |      0.4000 | \n",
      "   39 | 00m09s | -368.36654 |              0.3000 |             1.0000 |     12.0000 |            19.6028 |      0.9000 | \n",
      "   40 | 00m06s | -365.69694 |              1.0000 |             1.0000 |     12.0000 |            25.0000 |      0.4000 | \n",
      "   41 | 00m09s | -391.04173 |              0.3000 |             1.0000 |      9.7855 |            10.0000 |      0.4000 | \n",
      "   42 | 00m07s | -402.89720 |              0.3000 |             1.0000 |     12.0000 |            16.5025 |      0.4000 | \n",
      "   43 | 00m07s | -436.33196 |              0.3000 |             0.4000 |      9.8829 |            14.8700 |      0.9000 | \n",
      "   44 | 00m06s | -364.14206 |              1.0000 |             1.0000 |      8.4748 |            18.1420 |      0.4000 | \n",
      "   45 | 00m14s | -410.88228 |              0.3000 |             0.4000 |     12.0000 |            22.8630 |      0.9000 | \n",
      "   46 | 00m07s | -405.73313 |              1.0000 |             0.4000 |      5.0000 |            19.5446 |      0.4000 | \n",
      "   47 | 00m10s | -413.41913 |              1.0000 |             0.4000 |      6.7582 |            10.0000 |      0.9000 | \n",
      "   48 | 00m07s | -404.03923 |              0.3000 |             0.4000 |      5.0000 |            16.7622 |      0.4000 | \n",
      "   49 | 00m07s | -354.96848 |              1.0000 |             0.4000 |      6.9586 |            13.1654 |      0.4000 | \n",
      "   50 | 00m06s | -433.74808 |              0.3000 |             1.0000 |      6.7571 |            25.0000 |      0.4000 | \n",
      "   51 | 00m20s | -412.90362 |              0.3000 |             0.4000 |     12.0000 |            25.0000 |      0.9000 | \n",
      "   52 | 00m09s | -359.38740 |              1.0000 |             0.4000 |      8.6855 |            20.7683 |      0.4000 | \n",
      "   53 | 00m08s | -434.10567 |              1.0000 |             0.4000 |      5.0000 |            25.0000 |      0.9000 | \n",
      "   54 | 00m19s | -385.80881 |              0.3000 |             0.4000 |      8.1293 |            15.2577 |      0.9000 | \n",
      "   55 | 00m06s | -375.86234 |              1.0000 |             0.8638 |      7.6286 |            15.4994 |      0.4000 | \n"
     ]
    }
   ],
   "source": [
    "# Run optimization\n",
    "start = time.time()\n",
    "bo = initBO()\n",
    "bo.maximize(init_points = 10, n_iter = 110, xi = 0.05)\n",
    "print(\"BayesianOptimization took %.2f seconds\" % ((time.time() - start)))"
   ]
  },
  {
   "cell_type": "code",
   "execution_count": null,
   "metadata": {
    "collapsed": false
   },
   "outputs": [],
   "source": [
    "# Store and look at results\n",
    "history_df = pd.DataFrame(bo.res[\"all\"][\"params\"])\n",
    "history_df2 = pd.DataFrame(bo.res[\"all\"][\"values\"])\n",
    "history_df = pd.concat((history_df, history_df2), axis = 1)\n",
    "history_df.rename(columns = { 0 : \"RMSE\"}, inplace = True)\n",
    "history_df.index.names = [\"Iteration\"]\n",
    "history_df.sort_values([\"RMSE\"], ascending = False, inplace = True)\n",
    "#history_df.to_csv(\"../../data/temp_results/bo.csv\")\n",
    "display(history_df.head(10))\n"
   ]
  },
  {
   "cell_type": "code",
   "execution_count": null,
   "metadata": {
    "collapsed": false,
    "scrolled": false
   },
   "outputs": [],
   "source": [
    "if (MODEL == \"et\") :\n",
    "    graphBO(history_df, \"max_features\", \"max_depth\", et_max_features_min, et_max_features_max, et_max_depth_min, et_max_depth_max, 0.1)\n",
    "    graphBO(history_df, \"max_features\", \"min_samples_split\", et_max_features_min, et_max_features_max, et_min_samples_split_min, et_min_samples_split_max, 0.02)\n",
    "    graphBO(history_df, \"max_features\", \"min_samples_leaf\", et_max_features_min, et_max_features_max, et_min_samples_leaf_min, et_min_samples_leaf_max, 0.02)\n",
    "    graphBO(history_df, \"max_depth\", \"min_samples_split\", et_max_depth_min, et_max_depth_max, et_min_samples_split_min, et_min_samples_split_max, 0.15)\n",
    "    graphBO(history_df, \"max_depth\", \"min_samples_leaf\", et_max_depth_min, et_max_depth_max, et_min_samples_leaf_min, et_min_samples_leaf_max, 0.15)\n",
    "    graphBO(history_df, \"min_samples_split\", \"min_samples_leaf\", et_min_samples_split_min, et_min_samples_split_max, et_min_samples_leaf_min, et_min_samples_leaf_max, 0.75)\n",
    "elif (MODEL == \"xg\") :\n",
    "    graphBO(history_df, \"max_depth\", \"min_child_weight\", xgb_max_depth_min, xgb_max_depth_max, xgb_min_child_weight_min, xgb_min_child_weight_max, 0.35)\n",
    "    graphBO(history_df, \"max_depth\", \"subsample\", xgb_max_depth_min, xgb_max_depth_max, xgb_subsample_min, xgb_subsample_max, 10)\n",
    "    graphBO(history_df, \"max_depth\", \"colsample_bytree\", xgb_max_depth_min, xgb_max_depth_max, xgb_colsample_bytree_min, xgb_colsample_bytree_max, 8)\n",
    "    graphBO(history_df, \"max_depth\", \"colsample_bylevel\", xgb_max_depth_min, xgb_max_depth_max, xgb_colsample_bylevel_min, xgb_colsample_bylevel_max, 8)\n",
    "    graphBO(history_df, \"min_child_weight\", \"subsample\", xgb_min_child_weight_min, xgb_min_child_weight_max, xgb_subsample_min, xgb_subsample_max, 20)\n",
    "    graphBO(history_df, \"min_child_weight\", \"colsample_bytree\", xgb_min_child_weight_min, xgb_min_child_weight_max, xgb_colsample_bytree_min, xgb_colsample_bytree_max, 18)\n",
    "    graphBO(history_df, \"min_child_weight\", \"colsample_bylevel\", xgb_min_child_weight_min, xgb_min_child_weight_max, xgb_colsample_bylevel_min, xgb_colsample_bylevel_max, 18)\n",
    "    graphBO(history_df, \"subsample\", \"colsample_bytree\", xgb_subsample_min, xgb_subsample_max, xgb_colsample_bytree_min, xgb_colsample_bytree_max, 0.8)\n",
    "    graphBO(history_df, \"subsample\", \"colsample_bylevel\", xgb_subsample_min, xgb_subsample_max, xgb_colsample_bylevel_min, xgb_colsample_bylevel_max, 0.8)\n",
    "    graphBO(history_df, \"colsample_bytree\", \"colsample_bylevel\", xgb_colsample_bytree_min, xgb_colsample_bytree_max, xgb_colsample_bylevel_min, xgb_colsample_bylevel_max, 1)\n",
    "else :\n",
    "    graphBO(history_df, \"max_depth\", \"num_leaves\", max_depth_min, max_depth_max, num_leaves_min, num_leaves_max, 0.2)\n",
    "    graphBO(history_df, \"max_depth\", \"min_data_in_leaf\", max_depth_min, max_depth_max, min_data_in_leaf_min, min_data_in_leaf_max, 0.2)\n",
    "    graphBO(history_df, \"max_depth\", \"feature_fraction\", max_depth_min, max_depth_max, feature_fraction_min, feature_fraction_max, 8)\n",
    "    graphBO(history_df, \"max_depth\", \"bagging_fraction\", max_depth_min, max_depth_max, bagging_fraction_min, bagging_fraction_max, 8)\n",
    "    graphBO(history_df, \"max_depth\", \"bagging_freq\", max_depth_min, max_depth_max, bagging_freq_min, bagging_freq_max, 0.1)\n",
    "    graphBO(history_df, \"num_leaves\", \"min_data_in_leaf\", num_leaves_min, num_leaves_max, min_data_in_leaf_min, min_data_in_leaf_max, 1)\n",
    "    graphBO(history_df, \"num_leaves\", \"feature_fraction\", num_leaves_min, num_leaves_max, feature_fraction_min, feature_fraction_max, 25)\n",
    "    graphBO(history_df, \"num_leaves\", \"bagging_fraction\", num_leaves_min, num_leaves_max, bagging_fraction_min, bagging_fraction_max, 25)\n",
    "    graphBO(history_df, \"num_leaves\", \"bagging_freq\", num_leaves_min, num_leaves_max, bagging_freq_min, bagging_freq_max, 0.4)\n",
    "    graphBO(history_df, \"min_data_in_leaf\", \"feature_fraction\", min_data_in_leaf_min, min_data_in_leaf_max, feature_fraction_min, feature_fraction_max, 25)\n",
    "    graphBO(history_df, \"min_data_in_leaf\", \"bagging_fraction\", min_data_in_leaf_min, min_data_in_leaf_max, bagging_fraction_min, bagging_fraction_max, 25)\n",
    "    graphBO(history_df, \"min_data_in_leaf\", \"bagging_freq\", min_data_in_leaf_min, min_data_in_leaf_max, bagging_freq_min, bagging_freq_max, 0.5)\n",
    "    graphBO(history_df, \"feature_fraction\", \"bagging_fraction\", feature_fraction_min, feature_fraction_max, bagging_fraction_min, bagging_fraction_max, 1)\n",
    "    graphBO(history_df, \"feature_fraction\", \"bagging_freq\", feature_fraction_min, feature_fraction_max, bagging_freq_min, bagging_freq_max, 0.01)\n",
    "    graphBO(history_df, \"bagging_fraction\", \"bagging_freq\", bagging_fraction_min, bagging_fraction_max, bagging_freq_min, bagging_freq_max, 0.01)\n"
   ]
  },
  {
   "cell_type": "code",
   "execution_count": null,
   "metadata": {
    "collapsed": true
   },
   "outputs": [],
   "source": []
  },
  {
   "cell_type": "code",
   "execution_count": null,
   "metadata": {
    "collapsed": true
   },
   "outputs": [],
   "source": []
  }
 ],
 "metadata": {
  "kernelspec": {
   "display_name": "Python 3",
   "language": "python",
   "name": "python3"
  },
  "language_info": {
   "codemirror_mode": {
    "name": "ipython",
    "version": 3
   },
   "file_extension": ".py",
   "mimetype": "text/x-python",
   "name": "python",
   "nbconvert_exporter": "python",
   "pygments_lexer": "ipython3",
   "version": "3.5.2"
  }
 },
 "nbformat": 4,
 "nbformat_minor": 2
}
