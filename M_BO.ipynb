{
 "cells": [
  {
   "cell_type": "code",
   "execution_count": null,
   "metadata": {
    "collapsed": false
   },
   "outputs": [],
   "source": [
    "# Imports\n",
    "import pandas as pd\n",
    "import numpy as np\n",
    "from IPython.display import display\n",
    "import matplotlib.pyplot as plt\n",
    "import seaborn as sns\n",
    "import warnings\n",
    "from sklearn.model_selection import KFold\n",
    "from sklearn.linear_model import LassoCV\n",
    "from sklearn.ensemble import ExtraTreesRegressor\n",
    "from sklearn.metrics import r2_score\n",
    "from bayes_opt import BayesianOptimization\n",
    "import scipy.interpolate\n",
    "from time import time\n",
    "import xgboost as xgb\n",
    "\n",
    "# Definitions\n",
    "pd.set_option('display.float_format', lambda x: '%.3f' % x)\n",
    "%matplotlib inline\n",
    "warnings.simplefilter('ignore')\n",
    "N_JOBS = -1\n",
    "SEED = 2017"
   ]
  },
  {
   "cell_type": "code",
   "execution_count": null,
   "metadata": {
    "collapsed": true
   },
   "outputs": [],
   "source": []
  },
  {
   "cell_type": "code",
   "execution_count": null,
   "metadata": {
    "collapsed": true
   },
   "outputs": [],
   "source": [
    "def runBO(model) :\n",
    "    start = time()\n",
    "    if (model == \"et\") :\n",
    "        # TODO : check if more parameters available for testing?\n",
    "        max_features_min = 0.3\n",
    "        max_features_max = 1.0\n",
    "        max_depth_min = 2\n",
    "        max_depth_max = 10\n",
    "        min_samples_split_min = 2\n",
    "        min_samples_split_max = 10\n",
    "        min_samples_leaf_min = 2\n",
    "        min_samples_leaf_max = 10\n",
    "\n",
    "        xgbBO = BayesianOptimization(run_all, {\n",
    "                                        \"max_features\" : (max_features_min, max_features_max), \n",
    "                                        \"max_depth\" : (max_depth_min, max_depth_max),\n",
    "                                        \"min_samples_split\" : (min_samples_split_min, min_samples_split_max),\n",
    "                                        \"min_samples_leaf\" : (min_samples_leaf_min, min_samples_leaf_max),\n",
    "        })"
   ]
  },
  {
   "cell_type": "markdown",
   "metadata": {},
   "source": [
    "<b>Script</b>"
   ]
  },
  {
   "cell_type": "code",
   "execution_count": null,
   "metadata": {
    "collapsed": false
   },
   "outputs": [],
   "source": [
    "# Get data\n",
    "train = pd.read_csv(\"clean_data/train.csv\")\n",
    "y = pd.read_csv(\"clean_data/y.csv\")\n",
    "test = pd.read_csv(\"clean_data/test.csv\")\n",
    "test_ids = pd.read_csv(\"clean_data/test_ids.csv\", header = None)\n",
    "\n",
    "display(train.shape)\n",
    "display(train.head(2))\n",
    "display(y.shape)\n",
    "display(y.head(2))\n",
    "display(test.shape)\n",
    "display(test.head(2))\n",
    "display(test_ids.shape)\n",
    "display(test_ids.head(2))\n"
   ]
  }
 ],
 "metadata": {
  "kernelspec": {
   "display_name": "Python [Root]",
   "language": "python",
   "name": "Python [Root]"
  },
  "language_info": {
   "codemirror_mode": {
    "name": "ipython",
    "version": 3
   },
   "file_extension": ".py",
   "mimetype": "text/x-python",
   "name": "python",
   "nbconvert_exporter": "python",
   "pygments_lexer": "ipython3",
   "version": "3.5.2"
  }
 },
 "nbformat": 4,
 "nbformat_minor": 0
}
