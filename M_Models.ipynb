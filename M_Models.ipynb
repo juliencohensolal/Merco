{
 "cells": [
  {
   "cell_type": "code",
   "execution_count": 1,
   "metadata": {
    "collapsed": false,
    "deletable": true,
    "editable": true
   },
   "outputs": [],
   "source": [
    "# Imports\n",
    "import pandas as pd\n",
    "import numpy as np\n",
    "from IPython.display import display\n",
    "import matplotlib.pyplot as plt\n",
    "import seaborn as sns\n",
    "import warnings\n",
    "from sklearn.model_selection import KFold\n",
    "from sklearn.linear_model import LassoCV\n",
    "from sklearn.ensemble import ExtraTreesRegressor\n",
    "from sklearn.metrics import r2_score\n",
    "\n",
    "# Definitions\n",
    "pd.set_option('display.float_format', lambda x: '%.3f' % x)\n",
    "%matplotlib inline\n",
    "warnings.simplefilter('ignore')\n",
    "N_JOBS = -1\n",
    "SEED = 2017\n",
    "FOLDS = 5\n",
    "SHIFT = 5"
   ]
  },
  {
   "cell_type": "code",
   "execution_count": 2,
   "metadata": {
    "collapsed": false,
    "deletable": true,
    "editable": true
   },
   "outputs": [
    {
     "data": {
      "text/plain": [
       "(4209, 367)"
      ]
     },
     "metadata": {},
     "output_type": "display_data"
    },
    {
     "data": {
      "text/html": [
       "<div>\n",
       "<table border=\"1\" class=\"dataframe\">\n",
       "  <thead>\n",
       "    <tr style=\"text-align: right;\">\n",
       "      <th></th>\n",
       "      <th>ID</th>\n",
       "      <th>X0</th>\n",
       "      <th>X1</th>\n",
       "      <th>X2</th>\n",
       "      <th>X3</th>\n",
       "      <th>X4</th>\n",
       "      <th>X5</th>\n",
       "      <th>X6</th>\n",
       "      <th>X8</th>\n",
       "      <th>X10</th>\n",
       "      <th>...</th>\n",
       "      <th>srp_3</th>\n",
       "      <th>srp_4</th>\n",
       "      <th>srp_5</th>\n",
       "      <th>srp_6</th>\n",
       "      <th>srp_7</th>\n",
       "      <th>srp_8</th>\n",
       "      <th>srp_9</th>\n",
       "      <th>srp_10</th>\n",
       "      <th>srp_11</th>\n",
       "      <th>srp_12</th>\n",
       "    </tr>\n",
       "  </thead>\n",
       "  <tbody>\n",
       "    <tr>\n",
       "      <th>0</th>\n",
       "      <td>0</td>\n",
       "      <td>10</td>\n",
       "      <td>21</td>\n",
       "      <td>44</td>\n",
       "      <td>0</td>\n",
       "      <td>3</td>\n",
       "      <td>20</td>\n",
       "      <td>9</td>\n",
       "      <td>14</td>\n",
       "      <td>0</td>\n",
       "      <td>...</td>\n",
       "      <td>126.974</td>\n",
       "      <td>-13.625</td>\n",
       "      <td>1.239</td>\n",
       "      <td>17.342</td>\n",
       "      <td>104.678</td>\n",
       "      <td>-3.716</td>\n",
       "      <td>-2.477</td>\n",
       "      <td>0.000</td>\n",
       "      <td>28.490</td>\n",
       "      <td>1.239</td>\n",
       "    </tr>\n",
       "    <tr>\n",
       "      <th>1</th>\n",
       "      <td>5761</td>\n",
       "      <td>14</td>\n",
       "      <td>11</td>\n",
       "      <td>29</td>\n",
       "      <td>5</td>\n",
       "      <td>3</td>\n",
       "      <td>15</td>\n",
       "      <td>9</td>\n",
       "      <td>14</td>\n",
       "      <td>0</td>\n",
       "      <td>...</td>\n",
       "      <td>119.613</td>\n",
       "      <td>-13.625</td>\n",
       "      <td>0.000</td>\n",
       "      <td>17.342</td>\n",
       "      <td>102.271</td>\n",
       "      <td>-2.477</td>\n",
       "      <td>2.477</td>\n",
       "      <td>0.000</td>\n",
       "      <td>13.625</td>\n",
       "      <td>1.239</td>\n",
       "    </tr>\n",
       "  </tbody>\n",
       "</table>\n",
       "<p>2 rows × 367 columns</p>\n",
       "</div>"
      ],
      "text/plain": [
       "     ID  X0  X1  X2  X3  X4  X5  X6  X8  X10   ...     srp_3   srp_4  srp_5  \\\n",
       "0     0  10  21  44   0   3  20   9  14    0   ...   126.974 -13.625  1.239   \n",
       "1  5761  14  11  29   5   3  15   9  14    0   ...   119.613 -13.625  0.000   \n",
       "\n",
       "   srp_6   srp_7  srp_8  srp_9  srp_10  srp_11  srp_12  \n",
       "0 17.342 104.678 -3.716 -2.477   0.000  28.490   1.239  \n",
       "1 17.342 102.271 -2.477  2.477   0.000  13.625   1.239  \n",
       "\n",
       "[2 rows x 367 columns]"
      ]
     },
     "metadata": {},
     "output_type": "display_data"
    },
    {
     "data": {
      "text/plain": [
       "(4209, 1)"
      ]
     },
     "metadata": {},
     "output_type": "display_data"
    },
    {
     "data": {
      "text/html": [
       "<div>\n",
       "<table border=\"1\" class=\"dataframe\">\n",
       "  <thead>\n",
       "    <tr style=\"text-align: right;\">\n",
       "      <th></th>\n",
       "      <th>y</th>\n",
       "    </tr>\n",
       "  </thead>\n",
       "  <tbody>\n",
       "    <tr>\n",
       "      <th>0</th>\n",
       "      <td>130.810</td>\n",
       "    </tr>\n",
       "    <tr>\n",
       "      <th>1</th>\n",
       "      <td>115.070</td>\n",
       "    </tr>\n",
       "  </tbody>\n",
       "</table>\n",
       "</div>"
      ],
      "text/plain": [
       "        y\n",
       "0 130.810\n",
       "1 115.070"
      ]
     },
     "metadata": {},
     "output_type": "display_data"
    },
    {
     "data": {
      "text/plain": [
       "(4209, 367)"
      ]
     },
     "metadata": {},
     "output_type": "display_data"
    },
    {
     "data": {
      "text/html": [
       "<div>\n",
       "<table border=\"1\" class=\"dataframe\">\n",
       "  <thead>\n",
       "    <tr style=\"text-align: right;\">\n",
       "      <th></th>\n",
       "      <th>ID</th>\n",
       "      <th>X0</th>\n",
       "      <th>X1</th>\n",
       "      <th>X2</th>\n",
       "      <th>X3</th>\n",
       "      <th>X4</th>\n",
       "      <th>X5</th>\n",
       "      <th>X6</th>\n",
       "      <th>X8</th>\n",
       "      <th>X10</th>\n",
       "      <th>...</th>\n",
       "      <th>srp_3</th>\n",
       "      <th>srp_4</th>\n",
       "      <th>srp_5</th>\n",
       "      <th>srp_6</th>\n",
       "      <th>srp_7</th>\n",
       "      <th>srp_8</th>\n",
       "      <th>srp_9</th>\n",
       "      <th>srp_10</th>\n",
       "      <th>srp_11</th>\n",
       "      <th>srp_12</th>\n",
       "    </tr>\n",
       "  </thead>\n",
       "  <tbody>\n",
       "    <tr>\n",
       "      <th>0</th>\n",
       "      <td>1</td>\n",
       "      <td>50</td>\n",
       "      <td>21</td>\n",
       "      <td>13</td>\n",
       "      <td>5</td>\n",
       "      <td>3</td>\n",
       "      <td>19</td>\n",
       "      <td>0</td>\n",
       "      <td>22</td>\n",
       "      <td>0</td>\n",
       "      <td>...</td>\n",
       "      <td>119.613</td>\n",
       "      <td>0.000</td>\n",
       "      <td>0.000</td>\n",
       "      <td>27.251</td>\n",
       "      <td>96.078</td>\n",
       "      <td>1.239</td>\n",
       "      <td>0.000</td>\n",
       "      <td>-2.477</td>\n",
       "      <td>29.728</td>\n",
       "      <td>2.477</td>\n",
       "    </tr>\n",
       "    <tr>\n",
       "      <th>1</th>\n",
       "      <td>2</td>\n",
       "      <td>19</td>\n",
       "      <td>1</td>\n",
       "      <td>33</td>\n",
       "      <td>0</td>\n",
       "      <td>3</td>\n",
       "      <td>1</td>\n",
       "      <td>6</td>\n",
       "      <td>24</td>\n",
       "      <td>0</td>\n",
       "      <td>...</td>\n",
       "      <td>126.974</td>\n",
       "      <td>-11.148</td>\n",
       "      <td>1.239</td>\n",
       "      <td>30.967</td>\n",
       "      <td>124.497</td>\n",
       "      <td>-2.477</td>\n",
       "      <td>-2.477</td>\n",
       "      <td>1.239</td>\n",
       "      <td>1.239</td>\n",
       "      <td>0.000</td>\n",
       "    </tr>\n",
       "  </tbody>\n",
       "</table>\n",
       "<p>2 rows × 367 columns</p>\n",
       "</div>"
      ],
      "text/plain": [
       "   ID  X0  X1  X2  X3  X4  X5  X6  X8  X10   ...     srp_3   srp_4  srp_5  \\\n",
       "0   1  50  21  13   5   3  19   0  22    0   ...   119.613   0.000  0.000   \n",
       "1   2  19   1  33   0   3   1   6  24    0   ...   126.974 -11.148  1.239   \n",
       "\n",
       "   srp_6   srp_7  srp_8  srp_9  srp_10  srp_11  srp_12  \n",
       "0 27.251  96.078  1.239  0.000  -2.477  29.728   2.477  \n",
       "1 30.967 124.497 -2.477 -2.477   1.239   1.239   0.000  \n",
       "\n",
       "[2 rows x 367 columns]"
      ]
     },
     "metadata": {},
     "output_type": "display_data"
    },
    {
     "data": {
      "text/plain": [
       "(4209, 1)"
      ]
     },
     "metadata": {},
     "output_type": "display_data"
    },
    {
     "data": {
      "text/html": [
       "<div>\n",
       "<table border=\"1\" class=\"dataframe\">\n",
       "  <thead>\n",
       "    <tr style=\"text-align: right;\">\n",
       "      <th></th>\n",
       "      <th>0</th>\n",
       "    </tr>\n",
       "  </thead>\n",
       "  <tbody>\n",
       "    <tr>\n",
       "      <th>0</th>\n",
       "      <td>1</td>\n",
       "    </tr>\n",
       "    <tr>\n",
       "      <th>1</th>\n",
       "      <td>2</td>\n",
       "    </tr>\n",
       "  </tbody>\n",
       "</table>\n",
       "</div>"
      ],
      "text/plain": [
       "   0\n",
       "0  1\n",
       "1  2"
      ]
     },
     "metadata": {},
     "output_type": "display_data"
    }
   ],
   "source": [
    "# Get data\n",
    "train = pd.read_csv(\"clean_data/train.csv\")\n",
    "y = pd.read_csv(\"clean_data/y.csv\")\n",
    "test = pd.read_csv(\"clean_data/test.csv\")\n",
    "test_ids = pd.read_csv(\"clean_data/test_ids.csv\", header = None)\n",
    "\n",
    "display(train.shape)\n",
    "display(train.head(2))\n",
    "display(y.shape)\n",
    "display(y.head(2))\n",
    "display(test.shape)\n",
    "display(test.head(2))\n",
    "display(test_ids.shape)\n",
    "display(test_ids.head(2))\n"
   ]
  },
  {
   "cell_type": "code",
   "execution_count": 3,
   "metadata": {
    "collapsed": false,
    "deletable": true,
    "editable": true
   },
   "outputs": [],
   "source": [
    "# Definitions for ML models\n",
    "\n",
    "def fit_lasso(X_train, y_train, seed = SEED, verbose = False) :\n",
    "    la = LassoCV(\n",
    "        alphas = [0.001, 0.003, 0.006, 0.01, 0.03, 0.06], \n",
    "        n_jobs = N_JOBS, \n",
    "        random_state = seed, \n",
    "        #tol = 0.0005,\n",
    "        max_iter = 50000, \n",
    "        normalize  = True)\n",
    "    la.fit(X_train, y_train)\n",
    "    \n",
    "    alpha = la.alpha_\n",
    "    la = LassoCV(\n",
    "        alphas = [alpha * .7, alpha * .75, alpha * .8, alpha * .85, alpha * .9, \n",
    "                  alpha * .95, alpha, alpha * 1.05, alpha * 1.1, alpha * 1.15, alpha * 1.25, alpha * 1.3], \n",
    "        n_jobs = N_JOBS, \n",
    "        random_state = seed, \n",
    "        #tol = 0.0005,\n",
    "        max_iter = 50000, \n",
    "        normalize  = True)\n",
    "    la.fit(X_train, y_train)\n",
    "    if (verbose) :\n",
    "        print(\"LASSO Best alpha :\", la.alpha_)\n",
    "        print(\"LASSO iter :\", la.n_iter_)\n",
    "\n",
    "    return (la)\n",
    "\n",
    "\n",
    "def fit_extra_trees(X_train, y_train, seed = SEED, verbose = False) :\n",
    "    # TODO : better criterion available?\n",
    "    et = ExtraTreesRegressor(\n",
    "        n_estimators = 100,\n",
    "        criterion = \"mse\", \n",
    "        max_features = 0.9,\n",
    "        max_depth = 5,\n",
    "        min_samples_split = 15,\n",
    "        min_samples_leaf = 2, \n",
    "        #bootstrap = True, \n",
    "        n_jobs = N_JOBS,\n",
    "        random_state = seed)\n",
    "    et.fit(X_train, y_train)                           \n",
    "\n",
    "    return (et)\n"
   ]
  },
  {
   "cell_type": "code",
   "execution_count": 4,
   "metadata": {
    "collapsed": false,
    "deletable": true,
    "editable": true
   },
   "outputs": [],
   "source": [
    "# Fit and predict\n",
    "\n",
    "def fitpredict(model, train, test, y) :\n",
    "    all_cvs = 0\n",
    "    all_preds = np.zeros(test.shape[0])\n",
    "\n",
    "    # Do cross-val\n",
    "    kf = KFold(n_splits = FOLDS, shuffle = True, random_state = SEED)\n",
    "    oof_preds = pd.DataFrame()\n",
    "    oof_targets = pd.DataFrame()\n",
    "    for i, (train_index, test_index) in enumerate(kf.split(train)):\n",
    "        print(\"---------\")\n",
    "        print(\"FOLD \" + str(i + 1))\n",
    "        X_train, X_val = train.iloc[train_index], train.iloc[test_index]\n",
    "        y_train, y_val = y.iloc[train_index], y.iloc[test_index]\n",
    "\n",
    "        # Fit and predict\n",
    "        if(model == \"la\") :\n",
    "            predictor = fit_lasso(X_train, y_train.y, seed = (SEED * i))\n",
    "        elif(model == \"et\") :\n",
    "            predictor = fit_extra_trees(X_train, y_train.y, seed = (SEED * i))\n",
    "        \n",
    "        # Compute score on this fold\n",
    "        preds_val = predictor.predict(X_val)    \n",
    "        fold_score = r2_score(y_val.y, preds_val)\n",
    "        #fold_score = r2_score(np.exp(y_val.y) - SHIFT, np.exp(preds_val) - SHIFT)\n",
    "        print(\"Fold r2_score : \" + str(fold_score))\n",
    "        \n",
    "        # Store OOF predictions\n",
    "        oof_preds = pd.concat([pd.Series(oof_preds), pd.Series(preds_val)], axis = 0)\n",
    "        oof_targets = pd.concat([pd.Series(oof_targets), pd.Series(y_val.y)], axis = 0)\n",
    "        \n",
    "        # Predict on test set having learned just on this X_train\n",
    "        preds_test = predictor.predict(test)\n",
    "        all_preds += preds_test\n",
    "    \n",
    "    # Compte error on OOF predictions\n",
    "    cv_score = r2_score(oof_targets, oof_preds)\n",
    "    #cv_score = r2_score(np.exp(oof_targets) - SHIFT, np.exp(oof_preds) - SHIFT)\n",
    "    print(\"Global OOF r2_score : \" + str(cv_score))\n",
    "    \n",
    "    # METHOD 1\n",
    "    # Compute average of test set predictions\n",
    "    preds_avg = all_preds / FOLDS\n",
    "    \n",
    "    # METHOD 2\n",
    "    # Learn and predict on whole sets\n",
    "    if(model == \"la\") :\n",
    "        predictor = fit_lasso(train, y, seed = (SEED * i))\n",
    "    elif(model == \"et\") :\n",
    "        predictor = fit_extra_trees(train, y, seed = (SEED * i))\n",
    "    preds_simple = predictor.predict(test)\n",
    "    \n",
    "    # Save data from la validation set for blending purposes\n",
    "    X_val.to_csv(\"clean_data/\" + model + \"_X_val.csv\", index = False)\n",
    "    y_val.y.to_csv(\"clean_data/y_val.csv\", index = False)    \n",
    "    pd.Series(preds_val).to_csv(\"clean_data/\" + model + \"_preds_val.csv\", index = False)    \n",
    "        \n",
    "    return(preds_simple, preds_avg, cv_score)\n"
   ]
  },
  {
   "cell_type": "markdown",
   "metadata": {
    "deletable": true,
    "editable": true
   },
   "source": [
    "<b>Script</b>"
   ]
  },
  {
   "cell_type": "code",
   "execution_count": 5,
   "metadata": {
    "collapsed": false,
    "deletable": true,
    "editable": true,
    "scrolled": false
   },
   "outputs": [
    {
     "name": "stdout",
     "output_type": "stream",
     "text": [
      "---------\n",
      "FOLD 1\n",
      "Fold r2_score : 0.578509382665\n",
      "---------\n",
      "FOLD 2\n",
      "Fold r2_score : 0.590783643572\n",
      "---------\n",
      "FOLD 3\n",
      "Fold r2_score : 0.629377221441\n",
      "---------\n",
      "FOLD 4\n",
      "Fold r2_score : 0.628142123004\n",
      "---------\n",
      "FOLD 5\n",
      "Fold r2_score : 0.455449547582\n",
      "Global OOF r2_score : 0.572060803892\n"
     ]
    }
   ],
   "source": [
    "model = \"et\"\n",
    "preds_simple, preds_avg, cv_score = fitpredict(model, train, test, y)"
   ]
  },
  {
   "cell_type": "code",
   "execution_count": 6,
   "metadata": {
    "collapsed": false,
    "deletable": true,
    "editable": true
   },
   "outputs": [],
   "source": [
    "# Save predictions\n",
    "pd.DataFrame({\"ID\": test_ids[0], \"y\": preds_simple}).to_csv(\"preds/\" + model + \"_simple.csv\", index = False)\n",
    "pd.DataFrame({\"ID\": test_ids[0], \"y\": preds_avg}).to_csv(\"preds/\" + model + \"_avg.csv\", index = False)\n"
   ]
  },
  {
   "cell_type": "code",
   "execution_count": null,
   "metadata": {
    "collapsed": true,
    "deletable": true,
    "editable": true
   },
   "outputs": [],
   "source": []
  }
 ],
 "metadata": {
  "anaconda-cloud": {},
  "kernelspec": {
   "display_name": "Python 3",
   "language": "python",
   "name": "python3"
  },
  "language_info": {
   "codemirror_mode": {
    "name": "ipython",
    "version": 3
   },
   "file_extension": ".py",
   "mimetype": "text/x-python",
   "name": "python",
   "nbconvert_exporter": "python",
   "pygments_lexer": "ipython3",
   "version": "3.5.2"
  },
  "widgets": {
   "state": {},
   "version": "1.1.2"
  }
 },
 "nbformat": 4,
 "nbformat_minor": 0
}
