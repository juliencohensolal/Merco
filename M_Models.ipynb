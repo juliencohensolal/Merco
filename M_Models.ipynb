{
 "cells": [
  {
   "cell_type": "code",
   "execution_count": 1,
   "metadata": {
    "collapsed": false
   },
   "outputs": [],
   "source": [
    "# Imports\n",
    "import pandas as pd\n",
    "import numpy as np\n",
    "from IPython.display import display\n",
    "import matplotlib.pyplot as plt\n",
    "import seaborn as sns\n",
    "import warnings\n",
    "from sklearn.model_selection import KFold\n",
    "from sklearn.linear_model import LassoCV\n",
    "from sklearn.ensemble import ExtraTreesRegressor\n",
    "from sklearn.metrics import r2_score\n",
    "\n",
    "# Definitions\n",
    "pd.set_option('display.float_format', lambda x: '%.3f' % x)\n",
    "%matplotlib inline\n",
    "warnings.simplefilter('ignore')\n",
    "N_JOBS = -1\n",
    "SEED = 2017\n",
    "FOLDS = 5\n",
    "SHIFT = 5"
   ]
  },
  {
   "cell_type": "code",
   "execution_count": 2,
   "metadata": {
    "collapsed": false
   },
   "outputs": [
    {
     "data": {
      "text/plain": [
       "(4209, 570)"
      ]
     },
     "metadata": {},
     "output_type": "display_data"
    },
    {
     "data": {
      "text/html": [
       "<div>\n",
       "<table border=\"1\" class=\"dataframe\">\n",
       "  <thead>\n",
       "    <tr style=\"text-align: right;\">\n",
       "      <th></th>\n",
       "      <th>ID</th>\n",
       "      <th>X10</th>\n",
       "      <th>X12</th>\n",
       "      <th>X13</th>\n",
       "      <th>X14</th>\n",
       "      <th>X15</th>\n",
       "      <th>X16</th>\n",
       "      <th>X17</th>\n",
       "      <th>X18</th>\n",
       "      <th>X19</th>\n",
       "      <th>...</th>\n",
       "      <th>srp_3</th>\n",
       "      <th>srp_4</th>\n",
       "      <th>srp_5</th>\n",
       "      <th>srp_6</th>\n",
       "      <th>srp_7</th>\n",
       "      <th>srp_8</th>\n",
       "      <th>srp_9</th>\n",
       "      <th>srp_10</th>\n",
       "      <th>srp_11</th>\n",
       "      <th>srp_12</th>\n",
       "    </tr>\n",
       "  </thead>\n",
       "  <tbody>\n",
       "    <tr>\n",
       "      <th>0</th>\n",
       "      <td>0</td>\n",
       "      <td>0</td>\n",
       "      <td>0</td>\n",
       "      <td>1</td>\n",
       "      <td>0</td>\n",
       "      <td>0</td>\n",
       "      <td>0</td>\n",
       "      <td>0</td>\n",
       "      <td>1</td>\n",
       "      <td>0</td>\n",
       "      <td>...</td>\n",
       "      <td>1.393</td>\n",
       "      <td>-1.393</td>\n",
       "      <td>-2.786</td>\n",
       "      <td>-6.964</td>\n",
       "      <td>1.393</td>\n",
       "      <td>-2.786</td>\n",
       "      <td>-1.393</td>\n",
       "      <td>5.571</td>\n",
       "      <td>-2.786</td>\n",
       "      <td>-1.393</td>\n",
       "    </tr>\n",
       "    <tr>\n",
       "      <th>1</th>\n",
       "      <td>5761</td>\n",
       "      <td>0</td>\n",
       "      <td>0</td>\n",
       "      <td>0</td>\n",
       "      <td>0</td>\n",
       "      <td>0</td>\n",
       "      <td>0</td>\n",
       "      <td>0</td>\n",
       "      <td>0</td>\n",
       "      <td>0</td>\n",
       "      <td>...</td>\n",
       "      <td>-1.393</td>\n",
       "      <td>0.000</td>\n",
       "      <td>-2.786</td>\n",
       "      <td>-5.571</td>\n",
       "      <td>0.000</td>\n",
       "      <td>1.393</td>\n",
       "      <td>-2.786</td>\n",
       "      <td>-4.179</td>\n",
       "      <td>-4.179</td>\n",
       "      <td>0.000</td>\n",
       "    </tr>\n",
       "  </tbody>\n",
       "</table>\n",
       "<p>2 rows × 570 columns</p>\n",
       "</div>"
      ],
      "text/plain": [
       "     ID  X10  X12  X13  X14  X15  X16  X17  X18  X19   ...    srp_3  srp_4  \\\n",
       "0     0    0    0    1    0    0    0    0    1    0   ...    1.393 -1.393   \n",
       "1  5761    0    0    0    0    0    0    0    0    0   ...   -1.393  0.000   \n",
       "\n",
       "   srp_5  srp_6  srp_7  srp_8  srp_9  srp_10  srp_11  srp_12  \n",
       "0 -2.786 -6.964  1.393 -2.786 -1.393   5.571  -2.786  -1.393  \n",
       "1 -2.786 -5.571  0.000  1.393 -2.786  -4.179  -4.179   0.000  \n",
       "\n",
       "[2 rows x 570 columns]"
      ]
     },
     "metadata": {},
     "output_type": "display_data"
    },
    {
     "data": {
      "text/plain": [
       "(4209, 1)"
      ]
     },
     "metadata": {},
     "output_type": "display_data"
    },
    {
     "data": {
      "text/html": [
       "<div>\n",
       "<table border=\"1\" class=\"dataframe\">\n",
       "  <thead>\n",
       "    <tr style=\"text-align: right;\">\n",
       "      <th></th>\n",
       "      <th>y</th>\n",
       "    </tr>\n",
       "  </thead>\n",
       "  <tbody>\n",
       "    <tr>\n",
       "      <th>0</th>\n",
       "      <td>130.810</td>\n",
       "    </tr>\n",
       "    <tr>\n",
       "      <th>1</th>\n",
       "      <td>115.070</td>\n",
       "    </tr>\n",
       "  </tbody>\n",
       "</table>\n",
       "</div>"
      ],
      "text/plain": [
       "        y\n",
       "0 130.810\n",
       "1 115.070"
      ]
     },
     "metadata": {},
     "output_type": "display_data"
    },
    {
     "data": {
      "text/plain": [
       "(4209, 570)"
      ]
     },
     "metadata": {},
     "output_type": "display_data"
    },
    {
     "data": {
      "text/html": [
       "<div>\n",
       "<table border=\"1\" class=\"dataframe\">\n",
       "  <thead>\n",
       "    <tr style=\"text-align: right;\">\n",
       "      <th></th>\n",
       "      <th>ID</th>\n",
       "      <th>X10</th>\n",
       "      <th>X12</th>\n",
       "      <th>X13</th>\n",
       "      <th>X14</th>\n",
       "      <th>X15</th>\n",
       "      <th>X16</th>\n",
       "      <th>X17</th>\n",
       "      <th>X18</th>\n",
       "      <th>X19</th>\n",
       "      <th>...</th>\n",
       "      <th>srp_3</th>\n",
       "      <th>srp_4</th>\n",
       "      <th>srp_5</th>\n",
       "      <th>srp_6</th>\n",
       "      <th>srp_7</th>\n",
       "      <th>srp_8</th>\n",
       "      <th>srp_9</th>\n",
       "      <th>srp_10</th>\n",
       "      <th>srp_11</th>\n",
       "      <th>srp_12</th>\n",
       "    </tr>\n",
       "  </thead>\n",
       "  <tbody>\n",
       "    <tr>\n",
       "      <th>0</th>\n",
       "      <td>1</td>\n",
       "      <td>0</td>\n",
       "      <td>0</td>\n",
       "      <td>0</td>\n",
       "      <td>0</td>\n",
       "      <td>0</td>\n",
       "      <td>0</td>\n",
       "      <td>0</td>\n",
       "      <td>0</td>\n",
       "      <td>0</td>\n",
       "      <td>...</td>\n",
       "      <td>1.393</td>\n",
       "      <td>-2.786</td>\n",
       "      <td>-2.786</td>\n",
       "      <td>-4.179</td>\n",
       "      <td>1.393</td>\n",
       "      <td>2.786</td>\n",
       "      <td>0.000</td>\n",
       "      <td>-22.286</td>\n",
       "      <td>0.000</td>\n",
       "      <td>0.000</td>\n",
       "    </tr>\n",
       "    <tr>\n",
       "      <th>1</th>\n",
       "      <td>2</td>\n",
       "      <td>0</td>\n",
       "      <td>0</td>\n",
       "      <td>0</td>\n",
       "      <td>0</td>\n",
       "      <td>0</td>\n",
       "      <td>0</td>\n",
       "      <td>0</td>\n",
       "      <td>0</td>\n",
       "      <td>1</td>\n",
       "      <td>...</td>\n",
       "      <td>-2.786</td>\n",
       "      <td>-1.393</td>\n",
       "      <td>-2.786</td>\n",
       "      <td>-1.393</td>\n",
       "      <td>-1.393</td>\n",
       "      <td>1.393</td>\n",
       "      <td>0.000</td>\n",
       "      <td>-11.143</td>\n",
       "      <td>-4.179</td>\n",
       "      <td>0.000</td>\n",
       "    </tr>\n",
       "  </tbody>\n",
       "</table>\n",
       "<p>2 rows × 570 columns</p>\n",
       "</div>"
      ],
      "text/plain": [
       "   ID  X10  X12  X13  X14  X15  X16  X17  X18  X19   ...    srp_3  srp_4  \\\n",
       "0   1    0    0    0    0    0    0    0    0    0   ...    1.393 -2.786   \n",
       "1   2    0    0    0    0    0    0    0    0    1   ...   -2.786 -1.393   \n",
       "\n",
       "   srp_5  srp_6  srp_7  srp_8  srp_9  srp_10  srp_11  srp_12  \n",
       "0 -2.786 -4.179  1.393  2.786  0.000 -22.286   0.000   0.000  \n",
       "1 -2.786 -1.393 -1.393  1.393  0.000 -11.143  -4.179   0.000  \n",
       "\n",
       "[2 rows x 570 columns]"
      ]
     },
     "metadata": {},
     "output_type": "display_data"
    },
    {
     "data": {
      "text/plain": [
       "(4209, 1)"
      ]
     },
     "metadata": {},
     "output_type": "display_data"
    },
    {
     "data": {
      "text/html": [
       "<div>\n",
       "<table border=\"1\" class=\"dataframe\">\n",
       "  <thead>\n",
       "    <tr style=\"text-align: right;\">\n",
       "      <th></th>\n",
       "      <th>0</th>\n",
       "    </tr>\n",
       "  </thead>\n",
       "  <tbody>\n",
       "    <tr>\n",
       "      <th>0</th>\n",
       "      <td>1</td>\n",
       "    </tr>\n",
       "    <tr>\n",
       "      <th>1</th>\n",
       "      <td>2</td>\n",
       "    </tr>\n",
       "  </tbody>\n",
       "</table>\n",
       "</div>"
      ],
      "text/plain": [
       "   0\n",
       "0  1\n",
       "1  2"
      ]
     },
     "metadata": {},
     "output_type": "display_data"
    }
   ],
   "source": [
    "# Get data\n",
    "train = pd.read_csv(\"clean_data/train.csv\")\n",
    "y = pd.read_csv(\"clean_data/y.csv\")\n",
    "test = pd.read_csv(\"clean_data/test.csv\")\n",
    "test_ids = pd.read_csv(\"clean_data/test_ids.csv\", header = None)\n",
    "\n",
    "display(train.shape)\n",
    "display(train.head(2))\n",
    "display(y.shape)\n",
    "display(y.head(2))\n",
    "display(test.shape)\n",
    "display(test.head(2))\n",
    "display(test_ids.shape)\n",
    "display(test_ids.head(2))\n"
   ]
  },
  {
   "cell_type": "code",
   "execution_count": 3,
   "metadata": {
    "collapsed": false
   },
   "outputs": [],
   "source": [
    "# Definitions for ML models\n",
    "\n",
    "def fit_lasso(X_train, y_train, seed = SEED, verbose = False) :\n",
    "    la = LassoCV(\n",
    "        alphas = [0.001, 0.003, 0.006, 0.01, 0.03, 0.06], \n",
    "        n_jobs = N_JOBS, \n",
    "        random_state = seed, \n",
    "        #tol = 0.0005,\n",
    "        max_iter = 50000, \n",
    "        normalize  = True)\n",
    "    la.fit(X_train, y_train)\n",
    "    \n",
    "    alpha = la.alpha_\n",
    "    la = LassoCV(\n",
    "        alphas = [alpha * .7, alpha * .75, alpha * .8, alpha * .85, alpha * .9, \n",
    "                  alpha * .95, alpha, alpha * 1.05, alpha * 1.1, alpha * 1.15, alpha * 1.25, alpha * 1.3], \n",
    "        n_jobs = N_JOBS, \n",
    "        random_state = seed, \n",
    "        #tol = 0.0005,\n",
    "        max_iter = 50000, \n",
    "        normalize  = True)\n",
    "    la.fit(X_train, y_train)\n",
    "    if (verbose) :\n",
    "        print(\"LASSO Best alpha :\", la.alpha_)\n",
    "        print(\"LASSO iter :\", la.n_iter_)\n",
    "\n",
    "    return (la)\n",
    "\n",
    "\n",
    "def fit_extra_trees(X_train, y_train, seed = SEED, verbose = False) :\n",
    "    # TODO : better criterion available?\n",
    "    et = ExtraTreesRegressor(\n",
    "        n_estimators = 200,\n",
    "        criterion = \"mse\", \n",
    "        max_features = 1.0,\n",
    "        max_depth = 5,\n",
    "        min_samples_split = 5,\n",
    "        min_samples_leaf = 2, \n",
    "        #bootstrap = True, \n",
    "        n_jobs = N_JOBS,\n",
    "        random_state = seed)\n",
    "    et.fit(X_train, y_train)                           \n",
    "\n",
    "    return (et)\n"
   ]
  },
  {
   "cell_type": "code",
   "execution_count": 4,
   "metadata": {
    "collapsed": false
   },
   "outputs": [],
   "source": [
    "# Fit and predict\n",
    "\n",
    "def fitpredict(model, train, test, y) :\n",
    "    all_cvs = 0\n",
    "    all_preds = np.zeros(test.shape[0])\n",
    "\n",
    "    # Do cross-val\n",
    "    kf = KFold(n_splits = FOLDS, shuffle = True, random_state = SEED)\n",
    "    oof_preds = pd.DataFrame()\n",
    "    oof_targets = pd.DataFrame()\n",
    "    for i, (train_index, test_index) in enumerate(kf.split(train)):\n",
    "        print(\"---------\")\n",
    "        print(\"FOLD \" + str(i + 1))\n",
    "        X_train, X_val = train.iloc[train_index], train.iloc[test_index]\n",
    "        y_train, y_val = y.iloc[train_index], y.iloc[test_index]\n",
    "\n",
    "        # Fit and predict\n",
    "        if(model == \"la\") :\n",
    "            predictor = fit_lasso(X_train, y_train.y, seed = (SEED * i))\n",
    "        elif(model == \"et\") :\n",
    "            predictor = fit_extra_trees(X_train, y_train.y, seed = (SEED * i))\n",
    "        \n",
    "        # Compute score on this fold\n",
    "        preds_val = predictor.predict(X_val)    \n",
    "        fold_score = r2_score(y_val.y, preds_val)\n",
    "        #fold_score = r2_score(np.exp(y_val.y) - SHIFT, np.exp(preds_val) - SHIFT)\n",
    "        print(\"Fold r2_score : \" + str(fold_score))\n",
    "        \n",
    "        # Store OOF predictions\n",
    "        oof_preds = pd.concat([pd.Series(oof_preds), pd.Series(preds_val)], axis = 0)\n",
    "        oof_targets = pd.concat([pd.Series(oof_targets), pd.Series(y_val.y)], axis = 0)\n",
    "        \n",
    "        # Predict on test set having learned just on this X_train\n",
    "        preds_test = predictor.predict(test)\n",
    "        all_preds += preds_test\n",
    "    \n",
    "    # Compte error on OOF predictions\n",
    "    cv_score = r2_score(oof_targets, oof_preds)\n",
    "    #cv_score = r2_score(np.exp(oof_targets) - SHIFT, np.exp(oof_preds) - SHIFT)\n",
    "    print(\"Global OOF r2_score : \" + str(cv_score))\n",
    "    \n",
    "    # METHOD 1\n",
    "    # Compute average of test set predictions\n",
    "    preds_avg = all_preds / FOLDS\n",
    "    \n",
    "    # METHOD 2\n",
    "    # Learn and predict on whole sets\n",
    "    if(model == \"la\") :\n",
    "        predictor = fit_lasso(train, y, seed = (SEED * i))\n",
    "    elif(model == \"et\") :\n",
    "        predictor = fit_extra_trees(train, y, seed = (SEED * i))\n",
    "    preds_simple = predictor.predict(test)\n",
    "    \n",
    "        \n",
    "    return(preds_simple, preds_avg, cv_score)\n"
   ]
  },
  {
   "cell_type": "code",
   "execution_count": null,
   "metadata": {
    "collapsed": true
   },
   "outputs": [],
   "source": []
  },
  {
   "cell_type": "markdown",
   "metadata": {},
   "source": [
    "<b>Script</b>"
   ]
  },
  {
   "cell_type": "code",
   "execution_count": 5,
   "metadata": {
    "collapsed": false,
    "scrolled": false
   },
   "outputs": [
    {
     "name": "stdout",
     "output_type": "stream",
     "text": [
      "---------\n",
      "FOLD 1\n",
      "Fold r2_score : 0.578953838788\n",
      "---------\n",
      "FOLD 2\n",
      "Fold r2_score : 0.592223571917\n",
      "---------\n",
      "FOLD 3\n",
      "Fold r2_score : 0.639278680919\n",
      "---------\n",
      "FOLD 4\n",
      "Fold r2_score : 0.65075866797\n",
      "---------\n",
      "FOLD 5\n",
      "Fold r2_score : 0.464321084613\n",
      "Global OOF r2_score : 0.580302314181\n"
     ]
    }
   ],
   "source": [
    "model = \"la\"\n",
    "preds_simple, preds_avg, cv_score = fitpredict(model, train, test, y)"
   ]
  },
  {
   "cell_type": "code",
   "execution_count": 7,
   "metadata": {
    "collapsed": false
   },
   "outputs": [],
   "source": [
    "# Save predictions\n",
    "pd.DataFrame({\"ID\": test_ids[0], \"y\": preds_simple}).to_csv(\"preds/\" + model + \"_simple.csv\", index = False)\n",
    "pd.DataFrame({\"ID\": test_ids[0], \"y\": preds_avg}).to_csv(\"preds/\" + model + \"_avg.csv\", index = False)\n"
   ]
  },
  {
   "cell_type": "code",
   "execution_count": null,
   "metadata": {
    "collapsed": true
   },
   "outputs": [],
   "source": []
  }
 ],
 "metadata": {
  "anaconda-cloud": {},
  "kernelspec": {
   "display_name": "Python [Root]",
   "language": "python",
   "name": "Python [Root]"
  },
  "language_info": {
   "codemirror_mode": {
    "name": "ipython",
    "version": 3
   },
   "file_extension": ".py",
   "mimetype": "text/x-python",
   "name": "python",
   "nbconvert_exporter": "python",
   "pygments_lexer": "ipython3",
   "version": "3.5.2"
  }
 },
 "nbformat": 4,
 "nbformat_minor": 0
}
