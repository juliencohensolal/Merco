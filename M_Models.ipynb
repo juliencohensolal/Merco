{
 "cells": [
  {
   "cell_type": "code",
   "execution_count": 1,
   "metadata": {
    "collapsed": false,
    "deletable": true,
    "editable": true
   },
   "outputs": [
    {
     "name": "stderr",
     "output_type": "stream",
     "text": [
      "C:\\Anaconda3\\lib\\site-packages\\sklearn\\cross_validation.py:44: DeprecationWarning: This module was deprecated in version 0.18 in favor of the model_selection module into which all the refactored classes and functions are moved. Also note that the interface of the new CV iterators are different from that of this module. This module will be removed in 0.20.\n",
      "  \"This module will be removed in 0.20.\", DeprecationWarning)\n"
     ]
    }
   ],
   "source": [
    "# Imports\n",
    "import pandas as pd\n",
    "import numpy as np\n",
    "from IPython.display import HTML, display\n",
    "import matplotlib.pyplot as plt\n",
    "import seaborn as sns\n",
    "import warnings\n",
    "from sklearn.model_selection import KFold\n",
    "from sklearn.linear_model import LassoCV\n",
    "from sklearn.ensemble import ExtraTreesRegressor\n",
    "from sklearn.metrics import r2_score\n",
    "import xgboost as xgb\n",
    "\n",
    "# Definitions\n",
    "pd.set_option('display.float_format', lambda x: '%.3f' % x)\n",
    "HTML(\"<style>.container { width: 80% !important; }</style>\")\n",
    "%matplotlib inline\n",
    "warnings.simplefilter('ignore')\n",
    "N_JOBS = 18\n",
    "SEED = 420\n",
    "FOLDS = 10\n",
    "SHIFT = 5"
   ]
  },
  {
   "cell_type": "code",
   "execution_count": 2,
   "metadata": {
    "collapsed": false,
    "deletable": true,
    "editable": true
   },
   "outputs": [],
   "source": [
    "# Definitions for ML models\n",
    "\n",
    "def fit_lasso(X_train, y_train, seed = SEED, verbose = False) :\n",
    "    la = LassoCV(\n",
    "        alphas = [0.001, 0.003, 0.006, 0.01, 0.03, 0.06], \n",
    "        n_jobs = N_JOBS, \n",
    "        random_state = seed, \n",
    "        #tol = 0.0005,\n",
    "        max_iter = 50000, \n",
    "        normalize  = True)\n",
    "    la.fit(X_train, y_train)\n",
    "    \n",
    "    alpha = la.alpha_\n",
    "    la = LassoCV(\n",
    "        alphas = [alpha * .7, alpha * .75, alpha * .8, alpha * .85, alpha * .9, \n",
    "                  alpha * .95, alpha, alpha * 1.05, alpha * 1.1, alpha * 1.15, alpha * 1.25, alpha * 1.3], \n",
    "        n_jobs = N_JOBS, \n",
    "        random_state = seed, \n",
    "        #tol = 0.0005,\n",
    "        max_iter = 50000, \n",
    "        normalize  = True)\n",
    "    la.fit(X_train, y_train)\n",
    "    if (verbose) :\n",
    "        print(\"LASSO Best alpha :\", la.alpha_)\n",
    "        print(\"LASSO iter :\", la.n_iter_)\n",
    "\n",
    "    return (la)\n",
    "\n",
    "\n",
    "def fit_extra_trees(X_train, y_train, seed = SEED, verbose = False) :\n",
    "    et = ExtraTreesRegressor(\n",
    "        n_estimators = 300,\n",
    "        criterion = \"mse\", \n",
    "        max_features = 0.6,\n",
    "        max_depth = 6,\n",
    "        min_samples_split = 10,\n",
    "        min_samples_leaf = 10, \n",
    "        #bootstrap = True, \n",
    "        n_jobs = N_JOBS,\n",
    "        random_state = seed)\n",
    "    et.fit(X_train, y_train)                           \n",
    "\n",
    "    return (et)\n",
    "\n",
    "\n",
    "def xgb_r2_score(preds, dtrain):\n",
    "    labels = dtrain.get_label()\n",
    "    return(\"r2\", r2_score(labels, preds))\n",
    "\n",
    "\n",
    "def fit_xgboost(X_train, y_train, seed = SEED, verbose = True) :    \n",
    "    y_mean = np.mean(y_train)\n",
    "    xg_params = {\n",
    "        \"eta\" : 0.004,\n",
    "        \"max_depth\" : 3,\n",
    "        \"min_child_weight\" : 2,\n",
    "        \"subsample\" : 1.0,\n",
    "        \"colsample_bytree\" : 0.8,\n",
    "        \"colsample_bylevel\" : 0.6,\n",
    "        \"nthread\" : N_JOBS, \n",
    "        \"base_score\" : y_mean,\n",
    "        \"eval_metric\" : \"rmse\",\n",
    "        \"objective\" : \"reg:linear\",\n",
    "    }\n",
    "    \n",
    "    # XGBoost needs a validation set to find best iteration\n",
    "    X_testVal = X_train.sample(frac = (1 / FOLDS), random_state = seed)\n",
    "    X_trainVal = X_train.drop(X_testVal.index, axis = 0)\n",
    "    X_testVal_y = y_train.sample(frac = (1 / FOLDS), random_state = seed)\n",
    "    X_trainVal_y = y_train.drop(X_testVal_y.index, axis = 0)\n",
    "\n",
    "    # Find best iteration\n",
    "    xg_trainVal = xgb.DMatrix(X_trainVal, label = X_trainVal_y)\n",
    "    xg_testVal = xgb.DMatrix(X_testVal, label = X_testVal_y)   \n",
    "    watchlist = [(xg_trainVal, \"train\"), (xg_testVal, \"eval\")]        \n",
    "    xg = xgb.train(\n",
    "        params = xg_params,\n",
    "        dtrain = xg_trainVal,\n",
    "        evals = watchlist, \n",
    "        num_boost_round = 100000,\n",
    "        early_stopping_rounds = 100,\n",
    "        feval = xgb_r2_score, \n",
    "        maximize = True,\n",
    "        verbose_eval = False)\n",
    "\n",
    "    if (verbose) :\n",
    "        print(\"XGBOOST best_iteration : \" + str(xg.best_iteration))\n",
    "        print(\"XGBOOST best_iteration adjusted : \" + str(int(xg.best_iteration * (1 + (1 / FOLDS)))))\n",
    "    best_iteration = int(xg.best_iteration * (1 + (1 / FOLDS)))\n",
    "    #best_iteration = xg.best_iteration\n",
    "    \n",
    "    # Now fit on whole train set with (approximated) best iteration\n",
    "    xg_train = xgb.DMatrix(X_train, label = y_train)\n",
    "    xg = xgb.train(\n",
    "        params = xg_params, \n",
    "        dtrain = xg_train, \n",
    "        num_boost_round = best_iteration,\n",
    "        #num_boost_round = 1250,\n",
    "        feval = xgb_r2_score, \n",
    "        verbose_eval = False)\n",
    "    \n",
    "    return (xg)"
   ]
  },
  {
   "cell_type": "code",
   "execution_count": 3,
   "metadata": {
    "collapsed": false,
    "deletable": true,
    "editable": true
   },
   "outputs": [],
   "source": [
    "def fit_predict(model, X_train, y_train, X_test, seed = SEED) :\n",
    "    # Fit\n",
    "    if(model == \"la\") :\n",
    "        predictor = fit_lasso(X_train, y_train.y, seed = seed)\n",
    "    elif(model == \"et\") :\n",
    "        predictor = fit_extra_trees(X_train, y_train.y, seed = seed)\n",
    "    elif(model == \"xg\") :\n",
    "        predictor = fit_xgboost(X_train, y_train.y, seed = seed, verbose = True)\n",
    "\n",
    "    # Predict\n",
    "    if (model == \"xg\") :\n",
    "        xg_test = xgb.DMatrix(X_test)\n",
    "        preds_X_test = predictor.predict(xg_test)\n",
    "    else :\n",
    "        preds_X_test = predictor.predict(X_test)\n",
    "    \n",
    "    return(preds_X_test)\n",
    "\n",
    "\n",
    "def get_cv_score(model, X_train, X_train_y) :\n",
    "    oof_preds = pd.DataFrame()\n",
    "    oof_targets = pd.DataFrame()\n",
    "    kf = KFold(n_splits = FOLDS, shuffle = True, random_state = SEED)\n",
    "    for i, (train_index, test_index) in enumerate(kf.split(X_train)):\n",
    "        print(\"---------\")\n",
    "        print(\"FOLD \" + str(i + 1))\n",
    "        X_train_fold, X_test_fold = X_train.iloc[train_index], X_train.iloc[test_index]\n",
    "        y_train_fold, y_test_fold = X_train_y.iloc[train_index], X_train_y.iloc[test_index]\n",
    "        \n",
    "        # Fit and predict\n",
    "        preds_X_test_fold = fit_predict(model, X_train_fold, y_train_fold, X_test_fold, seed = (SEED * i))\n",
    "\n",
    "        # Assemble OOF predictions\n",
    "        oof_preds = pd.concat([pd.Series(oof_preds), pd.Series(preds_X_test_fold)], axis = 0)\n",
    "        oof_targets = pd.concat([pd.Series(oof_targets), pd.Series(y_test_fold.y)], axis = 0)\n",
    "        \n",
    "    # Compute error on concatenated OOF predictions\n",
    "    cv_score = r2_score(oof_targets, oof_preds)\n",
    "    #cv_score = r2_score(np.exp(oof_targets) - SHIFT, np.exp(oof_preds) - SHIFT)\n",
    "    print(\"***** Global OOF r2_score : \" + str(cv_score) + \" *****\")\n",
    "                    \n",
    "    return(cv_score, oof_targets, oof_preds)"
   ]
  },
  {
   "cell_type": "markdown",
   "metadata": {
    "deletable": true,
    "editable": true
   },
   "source": [
    "<b>Script</b>"
   ]
  },
  {
   "cell_type": "code",
   "execution_count": 4,
   "metadata": {
    "collapsed": false,
    "deletable": true,
    "editable": true
   },
   "outputs": [
    {
     "data": {
      "text/plain": [
       "(4209, 437)"
      ]
     },
     "metadata": {},
     "output_type": "display_data"
    },
    {
     "data": {
      "text/plain": [
       "(3367, 437)"
      ]
     },
     "metadata": {},
     "output_type": "display_data"
    },
    {
     "data": {
      "text/plain": [
       "(842, 437)"
      ]
     },
     "metadata": {},
     "output_type": "display_data"
    },
    {
     "data": {
      "text/plain": [
       "(4209, 437)"
      ]
     },
     "metadata": {},
     "output_type": "display_data"
    }
   ],
   "source": [
    "# Get data\n",
    "train = pd.read_csv(\"clean_data/train.csv\")\n",
    "y = pd.read_csv(\"clean_data/y.csv\")\n",
    "display(train.shape)\n",
    "\n",
    "X_train = pd.read_csv(\"clean_data/X_train.csv\")\n",
    "X_train_y = pd.read_csv(\"clean_data/X_train_y.csv\")\n",
    "display(X_train.shape)\n",
    "\n",
    "X_test = pd.read_csv(\"clean_data/X_test.csv\")\n",
    "X_test_y = pd.read_csv(\"clean_data/X_test_y.csv\")\n",
    "display(X_test.shape)\n",
    "\n",
    "test = pd.read_csv(\"clean_data/test.csv\")\n",
    "test_ids = pd.read_csv(\"clean_data/test_ids.csv\", header = None)\n",
    "display(test.shape)"
   ]
  },
  {
   "cell_type": "code",
   "execution_count": 7,
   "metadata": {
    "collapsed": false,
    "deletable": true,
    "editable": true,
    "scrolled": false
   },
   "outputs": [
    {
     "name": "stdout",
     "output_type": "stream",
     "text": [
      "---------\n",
      "FOLD 1\n",
      "XGBOOST best_iteration : 829\n",
      "XGBOOST best_iteration adjusted : 911\n",
      "---------\n",
      "FOLD 2\n",
      "XGBOOST best_iteration : 794\n",
      "XGBOOST best_iteration adjusted : 873\n",
      "---------\n",
      "FOLD 3\n",
      "XGBOOST best_iteration : 1388\n",
      "XGBOOST best_iteration adjusted : 1526\n",
      "---------\n",
      "FOLD 4\n",
      "XGBOOST best_iteration : 1043\n",
      "XGBOOST best_iteration adjusted : 1147\n",
      "---------\n",
      "FOLD 5\n",
      "XGBOOST best_iteration : 1804\n",
      "XGBOOST best_iteration adjusted : 1984\n",
      "---------\n",
      "FOLD 6\n",
      "XGBOOST best_iteration : 938\n",
      "XGBOOST best_iteration adjusted : 1031\n",
      "---------\n",
      "FOLD 7\n",
      "XGBOOST best_iteration : 742\n",
      "XGBOOST best_iteration adjusted : 816\n",
      "---------\n",
      "FOLD 8\n",
      "XGBOOST best_iteration : 733\n",
      "XGBOOST best_iteration adjusted : 806\n",
      "---------\n",
      "FOLD 9\n",
      "XGBOOST best_iteration : 972\n",
      "XGBOOST best_iteration adjusted : 1069\n",
      "---------\n",
      "FOLD 10\n",
      "XGBOOST best_iteration : 807\n",
      "XGBOOST best_iteration adjusted : 887\n",
      "***** Global OOF r2_score : 0.56750766042 *****\n"
     ]
    }
   ],
   "source": [
    "model = \"xg\"\n",
    "\n",
    "# Get CV score\n",
    "cv_score, oof_targets, oof_preds = get_cv_score(model, train, y)"
   ]
  },
  {
   "cell_type": "code",
   "execution_count": 8,
   "metadata": {
    "collapsed": false
   },
   "outputs": [
    {
     "data": {
      "image/png": "[encoded data removed]",
      "text/plain": [
       "<matplotlib.figure.Figure at 0x1fb5caa8c88>"
      ]
     },
     "metadata": {},
     "output_type": "display_data"
    }
   ],
   "source": [
    "# Plot predictions\n",
    "plt.scatter(oof_targets, oof_preds, c = \"blue\", marker = \"s\")\n",
    "plt.xlabel(\"oof_targets\")\n",
    "plt.ylabel(\"oof_preds\")\n",
    "plt.plot([70, 140], [70, 140], c = \"red\")\n",
    "plt.show()"
   ]
  },
  {
   "cell_type": "code",
   "execution_count": 6,
   "metadata": {
    "collapsed": false
   },
   "outputs": [
    {
     "name": "stdout",
     "output_type": "stream",
     "text": [
      "XGBOOST best_iteration : 1806\n",
      "XGBOOST best_iteration adjusted : 1986\n"
     ]
    }
   ],
   "source": [
    "'''# Save OOF preds for ensembling\n",
    "preds_X_test = fit_predict(model, X_train, X_train_y, X_test)\n",
    "pd.Series(preds_X_test).to_csv(\"preds/\" + model + \"_preds_X_test.csv\", index = False)'''\n",
    "\n",
    "# Predict test set\n",
    "preds_test = fit_predict(model, train, y, test)\n",
    "pd.DataFrame({\"ID\": test_ids[0], \"y\": preds_test}).to_csv(\"preds/\" + model + \"_preds_test.csv\", index = False) "
   ]
  }
 ],
 "metadata": {
  "anaconda-cloud": {},
  "kernelspec": {
   "display_name": "Python [Root]",
   "language": "python",
   "name": "Python [Root]"
  },
  "language_info": {
   "codemirror_mode": {
    "name": "ipython",
    "version": 3
   },
   "file_extension": ".py",
   "mimetype": "text/x-python",
   "name": "python",
   "nbconvert_exporter": "python",
   "pygments_lexer": "ipython3",
   "version": "3.5.2"
  },
  "widgets": {
   "state": {},
   "version": "1.1.2"
  }
 },
 "nbformat": 4,
 "nbformat_minor": 0
}
